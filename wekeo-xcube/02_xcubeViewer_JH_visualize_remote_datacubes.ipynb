{
 "cells": [
  {
   "cell_type": "code",
   "execution_count": null,
   "metadata": {},
   "outputs": [],
   "source": []
  },
  {
   "cell_type": "markdown",
   "metadata": {},
   "source": [
    "<img src='https://gitlab.eumetsat.int/eumetlab/oceans/ocean-training/tools/frameworks/-/raw/main/img/Standard_banner.png' align='right' width='100%'/>"
   ]
  },
  {
   "cell_type": "markdown",
   "metadata": {},
   "source": [
    "<font color=\"#138D75\">**WEkEO Training Service**</font> <br>\n",
    "**Copyright:** 2023 EUMETSAT <br>\n",
    "**License:** MIT <br>\n",
    "**Authors:** Anna-Lena Erdmann (EUMETSAT)"
   ]
  },
  {
   "cell_type": "markdown",
   "metadata": {},
   "source": [
    "<div class=\"alert alert-block alert-success\">\n",
    "<h3>xcube Viewer: Visualizing Remote Data Cubes </h3></div>"
   ]
  },
  {
   "cell_type": "markdown",
   "metadata": {},
   "source": [
    "<div class=\"alert alert-block alert-warning\">\n",
    "    \n",
    "<b>PREREQUISITES </b>\n",
    "    \n",
    "This notebook has the following prerequisites:\n",
    "  - access and execution of this notebook inside the **<a href=\"https://www.google.com/url?sa=t&rct=j&q=&esrc=s&source=web&cd=&cad=rja&uact=8&ved=2ahUKEwi3tvDwzdqFAxWCh_0HHSo1DwEQFnoECA8QAQ&url=https%3A%2F%2Fjupyterhub.prod.wekeo2.eu%2F&usg=AOvVaw1qgpIG2_El9SA6di0OfwQ6&opi=89978449\" target=\"_blank\"> WEkEO JupyterHub</a>**\n",
    "\n",
    "</div>\n",
    "<hr>"
   ]
  },
  {
   "cell_type": "markdown",
   "metadata": {},
   "source": [
    "# 1 Visualizing Remote Data Cubes\n",
    "\n",
    "### Data used\n",
    "\n",
    "The data used in this example is a pre-processed data cube of a variety of environmental variables - the <a href=\"https://cablab.readthedocs.io/en/latest/\" target=\"_blank\">Earth System Data Cube</a>. The Earth System Data Cube project supports science aroung the investigation of the Earth systems interactions by harmonizing the variables coming from different sources, sensors and providers into one sinfle data cube. \n",
    "\n",
    "The dataset is stored in **zarr** format.\n",
    " \n",
    "\n",
    "| Product Description  | Dataset ID | S3 Endpoint |\n",
    "|:--------------------:|:-------------:|:-------------:|\n",
    "|<a href=\"https://cablab.readthedocs.io/en/latest/\" target=\"_blank\">Earth System Data Cube</a> with more than 50 environmental variables  | esdc-8d-0.25deg-1x720x1440-2.1.1.zarr | http://data.rsc4earth.de/EarthSystemDataCube/v2.1.1/ |\n",
    "\n",
    "\n",
    "### Learning outcomes\n",
    "\n",
    "At the end of this notebook you will know;\n",
    "\n",
    "* how to visualize a remotely stored datacube with xcube Viewer\n",
    "\n",
    "### Outline\n",
    "\n",
    "The <a href=\"https://xcube.readthedocs.io/en/latest/index.html\" target=\"_blank\">xcube</a> software package has been developed to generate, manipulate, analyse, and publish data cubes from Earth Observation data. This notebook shows how the xcube Viewer can be used to visualize datacubes which are stored in a remote s3 bucket inside the Jupyter Notebook. \n",
    "\n",
    "This is useful in the following scenarios: \n",
    "\n",
    "* 1. You have created your own data cube, stored in in S3 bucket and want to share it with others\n",
    "* 2. You want to access and analyse Datacubes which are publicly available by any provider.\n",
    "\n",
    "\n",
    "<div class=\"alert alert-info\" role=\"alert\">\n",
    "\n",
    "## <a id='TOC_TOP'></a>Contents\n",
    "\n",
    "</div>\n",
    "    \n",
    " 1. [Import](#section0)\n",
    " 2. [Creating the config file](#section1)\n",
    " 3. [Viewing the Data with xcube Viewer](#section2)\n",
    "\n",
    "<hr>"
   ]
  },
  {
   "cell_type": "markdown",
   "metadata": {},
   "source": [
    "<div class=\"alert alert-info\" role=\"alert\">\n",
    "\n",
    "## 1. <a id='section0'></a>Import\n",
    "[Back to top](#TOC_TOP)\n",
    "    \n",
    "</div>"
   ]
  },
  {
   "cell_type": "code",
   "execution_count": 1,
   "metadata": {
    "tags": []
   },
   "outputs": [],
   "source": [
    "import os                                       # a library that allows us access to basic operating system commands like making directories\n",
    "from xcube.webapi.viewer import Viewer          # a library to visualize datacubes inside the Jupyter Notebook "
   ]
  },
  {
   "cell_type": "markdown",
   "metadata": {},
   "source": [
    "Set the xcube Viewer url to show the xcube Viewer inside the notebook. \n",
    "\n",
    "**Note: Replace the `<your_username>` with your WEkEO username.**"
   ]
  },
  {
   "cell_type": "code",
   "execution_count": null,
   "metadata": {},
   "outputs": [],
   "source": [
    "os.environ[\"XCUBE_JUPYTER_LAB_URL\"] = \"https://jupyterhub.prod.wekeo2.eu/user/<your username>/\""
   ]
  },
  {
   "cell_type": "markdown",
   "metadata": {},
   "source": [
    "<hr>"
   ]
  },
  {
   "cell_type": "markdown",
   "metadata": {},
   "source": [
    "<div class=\"alert alert-info\" role=\"alert\">\n",
    "\n",
    "## 2. <a id='section1'></a>Create a config file\n",
    "[Back to top](#TOC_TOP)\n",
    "    \n",
    "</div>"
   ]
  },
  {
   "cell_type": "markdown",
   "metadata": {},
   "source": [
    "Two main parts of the config file is the ``Datasets`` description and the ``Styles`` description. As our datacube is already in our environment, we don't have to explicitly define the ``Datasets`` parameters it in the config file. So we are only setting the ``Styles`` parameters. \n",
    "\n",
    "The ``Datasets`` description contains:\n",
    "* **Identifier**   *unique name for the datacube*\n",
    "* **Title**   *this is what the cube will be called in the Viewer*\n",
    "* **BoundingBox** *spatial extent of the dataset*\n",
    "* **FileSystem** *local or remote*\n",
    "* **Path** *file name of cube in directory*\n",
    "* **Style** *identifier of the style as defined below*\n",
    "* **TimeSeriesDataset** *type of time series*\n",
    "\n",
    "The ``Style`` description contains:\n",
    "* **Identifier** *unique name for the style*\n",
    "* **ColorMappings** \n",
    "    * **VariableName** *must be identical to the variable name in the cube*\n",
    "        * **ColorBar** *name of colorbar as in matplotlib*\n",
    "        * **ValueRange** *range of the dataset*"
   ]
  },
  {
   "cell_type": "code",
   "execution_count": 2,
   "metadata": {},
   "outputs": [],
   "source": [
    "viewer = Viewer(server_config={\n",
    "    \"Datasets\": [\n",
    "        {\n",
    "            \"Identifier\": \"remote\",\n",
    "            \"Title\" : \"ESDC\",\n",
    "            \"BoundingBox\" : [-180, -90, 180, 90],\n",
    "            \"FileSystem\" : \"s3\",\n",
    "            \"Endpoint\" : \"http://data.rsc4earth.de/download/\",\n",
    "            \"Path\": \"EarthSystemDataCube/v2.1.1/esdc-8d-0.25deg-1x720x1440-2.1.1.zarr\",\n",
    "            \"Anonymous\": True,\n",
    "            \"Style\" : \"default\",\n",
    "\n",
    "         }\n",
    "    ],\n",
    "    \"Styles\": [\n",
    "        {\n",
    "                \"Identifier\": \"default\",\n",
    "                \"ColorMappings\": {\n",
    "                    \"Rg\": {\"ColorBar\": \"plasma\", \"ValueRange\": [0., 500.]},\n",
    "                    \"aerosol_optical_thickness_550\": {\"ColorBar\": \"blues\", \"ValueRange\": [0., 1.]},\n",
    "                    \"aerosol_optical_thickness_670\": {\"ColorBar\": \"blues\", \"ValueRange\": [0., 1.]},\n",
    "                    \"aerosol_optical_thickness_870\": {\"ColorBar\": \"blues\", \"ValueRange\": [0., 1.]},\n",
    "                    \"aerosol_optical_thickness_1600\": {\"ColorBar\": \"blues\", \"ValueRange\": [0., 1.]},\n",
    "                    \"air_temperature_2m\":{\"ColorBar\": \"inferno\", \"ValueRange\": [250.0, 300.0]},\n",
    "                    \"analysed_sst\": {\"ColorBar\": \"inferno\", \"ValueRange\": [250.0, 300.0]},\n",
    "                    \"bare_soil_evaporation\":{\"ColorBar\": \"BrBG\", \"ValueRange\": [0.0, 1.0]},\n",
    "                    \"black_sky_albedo\": {\"ColorBar\": \"magma\", \"ValueRange\": [0.0, 1.0]}}\n",
    "                }\n",
    "            \n",
    "    ]\n",
    "})"
   ]
  },
  {
   "cell_type": "markdown",
   "metadata": {},
   "source": [
    "A style parameter is only set for a subset of the variables. You can try yourself to set the Style parameter for the remaining variables by exploring the variables, color bars and value ranges in the xucube Viewer in the next step. "
   ]
  },
  {
   "cell_type": "code",
   "execution_count": null,
   "metadata": {},
   "outputs": [],
   "source": [
    "viewer.info()"
   ]
  },
  {
   "cell_type": "markdown",
   "metadata": {},
   "source": [
    "<hr>\n",
    "<div class=\"alert alert-info\" role=\"alert\">\n",
    "\n",
    "## 3. <a id='section2'></a>Viewing the Data with xcube Viewer\n",
    "[Back to top](#TOC_TOP)\n",
    "\n",
    "</div>"
   ]
  },
  {
   "cell_type": "markdown",
   "metadata": {},
   "source": [
    "**Note: Try another date if the Viewer seems empty for a specific dataset. Not all datasets are available for the complete time range.**"
   ]
  },
  {
   "cell_type": "code",
   "execution_count": null,
   "metadata": {},
   "outputs": [],
   "source": [
    "viewer.show()"
   ]
  },
  {
   "cell_type": "markdown",
   "metadata": {},
   "source": [
    "<img src='./img/02_xcubeviewer_show.png' align='left' width='80%'/>"
   ]
  }
 ],
 "metadata": {
  "author": "Anna-Lena Erdmann",
  "description": "This Jupyter Notebook shows how to access and visualize any remotely stored datacube with xcube Viewer.",
  "image": "img/thumbs/02_thumb.png",
  "kernelspec": {
   "display_name": "Python 3.11.5 64-bit",
   "language": "python",
   "name": "python3"
  },
  "language_info": {
   "codemirror_mode": {
    "name": "ipython",
    "version": 3
   },
   "file_extension": ".py",
   "mimetype": "text/x-python",
   "name": "python",
   "nbconvert_exporter": "python",
   "pygments_lexer": "ipython3",
   "version": "3.11.5"
  },
  "deployment": {
   "wekeo": {
    "git": {
     "link": "https://github.com/wekeo/wekeo4data/blob/main/wekeo-xcube/02_xcubeViewer_JH_visualize_remote_datacubes.ipynb",
     "service_contact": "ops@eumetsat.int",
     "service_provider": "EUMETSAT"
    },
    "url": {
     "link": "https://jupyterhub.prod.wekeo2.eu/hub/user-redirect/lab/tree/public/wekeo4data/wekeo-xcube/02_xcubeViewer_JH_visualize_remote_datacubes.ipynb",
     "service_contact": "ops@eumetsat.int",
     "service_provider": "EUMETSAT"
    }
   }
  },
  "tags": {
   "theme": "Tools",
   "subtheme": [
    "xcube",
    "data cube"
   ],
   "variable": [
    "xcube viewer",
    "xcube",
    "tools",
    "data cube",
    "data access",
    "ESCD"
   ]
  },
  "title": "Visualising a remotely stored data cube in the xcube Viewer",
  "vscode": {
   "interpreter": {
    "hash": "69a843eb2806097c81d46a99bb39f1f0d8214ba0939f50116f16a105a7e284d3"
   }
  }
 },
 "nbformat": 4,
 "nbformat_minor": 4
}
