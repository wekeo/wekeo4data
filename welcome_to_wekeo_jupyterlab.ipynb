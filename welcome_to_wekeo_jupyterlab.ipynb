{
 "cells": [
  {
   "cell_type": "markdown",
   "metadata": {},
   "source": [
    "<img src='./img/LogoWekeo_Copernicus_RGB_0.png' alt='' align='centre' width='10%'></img>"
   ]
  },
  {
   "cell_type": "markdown",
   "metadata": {},
   "source": [
    "# Welcome to WEkEO Jupyter Lab!"
   ]
  },
  {
   "cell_type": "markdown",
   "metadata": {},
   "source": [
    "[WEkEO](https://www.wekeo.eu/) is the European Union Copernicus Programme DIAS (Data and Information Access Service) reference service for environmental data, virtual processing environments and skilled user support.\n",
    "\n",
    "WEkEO offers access to a variety of data, including different parameters from the Sentinel satellite missions. It also offers access to data from the Copernicus services, including marine, land, atmosphere, and climate data generated from merged satellite data, reanalsysis, and models. \n",
    "\n",
    "WEkEO also provides access to hosted processing resources within the WEkEO infrastructure. This allows users to work with the data provided without needed to bring the data to their own local computing systems. You are most likely on this infrastructure right now, using the Jupyter Lab environment.\n",
    "\n",
    "This notebook provides an orientation to this environment and some recommendations for how you can use the rest of the notebooks in this repository to learn about WEkEO and begin using the JupyterLab independently. The notebook is split into the following sections: \n",
    "\n",
    " - [1. What is WEkEO Jupyter Lab?](#wekeo_jlab)\n",
    " - [2. Jupyter Lab and the Python Environment](#jlab_env)\n",
    " - [3. Using Jupyter Notebooks](#j_notebook)\n",
    " - [4. Example scripts provided](#jn_examples)\n",
    " - [5. Get support](#wekeo_support)\n",
    " \n"
   ]
  },
  {
   "cell_type": "markdown",
   "metadata": {},
   "source": [
    "<hr>"
   ]
  },
  {
   "cell_type": "markdown",
   "metadata": {},
   "source": [
    "### <a id='wekeo_jlab'></a>1. What is WEkEO Jupyter Lab?"
   ]
  },
  {
   "cell_type": "markdown",
   "metadata": {},
   "source": [
    "\n",
    "On WEkEO, the JupyterLab is configured to allow users to execute Python code within the WEkEO infrastructure, taking full advantage of the Harmonised Data Access (HDA). Central to using WEkEO is the<a href=\"https://github.com/ecmwf/hda\">Harmonised Data Access API</a></span>, a REST interface, that allows users to subset and download datasets from WEkEO and within it's infrastructure. This includes the Jupyter Lab environment where you are most likely reading this notebook! You can find more information about the HDA in the [WEKEO HDA] sub-module of this repository.\n",
    "\n",
    "The JupyterLab on WEkEO is available free for all registered WEkEO users. It is primarily a testing and training space where wach instance provides the users with the ability to test workflows and conduct small-scale analyses. For extensive use, you can consider signing up for an Advanced Package and your own, expandable virtual environment. Any scripts you develop here can also be deployed in a WEkEO virtual machine with more resources. \n",
    "\n",
    "Interactive Jupyter Notebooks are provided to get you started both with the fundamentals of how WEkEO data access works, and how to work with Copernicus data for a wide range of applications. See [section 4.](#jn_examples) below for more information on these notebooks. Most of these notebooks are self explanatory so you can skip to [section 3.](#j_notebook) and [section 4.](#jn_examples) to get started if you want to quickly see what you can do in the WEkEO JupyterLab with Copernicus data. If you want to know more about how JupyterLab works, and how you can customise it for your own purposes, [section 2.](#jlab_env) will provide guidance on this.\n"
   ]
  },
  {
   "cell_type": "markdown",
   "metadata": {},
   "source": [
    "### <a id='jlab_env'></a>2. Jupyter Lab and the Python Environment "
   ]
  },
  {
   "cell_type": "markdown",
   "metadata": {},
   "source": [
    "JupyterLab is a web-based interactive development environment for Jupyter notebooks, code, and data. JupyterLab has many functions and you can read more about those [here](https://jupyterlab.readthedocs.io/en/stable/), but a short summary is provided below.\n",
    "\n",
    "On WEkEO's current JupyterLab instance, Python 3, R and Julia is installed with a variety of additional libraries. Each instance provides a limited amount of storage and RAM which you select when initiating.\n",
    "\n",
    "<br>\n",
    "\n",
    "<div style='text-align:center;'>\n",
    "<figure><img src='./img/JHUB_eg.png' width='75%' />\n",
    "    <figcaption><i>The WEkEO JupyterLab interface </i></figcaption>\n",
    "</figure>\n",
    "</div>\n",
    "\n",
    "The interface (shown above) is almost what you see when you first enter the WEkEO JupyterLab. On the right you see a \"Launcher\" tab from which you can start a new notebook, a new console (in this case, an interactive Python prompt), a terminal, and various other functions. If you are reading this notebook from the JupyterLab, you will already have conducted a git clone to add this repository to the home directory in your Jupyter Lab. If you are reading this on GitHub, you need to open a terminal in the WEkEO JupyterLab, type << cd public >> followed by << bash wekeo-git-clone.sh https://github.com/wekeo/wekeo-jupyter-lab.git >> This will create a clone of this repository of notebooks in your home directory. You can use the same shell script to clone any external repository you like. Alternatively, you can also access this notebook th the \"public\" folder in you JulyterHub instance. \n",
    "\n",
    "On the left of the JupyterLab interface, you can navigate through files currently in your space using the folder tab. When first opened, you will see the Jupyter Notebooks (.ipynb extension) provided to get you started using the JupyterLab including this one, and several folders containing other Jupyter Notebooks, see [section 4.](#jn_examples)for more detail about these. The icons along the top will allow you to open a new launcher, create folders and upload files. \n",
    "\n",
    "Other tabs on the left allow you to see the kernels and terminals that are running, commands you can use, and to manage your tabs. The kernel refers to the underlying operating system and programming language that can be used to run the code you write in JupyterLab. In the case of the WEkEO JupyterLab instance you are currently using, the Kernel is Python 3. The terminal, accessed from the launcher, is what you will need to install any additional Python packages or to use code management tools like Git to pull in or push out code you have written to external repositories. \n",
    "\n",
    "**Managing your Python environment**\n",
    "\n",
    "Using JupyterLab means that individual users do not have to deal with installation and management tasks. As such, the WEkEO JupyterLab has already been set up as such to suit the broad needs of the majority of users, and to run the training code provided here. However, if you find that you need to alter the Python environment (adding new packages etc) for your own needs, you can do this using the terminal. For information on managing packages using conda, follow [this link.](https://docs.conda.io/projects/conda/en/latest/user-guide/tasks/manage-pkgs.html)\n",
    "\n",
    "**Managing your code with Git**\n",
    "\n",
    "Git is a very useful tool to manage code that you write, whether singularly or as part of a team project. It allows you to track different versions and to collaborative with multiple people contributing to code simultaneously. Combined with web-based platforms for hosting Git repositories, such as GitLab or GitHub, it is also a powerful way to share code and find code that you might need to do your work. The content that you see on the Jupyter Lab here is managed via a number of git repositories, developed by experts across the WEkEO partners and contractors, and hosted on the [WEkEO GitHub](https://github.com/WEkEO). \n",
    "\n",
    "Using Git based commands from the terminal in the WEkEO JupyterLab you can retrieve any updates made to the repository used here in future, commit any changes you make to a repository of your own, or bring in code from other repositories that may be useful. You will need to use the script descripted above (in the public folder) to clone in new repositories, and any repositories you wish to push back will need to be copied back to the tmp folder, as Git cannot be used directly from your personal home directory. A good general beginners tutorial is available [here](https://product.hubspot.com/blog/git-and-github-tutorial-for-beginners)\n",
    "\n",
    "**Hints and tips**\n",
    "\n",
    "JupyterLab on WEkEO is a powerful environment for accessing and working with data, but everything has it's limitations. If you find yourself getting errors when running notebooks, a good first step is to restart the kernel and clear output - you can find this under the 'Kernel' drop down menu at the top of the notebooks. This will clear things in the memory space that's been used when you are running that notebook. You can also shut down any kernels and terminals you are not using (you can see these by clicking the ‘Running terminals and kernel’ tab on the left – its a square in a circle). You can see the memory currently in use in your JupyterLab, in the bottom left corner of the screen. You will also need to consider the amount of data queries you've made to the harmonised data access, as this data will also affect the amount of space you have to work in the interactive environment. In this case, delete data when you are done using it, and extract smaller subsets (in time and/or space and/or products). The notebooks and HDA access will work on WEkEO virtual machines, so if you really need to scale up your data use, check out the options WEkEO can provide.\n"
   ]
  },
  {
   "cell_type": "markdown",
   "metadata": {},
   "source": [
    "### <a id='j_notebook'></a>3. Using Jupyter Notebooks"
   ]
  },
  {
   "cell_type": "markdown",
   "metadata": {},
   "source": [
    "Jupyter notebooks provide an interactive environment for working with code written in a variety of programming languages, including Python as used in the examples described in [section 4.](#jn_examples)\n",
    "\n",
    "They are particularly useful for training, as it is easy to follow code in step-by-step fashion, and provides capacity for extensive commenting around blocks of executable code. Jupyter Notebooks aren't just for simple code, and can also be converted to standard .py files. \n",
    "\n",
    "Double clicking on any file with a .ipynb extension in your JupyterLab folders will open that notebook. Within the notebook you will see a variety of cells - some of which will appear clearly as text - these are markdown cells. Markdown is a light weight mark up language that allows you to add formatting to plain text files. It can be very useful to provide structure in your notebooks, to add interactive links etc. If you double click on a markdown cell (like this one!), you will see the commands used to implement the formatting. The other major cell type you will see in Jupyter Notebooks is 'code'. This can be in any language supported by JupyterLab with the kernel selected. In the examples provided here, this will be Python. \n",
    "\n",
    "Once it is opened, at the top of the notebook, you will editing functions, and a 'play' button that allows you to run the different cells in the notebook. You can also restart the kernel using the circular arrow. This is useful if you experience any problems running a notebook, for example if you have run a command many times and filled the memory of the interactive environment. Restarting the kernel will remove any temporarily created variables from the current session. "
   ]
  },
  {
   "cell_type": "markdown",
   "metadata": {},
   "source": [
    "### <a id='jn_examples'></a>4. Example code provided"
   ]
  },
  {
   "cell_type": "markdown",
   "metadata": {},
   "source": [
    "A wide range of code is provided in a set of thematically organised folders that you will see in the left hand panel of your JupyterLab environment. This code base will expand in time, so check the <a href=\"https://github.com/wekeo/wekeo-jupyter-lab\">WEkEO GitHub</a> for new data use examples and tutorials! \n",
    "\n",
    "- <a href=\".\\wekeo-hda\\wekeo_harmonised_data_access_api.ipynb\">Harmonised Data Access API (how to access data on WEkEO)</a></span>\n",
    "    - This is a great place to go next - here you will learn how to query and access data available through WEkEO's harmonised data access API.\n",
    "    \n",
    "After you've learned to access data, you can work through some example notebooks which will tell you more about the data itself and how it can be used: \n",
    "\n",
    "- <a href=\"https://github.com/wekeo/wekeo4oceans\">Marine (covering Sentinel-3 and Marine Service data)</a></span>\n",
    "- <a href=\"https://github.com/wekeo/wekeo4atmosphere/\">Atmosphere (covering Sentinel-3, 5P, and Atmospheric Service Data)</a></span>\n",
    "- <a href=\"https://github.com/wekeo/wekeo4climate/\">Climate (covering Climate Service data)</a></span>\n",
    "- <a href=\"https://github.com/wekeo/wekeo4land/\">Land (covering Sentinel-2 data)</a></span>\n",
    "\n",
    "There is a huge array of open source code available for working with Copernicus data. Not all of this code is designed specifically for WEkEO but with some adaptation you should be able to use many of the tools developed by the Copernicus data community\n"
   ]
  },
  {
   "cell_type": "markdown",
   "metadata": {},
   "source": [
    "### 5. Get support\n",
    "\n",
    "If you need help with the code provided here, the JupyterLab environment, or anything else related to WEkEO - you can contact support@wekeo.eu"
   ]
  },
  {
   "cell_type": "markdown",
   "metadata": {},
   "source": [
    "<hr>\n",
    "<a href=\"https://github.com/wekeo/wekeo4data\" target=\"_blank\">View on GitHub</a> | <a href=mailto:support@wekeo.eu target=\"_blank\">Contact WEkEO for support </a> </span></p>"
   ]
  },
  {
   "cell_type": "markdown",
   "metadata": {},
   "source": [
    "<img src='https://gitlab.eumetsat.int/eumetlab/oceans/ocean-training/tools/frameworks/-/raw/main/img/Standard_banner.png' align='right' width='100%'/>"
   ]
  }
 ],
 "metadata": {
  "author": "Hayley Evers-King",
  "description": "This notebook provides you an orientation to the WEkEO Jupyter Lab environment.",
  "image": "./img/img_01.png",
  "kernelspec": {
   "display_name": "Python 3.11.5 64-bit",
   "language": "python",
   "name": "python3"
  },
  "language_info": {
   "codemirror_mode": {
    "name": "ipython",
    "version": 3
   },
   "file_extension": ".py",
   "mimetype": "text/x-python",
   "name": "python",
   "nbconvert_exporter": "python",
   "pygments_lexer": "ipython3",
   "version": "3.11.5"
  },
  "services": {
   "wekeo": {
    "git": {
     "link": "https://github.com/wekeo/wekeo4data/blob/main/welcome_to_wekeo_jupyterlab.ipynb",
     "service_contact": "support@wekeo.eu",
     "service_provider": "WEkEO"
    },
    "jupyter": {
     "link": "https://jupyterhub-wekeo.apps.eumetsat.dpi.wekeo.eu/hub/user-redirect/lab/tree/public/wekeo4data/welcome_to_wekeo_jupyterlab.ipynb",
     "service_contact": "support@wekeo.eu",
     "service_provider": "WEkEO"
    }
   }
  },
  "tags": {
   "domain": [
    "Marine",
    "Atmosphere",
    "Climate",
    "Land",
    "Machine Learning"
   ],
   "platform": "WEkEO",
   "sensor": "WEkEO",
   "service": "WEkEO",
   "subtheme": "HDA",
   "tags": "Data access"
  },
  "title": "Welcome to WEkEO Jupyter Lab",
  "vscode": {
   "interpreter": {
    "hash": "69a843eb2806097c81d46a99bb39f1f0d8214ba0939f50116f16a105a7e284d3"
   }
  }
 },
 "nbformat": 4,
 "nbformat_minor": 4
}
