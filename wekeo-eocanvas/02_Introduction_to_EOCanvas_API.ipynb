{
 "cells": [
  {
   "cell_type": "markdown",
   "metadata": {},
   "source": [
    "<img src='https://gitlab.eumetsat.int/eumetlab/oceans/ocean-training/tools/frameworks/-/raw/main/img/Standard_banner.png' align='right' width='100%'/>"
   ]
  },
  {
   "cell_type": "markdown",
   "metadata": {},
   "source": [
    "<font color=\"#138D75\">**WEkEO Training**</font> <br>\n",
    "**Copyright:** 2024 EUMETSAT <br>\n",
    "**License:** MIT <br>\n",
    "**Authors:** Anna-Lena Erdmann (EUMETSAT)"
   ]
  },
  {
   "cell_type": "markdown",
   "metadata": {},
   "source": [
    "<html>\n",
    "  <div style=\"width:100%\">\n",
    "    <div style=\"float:left\"><a href=\"https://jupyterhub.prod.wekeo2.eu/hub/user-redirect/lab/tree/public/wekeo4data/wekeo-eocanvas/02_Introduction_to_EOCanvas_API.ipynb\"><img src=\"https://img.shields.io/badge/launch-WEKEO-1a4696.svg?style=flat&logo=data:image/png;base64,iVBORw0KGgoAAAANSUhEUgAAAA8AAAAMCAMAAACKnBfWAAAABGdBTUEAALGPC/xhBQAAACBjSFJNAAB6JgAAgIQAAPoAAACA6AAAdTAAAOpgAAA6mAAAF3CculE8AAABwlBMVEUAYbdepNtBc7VCdLhNhMQkXKpsn9RWltFZl9VlpNI3aK9fpNtMd7ZznM8pg8o4WJc2TZFHY6MmQYptiLxnqt5hptxfpNtfpNtfpNtgpdtip9x2uullqN1fpNtdo9pepdtanNQ9a65Bc7dCeb5nqt5fpNslUpssW6RMgcBTjstWldJhptxdo9phoNdkpdtfpNtoqNxepNplo9hepNthnNNfpdtelM1hptxSgL5dj8hoqt5fpNsjRYgjPog8WqBHa61TfLplqN1fpdtfpdxam9IyTIw2TZFGYaBoqt5hptxfpdtepNpfpNtgpdtjp9x5vu5do9pHgb5co9pepNtHgbwWN4AVP5AhU6JLgL9dl89epNphpttgpdtipttnqd1ho9glSIkWM3snSokeTJdHda9cksphndRmqNyTweaWxOePv+WfyemAs91QYphFUmpuclhKYHRwh5V8pNNdls6iyuq72fCNvuWIueCIlbtTW2hwcFNTY2lmfpSBpNJZj8lsq91xr99nqdx4suBrqds7V5AlNm85S20lRIJVcZxZgr1Uh8NcotpbotpdpNtGfrcTKnAOKXsYOYo4XKRJcbNHfbf////t/CgnAAAAUHRSTlMAAAAAAAAAAAAAAAAAAAAAAAAAAByF2PfyxGAJLcH+9pQvJgsav/7s57hBf/3gQdO69vH18dK4fN0+GLz96uSzPCq99JArIgkagNTz7r9bB4DtcFsAAAABYktHRJUIYHqDAAAAB3RJTUUH5wIKESIRAg6dCwAAALtJREFUCNdjYGAUERUTl5CUkmZiZmFlY2CUkZULAAJ5BUUlZXYOBhXVADAIVFPX0NTiZNDWAXKCgkNCw8IjInX1GPSjomNi4+ITEpOSU1LTDBgM0zMys7JzcvPyCwqLio0YjKNKSstKyisqq6prautMGEwD6hsam5pbWtvaOzq7zBjMdbq7g3p6+/onTJw02cKSwcoaYt8UG1s7ewcuBm5HJ7B7nF1c3dx5eBn4uD08vbx9fP38+QUEhYQB5Z40RP8+e1wAAAAldEVYdGRhdGU6Y3JlYXRlADIwMjMtMDItMTBUMTc6MzM6NDUrMDA6MDCCLR1xAAAAJXRFWHRkYXRlOm1vZGlmeQAyMDIzLTAyLTEwVDE3OjI2OjU5KzAwOjAw393bowAAAABJRU5ErkJggg==\" alt=\"Open in WEkEO\"></a></div>\n",
    "    <div style=\"float:left\"><p>&emsp;</p></div>\n",
    "  </div>    \n",
    "</html>"
   ]
  },
  {
   "cell_type": "markdown",
   "metadata": {},
   "source": [
    "<div class=\"alert alert-block alert-success\">\n",
    "<h3> WEkEO EOCanvas - Processing in the Cloud for Coperncius Data</h3></div>"
   ]
  },
  {
   "cell_type": "markdown",
   "metadata": {},
   "source": [
    "<div class=\"alert alert-block alert-warning\">\n",
    "    \n",
    "<b>PREREQUISITES </b>\n",
    "    \n",
    "This notebook has the following prerequisites:\n",
    "  - **<a href=\"https://my.wekeo.eu/user-registration\" target=\"_blank\">A WEkEO account</a>**\n",
    "  - Execution of the **<a href=\"https://github.com/wekeo/wekeo4data/blob/main/wekeo-eocanvas/01_Introduction_to_EOCanvas.ipynb\" target=\"_blank\">EOCanvas Introduction Notebook</a>**\n",
    "  \n",
    "\n",
    "</div>\n",
    "<hr>"
   ]
  },
  {
   "cell_type": "markdown",
   "metadata": {},
   "source": [
    "# 2 Introducing the EOCanvas API functions\n",
    "\n",
    "### Learning outcomes\n",
    "\n",
    "At the end of this notebook you will know;\n",
    "\n",
    "* how to list available processes of the EOCanvas\n",
    "* how to list the history of executed processes\n",
    "* how to get job logs \n",
    "* how to manually download processing results\n",
    "\n",
    "\n",
    "### Outline\n",
    "\n",
    "The The EOCanvas is a WEkEO service to process Coperncius data in the Cloud. This notebooks gives a deep dive into more useful functions of the EOCanvas API to help you work with the EOCanvas module.  \n",
    "\n",
    "<div class=\"alert alert-info\" role=\"alert\">\n",
    "\n",
    "### Contents <a id='totop'></a>\n",
    "\n",
    "</div>\n",
    "    \n",
    " 1. [Setting Up](#section0)\n",
    " 2. [Explore functions of the EOCanvas API](#section1)\n",
    "    1. [Which Processes are available in the EOCanvas?](#section11)\n",
    "    2. [Which processes did I submit to the EOCanvas?](#section12)\n",
    "    3. [How do I get the Job Logs of one specific Job?](#section13)\n",
    "    4. [How do I download the results from a job which has been launched in the past?](#section14)\n",
    "\n",
    "<hr>\n"
   ]
  },
  {
   "cell_type": "markdown",
   "metadata": {},
   "source": [
    "<div class=\"alert alert-info\" role=\"alert\">\n",
    "\n",
    "## 1. <a id='section0'></a>Setting Up\n",
    "[Back to top](#totop)\n",
    "    \n",
    "</div>"
   ]
  },
  {
   "cell_type": "markdown",
   "metadata": {},
   "source": [
    "Loadning necessary libraries"
   ]
  },
  {
   "cell_type": "code",
   "execution_count": 1,
   "metadata": {},
   "outputs": [],
   "source": [
    "from eocanvas import API, Credentials\n",
    "from eocanvas.api import Input, Config, ConfigOption\n",
    "from eocanvas.processes import SnapProcess\n",
    "from eocanvas.snap.graph import Graph"
   ]
  },
  {
   "cell_type": "markdown",
   "metadata": {},
   "source": [
    "You must replace `<your_user_name>` and `<your_password>` with the information from your WEkEO account (if you don't have one yet, register <a href=\"https://www.wekeo.eu/\" target=\"_blank\">here</a>.\n",
    "\n",
    "Save your credentials. They will be automatically loaded when required."
   ]
  },
  {
   "cell_type": "code",
   "execution_count": null,
   "metadata": {},
   "outputs": [],
   "source": [
    "c = Credentials(username=\"<your_user_name>\", password=\"<your_password>\")\n",
    "c.save()"
   ]
  },
  {
   "cell_type": "markdown",
   "metadata": {},
   "source": [
    "<div class=\"alert alert-info\" role=\"alert\">\n",
    "\n",
    "## 2. <a id='section1'></a>Explore the Functions of the API\n",
    "[Back to top](#totop)\n",
    "    \n",
    "</div>\n"
   ]
  },
  {
   "cell_type": "markdown",
   "metadata": {},
   "source": [
    "You can get more information about the processes of the serverless function using the following commands: "
   ]
  },
  {
   "cell_type": "code",
   "execution_count": 2,
   "metadata": {},
   "outputs": [],
   "source": [
    "# initialize the API\n",
    "\n",
    "api = API()"
   ]
  },
  {
   "cell_type": "markdown",
   "metadata": {},
   "source": [
    "<div class=\"alert alert-info\" role=\"alert\">\n",
    "\n",
    "### 2.1 <a id='section11'></a>Which processes are available in the Serverless Functions?\n",
    "\n",
    "[Back to top](#totop)\n",
    "    \n",
    "</div>\n",
    "\n"
   ]
  },
  {
   "cell_type": "code",
   "execution_count": 3,
   "metadata": {},
   "outputs": [
    {
     "data": {
      "text/plain": [
       "[Process(api=<eocanvas.api.API object at 0x000001B274EE8210>, process_id='dataTailor', version='3.4.0', title='EUMETSAT Data Tailor', description='The EUMETSAT Data Tailor provides format conversion and basic product customisation capabilities for a set of EUMETSAT products in native formats.', inputs={'epct_input': {'title': 'eo_inputs Title', 'description': 'Named inputs provided to the EUMETSAT Data Tailor tool in JSON encoding.', 'minOccurs': 0, 'maxOccurs': 1, 'schema': {'$ref': 'http://named_inputs'}}, 'epct_chain': {'title': 'EUMETSAT Data Tailor chain file', 'description': 'Customisation file describing the chain of customisation to apply to the epct_input files.', 'minOccurs': 0, 'maxOccurs': 1, 'schema': {'$ref': 'https://string'}}}),\n",
       " Process(api=<eocanvas.api.API object at 0x000001B274EE8210>, process_id='snap-function', version='10.0.0', title='snap-function', description='Function based on the ESA SNAP tool version 10.', inputs={'eo_config': {'title': 'Configuration for eo_input', 'description': 'Configuration for the eo_input in JSON format. They instruct the function on how to deal with the eo_input (e.g., uncompress).', 'minOccurs': 0, 'maxOccurs': 1, 'schema': {'$ref': 'https://string'}}, 'snap_graph': {'title': 'ESA SNAP GPT graph', 'description': 'A base64-encoded gpt graph. It should contain placeholders referring to the eo_input field.', 'minOccurs': 0, 'maxOccurs': 1, 'schema': {'$ref': 'https://string'}}, 'eo_input': {'title': 'eo_inputs Title', 'description': \"Named inputs provided to the ESA SNAP tool in JSON encoding. They should match the placeholders in the SNAP's GPT graph.\", 'minOccurs': 0, 'maxOccurs': 1, 'schema': {'$ref': 'http://named_inputs'}}}),\n",
       " Process(api=<eocanvas.api.API object at 0x000001B274EE8210>, process_id='duck', version='1.0.0', title='Duck', description='First version of duck', inputs={'duck_input': {'title': 'eo_inputs Title', 'description': 'Named inputs provided to the Duck tool in JSON encoding.', 'minOccurs': 0, 'maxOccurs': 1, 'schema': {'$ref': 'http://named_inputs'}}})]"
      ]
     },
     "execution_count": 3,
     "metadata": {},
     "output_type": "execute_result"
    }
   ],
   "source": [
    "processes = api.get_processes()\n",
    "processes"
   ]
  },
  {
   "cell_type": "markdown",
   "metadata": {},
   "source": [
    "You can see that two processes are available as of now: \n",
    "\n",
    "1. the **dataTailor** function and \n",
    "2. the **snap** function\n",
    "\n",
    "Along with the definition of the functions, you see their description and the inputs each function takes. "
   ]
  },
  {
   "cell_type": "markdown",
   "metadata": {},
   "source": [
    "<div class=\"alert alert-info\" role=\"alert\">\n",
    "\n",
    "### 2.2 <a id='section12'></a>Which processes did I submit to the EOCanvas?\n",
    "[Back to top](#totop)\n",
    "    \n",
    "</div>\n"
   ]
  },
  {
   "cell_type": "markdown",
   "metadata": {},
   "source": [
    "Using `get_job()` the api will return all of the submitted jobs. "
   ]
  },
  {
   "cell_type": "code",
   "execution_count": 4,
   "metadata": {},
   "outputs": [
    {
     "data": {
      "text/plain": [
       "[Job(api=<eocanvas.api.API object at 0x000001B274EE8210>, job_id='8ed2fabf-bbc2-5974-a7f9-cf0d581a04ae', status='successful', started='2024-10-21:08.59.05', created='2024-10-21:08.59.05', updated='2024-10-21T09:02:13.723098324Z', finished='2024-10-21T09:02:13Z'),\n",
       " Job(api=<eocanvas.api.API object at 0x000001B274EE8210>, job_id='65b77143-6eee-525d-921e-d30872c56644', status='successful', started='2024-10-10:08.10.31', created='2024-10-10:08.10.31', updated='2024-10-10T08:13:42.287744854Z', finished='2024-10-10T08:13:41Z'),\n",
       " Job(api=<eocanvas.api.API object at 0x000001B274EE8210>, job_id='c722064a-6317-5c2b-9e3b-08474e822efe', status='failed', started='2024-10-10:07.59.08', created='2024-10-10:07.59.08', updated='2024-10-10T08:04:14.284203173Z', finished='2024-10-10T08:04:13Z'),\n",
       " Job(api=<eocanvas.api.API object at 0x000001B274EE8210>, job_id='c5d3277f-a668-5742-96ff-1463cf3eb380', status='successful', started='2024-10-10:07.47.24', created='2024-10-10:07.47.24', updated='2024-10-10T07:50:38.285519188Z', finished='2024-10-10T07:50:37Z'),\n",
       " Job(api=<eocanvas.api.API object at 0x000001B274EE8210>, job_id='f5eb5d9f-c1d2-5882-8f65-f90d7984eff2', status='successful', started='2024-10-09:15.49.16', created='2024-10-09:15.49.16', updated='2024-10-09T15:52:58.312859345Z', finished='2024-10-09T15:52:58Z'),\n",
       " Job(api=<eocanvas.api.API object at 0x000001B274EE8210>, job_id='757e5fdd-be4d-5def-a228-1fbcca1ce7cb', status='successful', started='2024-10-09:15.49.16', created='2024-10-09:15.49.16', updated='2024-10-09T15:53:11.332991466Z', finished='2024-10-09T15:53:11Z'),\n",
       " Job(api=<eocanvas.api.API object at 0x000001B274EE8210>, job_id='00c3901f-86ca-566a-9eb5-5ab04e06a5cf', status='successful', started='2024-10-09:15.49.16', created='2024-10-09:15.49.16', updated='2024-10-09T15:52:07.288678317Z', finished='2024-10-09T15:52:06Z'),\n",
       " Job(api=<eocanvas.api.API object at 0x000001B274EE8210>, job_id='b33b9e6c-a3c4-5dd2-91c0-8cc59d00e854', status='successful', started='2024-10-09:13.23.05', created='2024-10-09:13.23.05', updated='2024-10-09T13:29:43.285974398Z', finished='2024-10-09T13:29:42Z'),\n",
       " Job(api=<eocanvas.api.API object at 0x000001B274EE8210>, job_id='0f94ae63-96e8-5d87-b05d-fd6a42a4e7ca', status='successful', started='2024-10-09:13.23.04', created='2024-10-09:13.23.04', updated='2024-10-09T13:29:10.285202138Z', finished='2024-10-09T13:29:09Z'),\n",
       " Job(api=<eocanvas.api.API object at 0x000001B274EE8210>, job_id='7f2998c7-4d4b-5691-bd87-4339894be386', status='successful', started='2024-10-09:12.47.35', created='2024-10-09:12.47.35', updated='2024-10-09T12:49:21.286535757Z', finished='2024-10-09T12:49:21Z')]"
      ]
     },
     "execution_count": 4,
     "metadata": {},
     "output_type": "execute_result"
    }
   ],
   "source": [
    "jobs = api.get_jobs()\n",
    "jobs"
   ]
  },
  {
   "cell_type": "markdown",
   "metadata": {},
   "source": [
    "<div class=\"alert alert-info\" role=\"alert\">\n",
    "\n",
    "### 2.3 <a id='section13'></a>How do I get the Job Logs of one specific Job?\n",
    "[Back to top](#totop)\n",
    "    \n",
    "</div>\n"
   ]
  },
  {
   "cell_type": "code",
   "execution_count": 5,
   "metadata": {},
   "outputs": [],
   "source": [
    "# select the job you want to get the logs for\n",
    "\n",
    "job = '8ed2fabf-bbc2-5974-a7f9-cf0d581a04ae'"
   ]
  },
  {
   "cell_type": "code",
   "execution_count": 6,
   "metadata": {},
   "outputs": [
    {
     "data": {
      "text/plain": [
       "[LogEntry(timestamp=datetime.datetime(2024, 10, 21, 9, 1, 2, 129255, tzinfo=datetime.timezone.utc), message='time=\"2024-10-21T09:01:02.129Z\" level=info msg=\"Starting Workflow Executor\" version=v3.5.7'),\n",
       " LogEntry(timestamp=datetime.datetime(2024, 10, 21, 9, 1, 2, 136220, tzinfo=datetime.timezone.utc), message='time=\"2024-10-21T09:01:02.135Z\" level=info msg=\"Using executor retry strategy\" Duration=1s Factor=1.6 Jitter=0.5 Steps=5'),\n",
       " LogEntry(timestamp=datetime.datetime(2024, 10, 21, 9, 1, 2, 136235, tzinfo=datetime.timezone.utc), message='time=\"2024-10-21T09:01:02.135Z\" level=info msg=\"Executor initialized\" deadline=\"0001-01-01 00:00:00 +0000 UTC\" includeScriptOutput=false namespace=ws-serverless podName=workflow-2cj5g-function-2834673741 templateName=function version=\"&Version{Version:v3.5.7,BuildDate:2024-05-27T06:18:59Z,GitCommit:503eef1357ebc9facc3f463708031441072ef7c2,GitTag:v3.5.7,GitTreeState:clean,GoVersion:go1.21.10,Compiler:gc,Platform:linux/amd64,}\"'),\n",
       " LogEntry(timestamp=datetime.datetime(2024, 10, 21, 9, 1, 2, 281862, tzinfo=datetime.timezone.utc), message='time=\"2024-10-21T09:01:02.281Z\" level=info msg=\"Start loading input artifacts...\"'),\n",
       " LogEntry(timestamp=datetime.datetime(2024, 10, 21, 9, 1, 2, 281882, tzinfo=datetime.timezone.utc), message='time=\"2024-10-21T09:01:02.281Z\" level=info msg=\"Alloc=7324 TotalAlloc=13336 Sys=25445 NumGC=4 Goroutines=4\"'),\n",
       " LogEntry(timestamp=datetime.datetime(2024, 10, 21, 9, 1, 4, 598870, tzinfo=datetime.timezone.utc), message='time=\"2024-10-21T09:01:04.550Z\" level=debug msg=\"ignore signal urgent I/O condition\" argo=true'),\n",
       " LogEntry(timestamp=datetime.datetime(2024, 10, 21, 9, 1, 4, 598916, tzinfo=datetime.timezone.utc), message='time=\"2024-10-21T09:01:04.598Z\" level=debug msg=\"ignore signal urgent I/O condition\" argo=true'),\n",
       " LogEntry(timestamp=datetime.datetime(2024, 10, 21, 9, 1, 4, 748017, tzinfo=datetime.timezone.utc), message='+ success=0'),\n",
       " LogEntry(timestamp=datetime.datetime(2024, 10, 21, 9, 1, 4, 748043, tzinfo=datetime.timezone.utc), message='+ fail_multiple_input=10'),\n",
       " LogEntry(timestamp=datetime.datetime(2024, 10, 21, 9, 1, 4, 748098, tzinfo=datetime.timezone.utc), message='+ fail_file_not_found=11'),\n",
       " LogEntry(timestamp=datetime.datetime(2024, 10, 21, 9, 1, 4, 748108, tzinfo=datetime.timezone.utc), message='+ fail_inputs=12'),\n",
       " LogEntry(timestamp=datetime.datetime(2024, 10, 21, 9, 1, 4, 748115, tzinfo=datetime.timezone.utc), message='+ fail_uncompress=20'),\n",
       " LogEntry(timestamp=datetime.datetime(2024, 10, 21, 9, 1, 4, 748122, tzinfo=datetime.timezone.utc), message='+ fail_tools=30'),\n",
       " LogEntry(timestamp=datetime.datetime(2024, 10, 21, 9, 1, 4, 748129, tzinfo=datetime.timezone.utc), message='+ fail_graph=40'),\n",
       " LogEntry(timestamp=datetime.datetime(2024, 10, 21, 9, 1, 4, 748136, tzinfo=datetime.timezone.utc), message='+ readonly BASE_DIR=/home/worker'),\n",
       " LogEntry(timestamp=datetime.datetime(2024, 10, 21, 9, 1, 4, 748143, tzinfo=datetime.timezone.utc), message='+ BASE_DIR=/home/worker'),\n",
       " LogEntry(timestamp=datetime.datetime(2024, 10, 21, 9, 1, 4, 748150, tzinfo=datetime.timezone.utc), message='+ readonly PROC_DIR=/home/worker/processor'),\n",
       " LogEntry(timestamp=datetime.datetime(2024, 10, 21, 9, 1, 4, 748157, tzinfo=datetime.timezone.utc), message='+ PROC_DIR=/home/worker/processor'),\n",
       " LogEntry(timestamp=datetime.datetime(2024, 10, 21, 9, 1, 4, 748164, tzinfo=datetime.timezone.utc), message='+ readonly WORK_DIR=/home/worker/workDir'),\n",
       " LogEntry(timestamp=datetime.datetime(2024, 10, 21, 9, 1, 4, 748170, tzinfo=datetime.timezone.utc), message='+ WORK_DIR=/home/worker/workDir'),\n",
       " LogEntry(timestamp=datetime.datetime(2024, 10, 21, 9, 1, 4, 748178, tzinfo=datetime.timezone.utc), message='+ readonly INPU_DIR=/home/worker/workDir/inDir/eo_input'),\n",
       " LogEntry(timestamp=datetime.datetime(2024, 10, 21, 9, 1, 4, 748184, tzinfo=datetime.timezone.utc), message='+ INPU_DIR=/home/worker/workDir/inDir/eo_input'),\n",
       " LogEntry(timestamp=datetime.datetime(2024, 10, 21, 9, 1, 4, 748191, tzinfo=datetime.timezone.utc), message='+ readonly OUTP_DIR=/home/worker/workDir/outDir/output'),\n",
       " LogEntry(timestamp=datetime.datetime(2024, 10, 21, 9, 1, 4, 748198, tzinfo=datetime.timezone.utc), message='+ OUTP_DIR=/home/worker/workDir/outDir/output'),\n",
       " LogEntry(timestamp=datetime.datetime(2024, 10, 21, 9, 1, 4, 748205, tzinfo=datetime.timezone.utc), message='+ readonly PROPS=/home/worker/workDir/function.properties'),\n",
       " LogEntry(timestamp=datetime.datetime(2024, 10, 21, 9, 1, 4, 748212, tzinfo=datetime.timezone.utc), message='+ PROPS=/home/worker/workDir/function.properties'),\n",
       " LogEntry(timestamp=datetime.datetime(2024, 10, 21, 9, 1, 4, 748219, tzinfo=datetime.timezone.utc), message='+ readonly GPT_BIN=/usr/local/snap/bin/gpt'),\n",
       " LogEntry(timestamp=datetime.datetime(2024, 10, 21, 9, 1, 4, 748225, tzinfo=datetime.timezone.utc), message='+ GPT_BIN=/usr/local/snap/bin/gpt'),\n",
       " LogEntry(timestamp=datetime.datetime(2024, 10, 21, 9, 1, 4, 748232, tzinfo=datetime.timezone.utc), message='+ readonly LOCAL_SNAP_GRAPH=/home/worker/workDir/graph.xml'),\n",
       " LogEntry(timestamp=datetime.datetime(2024, 10, 21, 9, 1, 4, 748239, tzinfo=datetime.timezone.utc), message='+ LOCAL_SNAP_GRAPH=/home/worker/workDir/graph.xml'),\n",
       " LogEntry(timestamp=datetime.datetime(2024, 10, 21, 9, 1, 4, 748245, tzinfo=datetime.timezone.utc), message='+ readonly TIMEOUT_VALUE_SECONDS=3600'),\n",
       " LogEntry(timestamp=datetime.datetime(2024, 10, 21, 9, 1, 4, 748252, tzinfo=datetime.timezone.utc), message='+ TIMEOUT_VALUE_SECONDS=3600'),\n",
       " LogEntry(timestamp=datetime.datetime(2024, 10, 21, 9, 1, 4, 748259, tzinfo=datetime.timezone.utc), message='+ readonly TIMEOUT_INTERVAL_SECONDS=60'),\n",
       " LogEntry(timestamp=datetime.datetime(2024, 10, 21, 9, 1, 4, 748266, tzinfo=datetime.timezone.utc), message='+ TIMEOUT_INTERVAL_SECONDS=60'),\n",
       " LogEntry(timestamp=datetime.datetime(2024, 10, 21, 9, 1, 4, 748272, tzinfo=datetime.timezone.utc), message='+ readonly TIMEOUT_DELAY_SECONDS=30'),\n",
       " LogEntry(timestamp=datetime.datetime(2024, 10, 21, 9, 1, 4, 748279, tzinfo=datetime.timezone.utc), message='+ TIMEOUT_DELAY_SECONDS=30'),\n",
       " LogEntry(timestamp=datetime.datetime(2024, 10, 21, 9, 1, 4, 748413, tzinfo=datetime.timezone.utc), message='+ main'),\n",
       " LogEntry(timestamp=datetime.datetime(2024, 10, 21, 9, 1, 4, 748432, tzinfo=datetime.timezone.utc), message='+ check_tools'),\n",
       " LogEntry(timestamp=datetime.datetime(2024, 10, 21, 9, 1, 4, 748437, tzinfo=datetime.timezone.utc), message='+ for tool in unzip tar xmllint uuid base64 xmlstarlet'),\n",
       " LogEntry(timestamp=datetime.datetime(2024, 10, 21, 9, 1, 4, 748451, tzinfo=datetime.timezone.utc), message='+ which unzip'),\n",
       " LogEntry(timestamp=datetime.datetime(2024, 10, 21, 9, 1, 4, 780657, tzinfo=datetime.timezone.utc), message=\"+ '[' 0 -ne 0 ']'\"),\n",
       " LogEntry(timestamp=datetime.datetime(2024, 10, 21, 9, 1, 4, 780674, tzinfo=datetime.timezone.utc), message='+ for tool in unzip tar xmllint uuid base64 xmlstarlet'),\n",
       " LogEntry(timestamp=datetime.datetime(2024, 10, 21, 9, 1, 4, 780677, tzinfo=datetime.timezone.utc), message='+ which tar'),\n",
       " LogEntry(timestamp=datetime.datetime(2024, 10, 21, 9, 1, 4, 781990, tzinfo=datetime.timezone.utc), message=\"+ '[' 0 -ne 0 ']'\"),\n",
       " LogEntry(timestamp=datetime.datetime(2024, 10, 21, 9, 1, 4, 782001, tzinfo=datetime.timezone.utc), message='+ for tool in unzip tar xmllint uuid base64 xmlstarlet'),\n",
       " LogEntry(timestamp=datetime.datetime(2024, 10, 21, 9, 1, 4, 782005, tzinfo=datetime.timezone.utc), message='+ which xmllint'),\n",
       " LogEntry(timestamp=datetime.datetime(2024, 10, 21, 9, 1, 4, 784476, tzinfo=datetime.timezone.utc), message=\"+ '[' 0 -ne 0 ']'\"),\n",
       " LogEntry(timestamp=datetime.datetime(2024, 10, 21, 9, 1, 4, 784485, tzinfo=datetime.timezone.utc), message='+ for tool in unzip tar xmllint uuid base64 xmlstarlet'),\n",
       " LogEntry(timestamp=datetime.datetime(2024, 10, 21, 9, 1, 4, 784489, tzinfo=datetime.timezone.utc), message='+ which uuid'),\n",
       " LogEntry(timestamp=datetime.datetime(2024, 10, 21, 9, 1, 4, 785770, tzinfo=datetime.timezone.utc), message=\"+ '[' 0 -ne 0 ']'\"),\n",
       " LogEntry(timestamp=datetime.datetime(2024, 10, 21, 9, 1, 4, 785778, tzinfo=datetime.timezone.utc), message='+ for tool in unzip tar xmllint uuid base64 xmlstarlet'),\n",
       " LogEntry(timestamp=datetime.datetime(2024, 10, 21, 9, 1, 4, 785782, tzinfo=datetime.timezone.utc), message='+ which base64'),\n",
       " LogEntry(timestamp=datetime.datetime(2024, 10, 21, 9, 1, 4, 787001, tzinfo=datetime.timezone.utc), message=\"+ '[' 0 -ne 0 ']'\"),\n",
       " LogEntry(timestamp=datetime.datetime(2024, 10, 21, 9, 1, 4, 787010, tzinfo=datetime.timezone.utc), message='+ for tool in unzip tar xmllint uuid base64 xmlstarlet'),\n",
       " LogEntry(timestamp=datetime.datetime(2024, 10, 21, 9, 1, 4, 787013, tzinfo=datetime.timezone.utc), message='+ which xmlstarlet'),\n",
       " LogEntry(timestamp=datetime.datetime(2024, 10, 21, 9, 1, 4, 788365, tzinfo=datetime.timezone.utc), message=\"+ '[' 0 -ne 0 ']'\"),\n",
       " LogEntry(timestamp=datetime.datetime(2024, 10, 21, 9, 1, 4, 788374, tzinfo=datetime.timezone.utc), message='+ check_properties'),\n",
       " LogEntry(timestamp=datetime.datetime(2024, 10, 21, 9, 1, 4, 788378, tzinfo=datetime.timezone.utc), message='+ test -f /home/worker/workDir/function.properties'),\n",
       " LogEntry(timestamp=datetime.datetime(2024, 10, 21, 9, 1, 4, 797438, tzinfo=datetime.timezone.utc), message='+ source /home/worker/workDir/function.properties'),\n",
       " LogEntry(timestamp=datetime.datetime(2024, 10, 21, 9, 1, 4, 814542, tzinfo=datetime.timezone.utc), message='++ snap_graph=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'),\n",
       " LogEntry(timestamp=datetime.datetime(2024, 10, 21, 9, 1, 4, 814572, tzinfo=datetime.timezone.utc), message='++ eo_input=\\'[{\"img1\": \"https://gateway.prod.wekeo2.eu/hda-broker/api/v1/dataaccess/download/671617c30a3567eb50657169\"}]\\''),\n",
       " LogEntry(timestamp=datetime.datetime(2024, 10, 21, 9, 1, 4, 814576, tzinfo=datetime.timezone.utc), message='++ eo_config=\\'[{\"img1\": {\"uncompress\": true, \"subPath\": \"xfdumanifest.xml\"}}]\\''),\n",
       " LogEntry(timestamp=datetime.datetime(2024, 10, 21, 9, 1, 4, 814579, tzinfo=datetime.timezone.utc), message='+ validate_inputs'),\n",
       " LogEntry(timestamp=datetime.datetime(2024, 10, 21, 9, 1, 4, 814584, tzinfo=datetime.timezone.utc), message='+ for i in eo_input eo_config'),\n",
       " LogEntry(timestamp=datetime.datetime(2024, 10, 21, 9, 1, 4, 815223, tzinfo=datetime.timezone.utc), message='+ echo \\'[{\"img1\":\\' \\'\"https://gateway.prod.wekeo2.eu/hda-broker/api/v1/dataaccess/download/671617c30a3567eb50657169\"}]\\''),\n",
       " LogEntry(timestamp=datetime.datetime(2024, 10, 21, 9, 1, 4, 815480, tzinfo=datetime.timezone.utc), message='+ jq .'),\n",
       " LogEntry(timestamp=datetime.datetime(2024, 10, 21, 9, 1, 4, 952221, tzinfo=datetime.timezone.utc), message=\"+ '[' 0 -ne 0 ']'\"),\n",
       " LogEntry(timestamp=datetime.datetime(2024, 10, 21, 9, 1, 4, 952250, tzinfo=datetime.timezone.utc), message='+ for i in eo_input eo_config'),\n",
       " LogEntry(timestamp=datetime.datetime(2024, 10, 21, 9, 1, 4, 952717, tzinfo=datetime.timezone.utc), message='+ echo \\'[{\"img1\":\\' \\'{\"uncompress\":\\' true, \\'\"subPath\":\\' \\'\"xfdumanifest.xml\"}}]\\''),\n",
       " LogEntry(timestamp=datetime.datetime(2024, 10, 21, 9, 1, 4, 952983, tzinfo=datetime.timezone.utc), message='+ jq .'),\n",
       " LogEntry(timestamp=datetime.datetime(2024, 10, 21, 9, 1, 4, 956619, tzinfo=datetime.timezone.utc), message=\"+ '[' 0 -ne 0 ']'\"),\n",
       " LogEntry(timestamp=datetime.datetime(2024, 10, 21, 9, 1, 4, 956630, tzinfo=datetime.timezone.utc), message='+ prepare_env'),\n",
       " LogEntry(timestamp=datetime.datetime(2024, 10, 21, 9, 1, 4, 956663, tzinfo=datetime.timezone.utc), message='+ mkdir -p /home/worker/workDir/outDir/output'),\n",
       " LogEntry(timestamp=datetime.datetime(2024, 10, 21, 9, 1, 5, 6805, tzinfo=datetime.timezone.utc), message='+ prepare_graph'),\n",
       " LogEntry(timestamp=datetime.datetime(2024, 10, 21, 9, 1, 5, 7310, tzinfo=datetime.timezone.utc), message='+ echo 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'),\n",
       " LogEntry(timestamp=datetime.datetime(2024, 10, 21, 9, 1, 5, 7407, tzinfo=datetime.timezone.utc), message='+ base64 -d'),\n",
       " LogEntry(timestamp=datetime.datetime(2024, 10, 21, 9, 1, 5, 7581, tzinfo=datetime.timezone.utc), message='+ xmllint -'),\n",
       " LogEntry(timestamp=datetime.datetime(2024, 10, 21, 9, 1, 5, 338587, tzinfo=datetime.timezone.utc), message=\"+ '[' 0 -ne 0 ']'\"),\n",
       " LogEntry(timestamp=datetime.datetime(2024, 10, 21, 9, 1, 5, 338603, tzinfo=datetime.timezone.utc), message='+ xmlstarlet ed -L -u \\'/graph/node[@id=\"Write\"]/parameters/file\\' -v \\'$output\\' /home/worker/workDir/graph.xml'),\n",
       " LogEntry(timestamp=datetime.datetime(2024, 10, 21, 9, 1, 5, 511443, tzinfo=datetime.timezone.utc), message=\"+ '[' 0 -ne 0 ']'\"),\n",
       " LogEntry(timestamp=datetime.datetime(2024, 10, 21, 9, 1, 5, 512107, tzinfo=datetime.timezone.utc), message='++ prepare_inputs'),\n",
       " LogEntry(timestamp=datetime.datetime(2024, 10, 21, 9, 1, 5, 512152, tzinfo=datetime.timezone.utc), message='++ local i'),\n",
       " LogEntry(timestamp=datetime.datetime(2024, 10, 21, 9, 1, 5, 512158, tzinfo=datetime.timezone.utc), message='++ local uncompress'),\n",
       " LogEntry(timestamp=datetime.datetime(2024, 10, 21, 9, 1, 5, 512163, tzinfo=datetime.timezone.utc), message='++ local subPath'),\n",
       " LogEntry(timestamp=datetime.datetime(2024, 10, 21, 9, 1, 5, 512167, tzinfo=datetime.timezone.utc), message='++ local input_file'),\n",
       " LogEntry(timestamp=datetime.datetime(2024, 10, 21, 9, 1, 5, 512172, tzinfo=datetime.timezone.utc), message='++ local found_file'),\n",
       " LogEntry(timestamp=datetime.datetime(2024, 10, 21, 9, 1, 5, 512189, tzinfo=datetime.timezone.utc), message='++ declare -a snap_input_flags'),\n",
       " LogEntry(timestamp=datetime.datetime(2024, 10, 21, 9, 1, 5, 512987, tzinfo=datetime.timezone.utc), message='+++ echo \\'[{\"img1\":\\' \\'\"https://gateway.prod.wekeo2.eu/hda-broker/api/v1/dataaccess/download/671617c30a3567eb50657169\"}]\\''),\n",
       " LogEntry(timestamp=datetime.datetime(2024, 10, 21, 9, 1, 5, 513102, tzinfo=datetime.timezone.utc), message=\"+++ jq -r '.[] | keys | .[]'\"),\n",
       " LogEntry(timestamp=datetime.datetime(2024, 10, 21, 9, 1, 5, 516103, tzinfo=datetime.timezone.utc), message=\"++ for i in $(echo ${eo_input} | jq -r '.[] | keys | .[]')\"),\n",
       " LogEntry(timestamp=datetime.datetime(2024, 10, 21, 9, 1, 5, 516113, tzinfo=datetime.timezone.utc), message='++ [[ img1 == \\\\s\\\\c\\\\h\\\\e\\\\m\\\\a ]]'),\n",
       " LogEntry(timestamp=datetime.datetime(2024, 10, 21, 9, 1, 5, 516118, tzinfo=datetime.timezone.utc), message=\"++ info 'Preparing input: img1'\"),\n",
       " LogEntry(timestamp=datetime.datetime(2024, 10, 21, 9, 1, 5, 516153, tzinfo=datetime.timezone.utc), message='++ log INFO Preparing input: img1'),\n",
       " LogEntry(timestamp=datetime.datetime(2024, 10, 21, 9, 1, 5, 516175, tzinfo=datetime.timezone.utc), message='++ local log_level=INFO'),\n",
       " LogEntry(timestamp=datetime.datetime(2024, 10, 21, 9, 1, 5, 516188, tzinfo=datetime.timezone.utc), message=\"++ local 'log_msg=Preparing input: img1'\"),\n",
       " LogEntry(timestamp=datetime.datetime(2024, 10, 21, 9, 1, 5, 516545, tzinfo=datetime.timezone.utc), message='+++ date +%Y-%m-%dT%H:%M:%S%z'),\n",
       " LogEntry(timestamp=datetime.datetime(2024, 10, 21, 9, 1, 5, 530436, tzinfo=datetime.timezone.utc), message=\"++ echo -e '[2024-10-21T09:01:05+0000] [INFO] - Preparing input: img1'\"),\n",
       " LogEntry(timestamp=datetime.datetime(2024, 10, 21, 9, 1, 5, 530445, tzinfo=datetime.timezone.utc), message='[2024-10-21T09:01:05+0000] [INFO] - Preparing input: img1'),\n",
       " LogEntry(timestamp=datetime.datetime(2024, 10, 21, 9, 1, 5, 530835, tzinfo=datetime.timezone.utc), message='+++ find /home/worker/workDir/inDir/eo_input/img1 -type f'),\n",
       " LogEntry(timestamp=datetime.datetime(2024, 10, 21, 9, 1, 5, 621120, tzinfo=datetime.timezone.utc), message='++ input_file=/home/worker/workDir/inDir/eo_input/img1/S3B_OL_2_WFR____20240806T085746_20240806T090046_20240807T162929_0179_096_107_1980_MAR_O_NT_003.SEN3.zip'),\n",
       " LogEntry(timestamp=datetime.datetime(2024, 10, 21, 9, 1, 5, 621133, tzinfo=datetime.timezone.utc), message=\"++ '[' 0 -ne 0 ']'\"),\n",
       " LogEntry(timestamp=datetime.datetime(2024, 10, 21, 9, 1, 5, 621137, tzinfo=datetime.timezone.utc), message='++ found_file='),\n",
       " LogEntry(timestamp=datetime.datetime(2024, 10, 21, 9, 1, 5, 622099, tzinfo=datetime.timezone.utc), message=\"+++ jq -r '.[].img1.subPath'\"),\n",
       " LogEntry(timestamp=datetime.datetime(2024, 10, 21, 9, 1, 5, 622112, tzinfo=datetime.timezone.utc), message='+++ echo \\'[{\"img1\":\\' \\'{\"uncompress\":\\' true, \\'\"subPath\":\\' \\'\"xfdumanifest.xml\"}}]\\''),\n",
       " LogEntry(timestamp=datetime.datetime(2024, 10, 21, 9, 1, 5, 625192, tzinfo=datetime.timezone.utc), message='++ subPath=xfdumanifest.xml'),\n",
       " LogEntry(timestamp=datetime.datetime(2024, 10, 21, 9, 1, 5, 625890, tzinfo=datetime.timezone.utc), message='+++ echo \\'[{\"img1\":\\' \\'{\"uncompress\":\\' true, \\'\"subPath\":\\' \\'\"xfdumanifest.xml\"}}]\\''),\n",
       " LogEntry(timestamp=datetime.datetime(2024, 10, 21, 9, 1, 5, 626033, tzinfo=datetime.timezone.utc), message=\"+++ jq -r '.[].img1.uncompress'\"),\n",
       " LogEntry(timestamp=datetime.datetime(2024, 10, 21, 9, 1, 5, 629176, tzinfo=datetime.timezone.utc), message='++ uncompress=true'),\n",
       " LogEntry(timestamp=datetime.datetime(2024, 10, 21, 9, 1, 5, 629196, tzinfo=datetime.timezone.utc), message='++ [[ true != \\\\n\\\\u\\\\l\\\\l ]]'),\n",
       " LogEntry(timestamp=datetime.datetime(2024, 10, 21, 9, 1, 5, 629200, tzinfo=datetime.timezone.utc), message='++ [[ true == \\\\t\\\\r\\\\u\\\\e ]]'),\n",
       " LogEntry(timestamp=datetime.datetime(2024, 10, 21, 9, 1, 5, 629206, tzinfo=datetime.timezone.utc), message='++ [[ /home/worker/workDir/inDir/eo_input/img1/S3B_OL_2_WFR____20240806T085746_20240806T090046_20240807T162929_0179_096_107_1980_MAR_O_NT_003.SEN3.zip =~ \\\\.zip$ ]]'),\n",
       " LogEntry(timestamp=datetime.datetime(2024, 10, 21, 9, 1, 5, 629287, tzinfo=datetime.timezone.utc), message='++ unzip /home/worker/workDir/inDir/eo_input/img1/S3B_OL_2_WFR____20240806T085746_20240806T090046_20240807T162929_0179_096_107_1980_MAR_O_NT_003.SEN3.zip -d /home/worker/workDir/inDir/eo_input/img1'),\n",
       " LogEntry(timestamp=datetime.datetime(2024, 10, 21, 9, 1, 9, 754755, tzinfo=datetime.timezone.utc), message='++ [[ 0 -ne 0 ]]'),\n",
       " LogEntry(timestamp=datetime.datetime(2024, 10, 21, 9, 1, 9, 754788, tzinfo=datetime.timezone.utc), message='++ [[ xfdumanifest.xml != \\\\n\\\\u\\\\l\\\\l ]]'),\n",
       " LogEntry(timestamp=datetime.datetime(2024, 10, 21, 9, 1, 9, 755574, tzinfo=datetime.timezone.utc), message=\"+++ find /home/worker/workDir/inDir/eo_input/img1 -path '*xfdumanifest.xml' -type f\"),\n",
       " LogEntry(timestamp=datetime.datetime(2024, 10, 21, 9, 1, 9, 758812, tzinfo=datetime.timezone.utc), message='++ found_file=/home/worker/workDir/inDir/eo_input/img1/S3B_OL_2_WFR____20240806T085746_20240806T090046_20240807T162929_0179_096_107_1980_MAR_O_NT_003.SEN3/xfdumanifest.xml'),\n",
       " LogEntry(timestamp=datetime.datetime(2024, 10, 21, 9, 1, 9, 758827, tzinfo=datetime.timezone.utc), message='++ [[ -n /home/worker/workDir/inDir/eo_input/img1/S3B_OL_2_WFR____20240806T085746_20240806T090046_20240807T162929_0179_096_107_1980_MAR_O_NT_003.SEN3/xfdumanifest.xml ]]'),\n",
       " LogEntry(timestamp=datetime.datetime(2024, 10, 21, 9, 1, 9, 759274, tzinfo=datetime.timezone.utc), message='+++ wc -w'),\n",
       " LogEntry(timestamp=datetime.datetime(2024, 10, 21, 9, 1, 9, 761521, tzinfo=datetime.timezone.utc), message='++ [[ 1 -eq 1 ]]'),\n",
       " LogEntry(timestamp=datetime.datetime(2024, 10, 21, 9, 1, 9, 761537, tzinfo=datetime.timezone.utc), message='++ snap_input_flags+=(-P${i}=${found_file})'),\n",
       " LogEntry(timestamp=datetime.datetime(2024, 10, 21, 9, 1, 9, 761548, tzinfo=datetime.timezone.utc), message=\"++ info 'Input img1 is ready. Input location: /home/worker/workDir/inDir/eo_input/img1/S3B_OL_2_WFR____20240806T085746_20240806T090046_20240807T162929_0179_096_107_1980_MAR_O_NT_003.SEN3/xfdumanifest.xml'\"),\n",
       " LogEntry(timestamp=datetime.datetime(2024, 10, 21, 9, 1, 9, 761555, tzinfo=datetime.timezone.utc), message='++ log INFO Input img1 is ready. Input location: /home/worker/workDir/inDir/eo_input/img1/S3B_OL_2_WFR____20240806T085746_20240806T090046_20240807T162929_0179_096_107_1980_MAR_O_NT_003.SEN3/xfdumanifest.xml'),\n",
       " LogEntry(timestamp=datetime.datetime(2024, 10, 21, 9, 1, 9, 761590, tzinfo=datetime.timezone.utc), message='++ local log_level=INFO'),\n",
       " LogEntry(timestamp=datetime.datetime(2024, 10, 21, 9, 1, 9, 761632, tzinfo=datetime.timezone.utc), message=\"++ local 'log_msg=Input img1 is ready. Input location: /home/worker/workDir/inDir/eo_input/img1/S3B_OL_2_WFR____20240806T085746_20240806T090046_20240807T162929_0179_096_107_1980_MAR_O_NT_003.SEN3/xfdumanifest.xml'\"),\n",
       " LogEntry(timestamp=datetime.datetime(2024, 10, 21, 9, 1, 9, 762103, tzinfo=datetime.timezone.utc), message='+++ date +%Y-%m-%dT%H:%M:%S%z'),\n",
       " LogEntry(timestamp=datetime.datetime(2024, 10, 21, 9, 1, 9, 763049, tzinfo=datetime.timezone.utc), message=\"++ echo -e '[2024-10-21T09:01:09+0000] [INFO] - Input img1 is ready. Input location: /home/worker/workDir/inDir/eo_input/img1/S3B_OL_2_WFR____20240806T085746_20240806T090046_20240807T162929_0179_096_107_1980_MAR_O_NT_003.SEN3/xfdumanifest.xml'\"),\n",
       " LogEntry(timestamp=datetime.datetime(2024, 10, 21, 9, 1, 9, 763061, tzinfo=datetime.timezone.utc), message='[2024-10-21T09:01:09+0000] [INFO] - Input img1 is ready. Input location: /home/worker/workDir/inDir/eo_input/img1/S3B_OL_2_WFR____20240806T085746_20240806T090046_20240807T162929_0179_096_107_1980_MAR_O_NT_003.SEN3/xfdumanifest.xml'),\n",
       " LogEntry(timestamp=datetime.datetime(2024, 10, 21, 9, 1, 9, 763124, tzinfo=datetime.timezone.utc), message='++ echo -Pimg1=/home/worker/workDir/inDir/eo_input/img1/S3B_OL_2_WFR____20240806T085746_20240806T090046_20240807T162929_0179_096_107_1980_MAR_O_NT_003.SEN3/xfdumanifest.xml'),\n",
       " LogEntry(timestamp=datetime.datetime(2024, 10, 21, 9, 1, 9, 763495, tzinfo=datetime.timezone.utc), message='+ snap_input_flags=-Pimg1=/home/worker/workDir/inDir/eo_input/img1/S3B_OL_2_WFR____20240806T085746_20240806T090046_20240807T162929_0179_096_107_1980_MAR_O_NT_003.SEN3/xfdumanifest.xml'),\n",
       " LogEntry(timestamp=datetime.datetime(2024, 10, 21, 9, 1, 9, 763627, tzinfo=datetime.timezone.utc), message='+ res=0'),\n",
       " LogEntry(timestamp=datetime.datetime(2024, 10, 21, 9, 1, 9, 763643, tzinfo=datetime.timezone.utc), message='+ [[ 0 -ne 0 ]]'),\n",
       " LogEntry(timestamp=datetime.datetime(2024, 10, 21, 9, 1, 9, 764199, tzinfo=datetime.timezone.utc), message='++ uuid'),\n",
       " LogEntry(timestamp=datetime.datetime(2024, 10, 21, 9, 1, 9, 773133, tzinfo=datetime.timezone.utc), message='+ snap_output_flags=-Poutput=/home/worker/workDir/outDir/output/03bd2252-8f8b-11ef-be47-7ac907622680'),\n",
       " LogEntry(timestamp=datetime.datetime(2024, 10, 21, 9, 1, 9, 773161, tzinfo=datetime.timezone.utc), message=\"+ launch_snap '/home/worker/workDir/graph.xml -Pimg1=/home/worker/workDir/inDir/eo_input/img1/S3B_OL_2_WFR____20240806T085746_20240806T090046_20240807T162929_0179_096_107_1980_MAR_O_NT_003.SEN3/xfdumanifest.xml -Poutput=/home/worker/workDir/outDir/output/03bd2252-8f8b-11ef-be47-7ac907622680'\"),\n",
       " LogEntry(timestamp=datetime.datetime(2024, 10, 21, 9, 1, 9, 773250, tzinfo=datetime.timezone.utc), message=\"+ info '/usr/local/snap/bin/gpt /home/worker/workDir/graph.xml -Pimg1=/home/worker/workDir/inDir/eo_input/img1/S3B_OL_2_WFR____20240806T085746_20240806T090046_20240807T162929_0179_096_107_1980_MAR_O_NT_003.SEN3/xfdumanifest.xml -Poutput=/home/worker/workDir/outDir/output/03bd2252-8f8b-11ef-be47-7ac907622680'\"),\n",
       " LogEntry(timestamp=datetime.datetime(2024, 10, 21, 9, 1, 9, 773333, tzinfo=datetime.timezone.utc), message='+ log INFO /usr/local/snap/bin/gpt /home/worker/workDir/graph.xml -Pimg1=/home/worker/workDir/inDir/eo_input/img1/S3B_OL_2_WFR____20240806T085746_20240806T090046_20240807T162929_0179_096_107_1980_MAR_O_NT_003.SEN3/xfdumanifest.xml -Poutput=/home/worker/workDir/outDir/output/03bd2252-8f8b-11ef-be47-7ac907622680'),\n",
       " LogEntry(timestamp=datetime.datetime(2024, 10, 21, 9, 1, 9, 773368, tzinfo=datetime.timezone.utc), message='+ local log_level=INFO'),\n",
       " LogEntry(timestamp=datetime.datetime(2024, 10, 21, 9, 1, 9, 773533, tzinfo=datetime.timezone.utc), message=\"+ local 'log_msg=/usr/local/snap/bin/gpt /home/worker/workDir/graph.xml -Pimg1=/home/worker/workDir/inDir/eo_input/img1/S3B_OL_2_WFR____20240806T085746_20240806T090046_20240807T162929_0179_096_107_1980_MAR_O_NT_003.SEN3/xfdumanifest.xml -Poutput=/home/worker/workDir/outDir/output/03bd2252-8f8b-11ef-be47-7ac907622680'\"),\n",
       " LogEntry(timestamp=datetime.datetime(2024, 10, 21, 9, 1, 9, 774183, tzinfo=datetime.timezone.utc), message='++ date +%Y-%m-%dT%H:%M:%S%z'),\n",
       " LogEntry(timestamp=datetime.datetime(2024, 10, 21, 9, 1, 9, 775376, tzinfo=datetime.timezone.utc), message=\"+ echo -e '[2024-10-21T09:01:09+0000] [INFO] - /usr/local/snap/bin/gpt /home/worker/workDir/graph.xml -Pimg1=/home/worker/workDir/inDir/eo_input/img1/S3B_OL_2_WFR____20240806T085746_20240806T090046_20240807T162929_0179_096_107_1980_MAR_O_NT_003.SEN3/xfdumanifest.xml -Poutput=/home/worker/workDir/outDir/output/03bd2252-8f8b-11ef-be47-7ac907622680'\"),\n",
       " LogEntry(timestamp=datetime.datetime(2024, 10, 21, 9, 1, 9, 775395, tzinfo=datetime.timezone.utc), message='[2024-10-21T09:01:09+0000] [INFO] - /usr/local/snap/bin/gpt /home/worker/workDir/graph.xml -Pimg1=/home/worker/workDir/inDir/eo_input/img1/S3B_OL_2_WFR____20240806T085746_20240806T090046_20240807T162929_0179_096_107_1980_MAR_O_NT_003.SEN3/xfdumanifest.xml -Poutput=/home/worker/workDir/outDir/output/03bd2252-8f8b-11ef-be47-7ac907622680'),\n",
       " LogEntry(timestamp=datetime.datetime(2024, 10, 21, 9, 1, 9, 775549, tzinfo=datetime.timezone.utc), message='+ /home/worker/processor/timeout.sh -t 3600 -i 60 -d 30 /usr/local/snap/bin/gpt /home/worker/workDir/graph.xml -Pimg1=/home/worker/workDir/inDir/eo_input/img1/S3B_OL_2_WFR____20240806T085746_20240806T090046_20240807T162929_0179_096_107_1980_MAR_O_NT_003.SEN3/xfdumanifest.xml -Poutput=/home/worker/workDir/outDir/output/03bd2252-8f8b-11ef-be47-7ac907622680'),\n",
       " LogEntry(timestamp=datetime.datetime(2024, 10, 21, 9, 1, 13, 185108, tzinfo=datetime.timezone.utc), message='WARNING: An illegal reflective access operation has occurred'),\n",
       " LogEntry(timestamp=datetime.datetime(2024, 10, 21, 9, 1, 13, 185146, tzinfo=datetime.timezone.utc), message='WARNING: Illegal reflective access by org.esa.snap.runtime.Engine (file:/usr/local/snap/snap/modules/ext/org.esa.snap.snap-core/org-esa-snap/snap-runtime.jar) to method java.lang.ClassLoader.initializePath(java.lang.String)'),\n",
       " LogEntry(timestamp=datetime.datetime(2024, 10, 21, 9, 1, 13, 185153, tzinfo=datetime.timezone.utc), message='WARNING: Please consider reporting this to the maintainers of org.esa.snap.runtime.Engine'),\n",
       " LogEntry(timestamp=datetime.datetime(2024, 10, 21, 9, 1, 13, 185158, tzinfo=datetime.timezone.utc), message='WARNING: Use --illegal-access=warn to enable warnings of further illegal reflective access operations'),\n",
       " LogEntry(timestamp=datetime.datetime(2024, 10, 21, 9, 1, 13, 185163, tzinfo=datetime.timezone.utc), message='WARNING: All illegal access operations will be denied in a future release'),\n",
       " LogEntry(timestamp=datetime.datetime(2024, 10, 21, 9, 1, 14, 552840, tzinfo=datetime.timezone.utc), message='time=\"2024-10-21T09:01:14.552Z\" level=debug msg=\"ignore signal urgent I/O condition\" argo=true'),\n",
       " LogEntry(timestamp=datetime.datetime(2024, 10, 21, 9, 1, 15, 552794, tzinfo=datetime.timezone.utc), message='time=\"2024-10-21T09:01:15.552Z\" level=debug msg=\"ignore signal urgent I/O condition\" argo=true'),\n",
       " LogEntry(timestamp=datetime.datetime(2024, 10, 21, 9, 1, 25, 988311, tzinfo=datetime.timezone.utc), message='WARNING: org.esa.snap.core.util.ServiceLoader: org.esa.snap.core.gpf.OperatorSpi: Provider eu.esa.opt.meris.sdr.aerosol.AerosolMergerOp$Spi not found'),\n",
       " LogEntry(timestamp=datetime.datetime(2024, 10, 21, 9, 1, 25, 989069, tzinfo=datetime.timezone.utc), message='WARNING: org.esa.snap.core.util.ServiceLoader: org.esa.snap.core.gpf.OperatorSpi: Provider eu.esa.opt.meris.sdr.aerosol.ModisAerosolOp$Spi not found'),\n",
       " LogEntry(timestamp=datetime.datetime(2024, 10, 21, 9, 1, 26, 648936, tzinfo=datetime.timezone.utc), message='INFO: org.esa.snap.core.gpf.operators.tooladapter.ToolAdapterIO: Initializing external tool adapters'),\n",
       " LogEntry(timestamp=datetime.datetime(2024, 10, 21, 9, 1, 27, 11324, tzinfo=datetime.timezone.utc), message='INFO: org.esa.snap.core.util.EngineVersionCheckActivator: Please check regularly for new updates for the best SNAP experience.'),\n",
       " LogEntry(timestamp=datetime.datetime(2024, 10, 21, 9, 1, 28, 554213, tzinfo=datetime.timezone.utc), message='time=\"2024-10-21T09:01:28.554Z\" level=debug msg=\"ignore signal urgent I/O condition\" argo=true'),\n",
       " LogEntry(timestamp=datetime.datetime(2024, 10, 21, 9, 1, 29, 419727, tzinfo=datetime.timezone.utc), message='Executing processing graph'),\n",
       " LogEntry(timestamp=datetime.datetime(2024, 10, 21, 9, 1, 32, 555241, tzinfo=datetime.timezone.utc), message='time=\"2024-10-21T09:01:32.555Z\" level=debug msg=\"ignore signal urgent I/O condition\" argo=true'),\n",
       " LogEntry(timestamp=datetime.datetime(2024, 10, 21, 9, 1, 32, 555280, tzinfo=datetime.timezone.utc), message='time=\"2024-10-21T09:01:32.555Z\" level=debug msg=\"ignore signal urgent I/O condition\" argo=true'),\n",
       " LogEntry(timestamp=datetime.datetime(2024, 10, 21, 9, 1, 41, 66667, tzinfo=datetime.timezone.utc), message=\"14104 [main] INFO serverStartup - Nc4Iosp: NetCDF-4 C library loaded (jna_path='/root/.snap/auxdata/netcdf_natives/10.0.0/amd64', libname='netcdf').\"),\n",
       " LogEntry(timestamp=datetime.datetime(2024, 10, 21, 9, 1, 41, 72834, tzinfo=datetime.timezone.utc), message='14110 [main] INFO serverStartup - NetcdfLoader: set log level: old=0 new=0'),\n",
       " LogEntry(timestamp=datetime.datetime(2024, 10, 21, 9, 1, 41, 72863, tzinfo=datetime.timezone.utc), message='14110 [main] INFO serverStartup - Nc4Iosp: set log level: old=0 new=0'),\n",
       " LogEntry(timestamp=datetime.datetime(2024, 10, 21, 9, 1, 41, 894714, tzinfo=datetime.timezone.utc), message='22%45%...56%...67%90% done.'),\n",
       " LogEntry(timestamp=datetime.datetime(2024, 10, 21, 9, 1, 42, 239517, tzinfo=datetime.timezone.utc), message='time=\"2024-10-21T09:01:42.239Z\" level=debug msg=\"ignore signal child exited\" argo=true'),\n",
       " LogEntry(timestamp=datetime.datetime(2024, 10, 21, 9, 1, 42, 559713, tzinfo=datetime.timezone.utc), message='time=\"2024-10-21T09:01:42.559Z\" level=info msg=\"sub-process exited\" argo=true error=\"<nil>\"')]"
      ]
     },
     "execution_count": 6,
     "metadata": {},
     "output_type": "execute_result"
    }
   ],
   "source": [
    "api.get_job_logs(job=job)"
   ]
  },
  {
   "cell_type": "markdown",
   "metadata": {},
   "source": [
    "You can now see the full logs of the process. "
   ]
  },
  {
   "cell_type": "markdown",
   "metadata": {},
   "source": [
    "<div class=\"alert alert-info\" role=\"alert\">\n",
    "\n",
    "### 2.4 <a id='section14'></a>How do I download the results from a job which has been launched in the past?\n",
    "[Back to top](#totop)\n",
    "    \n",
    "</div>\n"
   ]
  },
  {
   "cell_type": "markdown",
   "metadata": {},
   "source": [
    "To download the results again, you can manually trigger the download using the job id."
   ]
  },
  {
   "cell_type": "code",
   "execution_count": 9,
   "metadata": {},
   "outputs": [
    {
     "data": {
      "text/plain": [
       "Result(api=<eocanvas.api.API object at 0x000001B274EE8210>, href='/download/result/519', title='wks3:///8ed2fabf-bbc2-5974-a7f9-cf0d581a04ae/output/03bd2252-8f8b-11ef-be47-7ac907622680.nc', rel='result')"
      ]
     },
     "execution_count": 9,
     "metadata": {},
     "output_type": "execute_result"
    }
   ],
   "source": [
    "#get and inspect the results\n",
    "results = api.get_job_results(job=job)[0]\n",
    "results"
   ]
  },
  {
   "cell_type": "code",
   "execution_count": 10,
   "metadata": {},
   "outputs": [
    {
     "name": "stdout",
     "output_type": "stream",
     "text": [
      "Downloading result\\03bd2252-8f8b-11ef-be47-7ac907622680.nc\n"
     ]
    }
   ],
   "source": [
    "results.download(download_dir=\"result\")"
   ]
  },
  {
   "cell_type": "markdown",
   "metadata": {},
   "source": [
    "This notebook provided an overview of the basic functionality of the EOCanvas Serverless Functions API. For more applied examples of what you can do with the EOCanvas you can go to the next notebook. "
   ]
  }
 ],
 "metadata": {
  "author": "Anna-Lena Erdmann",
  "deployment": {
   "wekeo": {
    "git": {
     "link": "https://github.com/wekeo/wekeo4data/blob/main/wekeo-eocanvas/02_Introduction_to_EOCanvas_API.ipynb",
     "service_contact": "ops@eumetsat.int",
     "service_provider": "EUMETSAT"
    },
    "url": {
     "link": "https://jupyterhub.prod.wekeo2.eu/hub/user-redirect/lab/tree/public/wekeo4data/wekeo-eocanvas/01_Introduction_to_EOCanvas_API.ipynb",
     "service_contact": "ops@eumetsat.int",
     "service_provider": "EUMETSAT"
    }
   }
  },
  "description": "Get an overview of more advanced functions of the EOCanvas API to manage and monitor your processing and results.",
  "image": "img/thumbs/02_CliMetLab_xcube.png",
  "kernelspec": {
   "display_name": "wekeolab",
   "language": "python",
   "name": "python3"
  },
  "language_info": {
   "codemirror_mode": {
    "name": "ipython",
    "version": 3
   },
   "file_extension": ".py",
   "mimetype": "text/x-python",
   "name": "python",
   "nbconvert_exporter": "python",
   "pygments_lexer": "ipython3",
   "version": "3.11.5"
  },
  "tags": {
   "data_provider": [
    "EUMETSAT"
   ],
   "subtheme": [
    "eocanvas"
   ],
   "theme": "Tools"
  },
  "title": "Monitor and Manage your EOCanvas Processes",
  "vscode": {
   "interpreter": {
    "hash": "69a843eb2806097c81d46a99bb39f1f0d8214ba0939f50116f16a105a7e284d3"
   }
  }
 },
 "nbformat": 4,
 "nbformat_minor": 4
}
