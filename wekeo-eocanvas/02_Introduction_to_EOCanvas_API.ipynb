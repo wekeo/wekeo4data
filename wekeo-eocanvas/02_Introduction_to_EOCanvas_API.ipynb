{
 "cells": [
  {
   "cell_type": "markdown",
   "metadata": {},
   "source": [
    "<img src='./img/wekeo_logo2.png' alt='' align='centre' width='10%'></img>"
   ]
  },
  {
   "cell_type": "markdown",
   "metadata": {},
   "source": [
    "# WEkEO EOCanvas - Serverless Functions for Coperncius Data\n",
    "## Introducing the EOCanvas API functions"
   ]
  },
  {
   "cell_type": "markdown",
   "metadata": {},
   "source": [
    "This notebooks provides a more comprehensive overview of the EOCanvas API functionalities. \n",
    "\n",
    "The first notebook (insert link) of this series created a workflow and executed this workflow on a Senintel-3 satellite imagery scene. Within the following notebook you will further understand what is happening inside the serverless function, how to get the status of a job, how to list jobs and hoe to receive job logs. \n",
    "\n",
    "Prerequisites: \n",
    "- a WEkEO account\n",
    "- execution of the previous notebook "
   ]
  },
  {
   "cell_type": "markdown",
   "metadata": {},
   "source": [
    "## Setting up the EOCanvas modules"
   ]
  },
  {
   "cell_type": "code",
   "execution_count": 1,
   "metadata": {},
   "outputs": [],
   "source": [
    "from eocanvas import API, Credentials\n",
    "from eocanvas.api import Input, Config, ConfigOption\n",
    "from eocanvas.processes import SnapProcess\n",
    "from eocanvas.snap.graph import Graph"
   ]
  },
  {
   "cell_type": "markdown",
   "metadata": {},
   "source": [
    "## Explore the Functions of the API"
   ]
  },
  {
   "cell_type": "markdown",
   "metadata": {},
   "source": [
    "You can get more information about the processes of the serverless function using the following commands: "
   ]
  },
  {
   "cell_type": "code",
   "execution_count": 2,
   "metadata": {},
   "outputs": [],
   "source": [
    "# initialize the API\n",
    "\n",
    "api = API()"
   ]
  },
  {
   "cell_type": "markdown",
   "metadata": {},
   "source": [
    "**Which processes are available in the Serverless Functions?**"
   ]
  },
  {
   "cell_type": "code",
   "execution_count": 3,
   "metadata": {},
   "outputs": [
    {
     "data": {
      "text/plain": [
       "[Process(api=<eocanvas.api.API object at 0x000001B63AB64DD0>, process_id='dataTailor', version='3.4.0', title='EUMETSAT Data Tailor', description='The EUMETSAT Data Tailor provides format conversion and basic product customisation capabilities for a set of EUMETSAT products in native formats.', inputs={'epct_input': {'title': 'eo_inputs Title', 'description': 'Named inputs provided to the EUMETSAT Data Tailor tool in JSON encoding.', 'minOccurs': 0, 'maxOccurs': 1, 'schema': {'$ref': 'http://named_inputs'}}, 'epct_chain': {'title': 'EUMETSAT Data Tailor chain file', 'description': 'Customisation file describing the chain of customisation to apply to the epct_input files.', 'minOccurs': 0, 'maxOccurs': 1, 'schema': {'$ref': 'https://string'}}}),\n",
       " Process(api=<eocanvas.api.API object at 0x000001B63AB64DD0>, process_id='snap-function', version='10.0.0', title='snap-function', description='Function based on the ESA SNAP tool version 10.', inputs={'eo_config': {'title': 'Configuration for eo_input', 'description': 'Configuration for the eo_input in JSON format. They instruct the function on how to deal with the eo_input (e.g., uncompress).', 'minOccurs': 0, 'maxOccurs': 1, 'schema': {'$ref': 'https://string'}}, 'snap_graph': {'title': 'ESA SNAP GPT graph', 'description': 'A base64-encoded gpt graph. It should contain placeholders referring to the eo_input field.', 'minOccurs': 0, 'maxOccurs': 1, 'schema': {'$ref': 'https://string'}}, 'eo_input': {'title': 'eo_inputs Title', 'description': \"Named inputs provided to the ESA SNAP tool in JSON encoding. They should match the placeholders in the SNAP's GPT graph.\", 'minOccurs': 0, 'maxOccurs': 1, 'schema': {'$ref': 'http://named_inputs'}}})]"
      ]
     },
     "execution_count": 3,
     "metadata": {},
     "output_type": "execute_result"
    }
   ],
   "source": [
    "processes = api.get_processes()\n",
    "processes"
   ]
  },
  {
   "cell_type": "markdown",
   "metadata": {},
   "source": [
    "You can see that two processes are available as of now: \n",
    "\n",
    "1. the **dataTailor** function and \n",
    "2. the **snap** function\n",
    "\n",
    "Along with the definition of the functions, you see their description and the inputs each function takes. "
   ]
  },
  {
   "cell_type": "markdown",
   "metadata": {},
   "source": [
    "**Which processes did I submit to the EOCanvas?**"
   ]
  },
  {
   "cell_type": "markdown",
   "metadata": {},
   "source": [
    "Using `get_job()` the api will return all of the submitted jobs. "
   ]
  },
  {
   "cell_type": "code",
   "execution_count": 4,
   "metadata": {},
   "outputs": [
    {
     "data": {
      "text/plain": [
       "[Job(api=<eocanvas.api.API object at 0x000001B63AB64DD0>, job_id='7cb62b31-e28e-5d9d-aa0c-4e510c17a44e', status='successful', started='2024-09-18:14.40.21', created='2024-09-18:14.40.21', updated='2024-09-18T14:44:55.340603913Z', finished='2024-09-18T14:44:54Z'),\n",
       " Job(api=<eocanvas.api.API object at 0x000001B63AB64DD0>, job_id='6ebd4434-9b53-569b-990e-9c7f7b4fc8be', status='failed', started='2024-08-20:15.52.42', created='2024-08-20:15.52.42', updated='2024-08-20T15:55:57.253617813Z', finished='2024-08-20T15:55:56Z'),\n",
       " Job(api=<eocanvas.api.API object at 0x000001B63AB64DD0>, job_id='f135490a-c8b4-573a-a6f3-49b26cc85dc9', status='successful', started='2024-08-20:12.50.03', created='2024-08-20:12.50.03', updated='2024-08-20T12:52:21.256719423Z', finished='2024-08-20T12:52:21Z'),\n",
       " Job(api=<eocanvas.api.API object at 0x000001B63AB64DD0>, job_id='ed0d1bd6-0efa-5cc5-934b-fc3a81f7a219', status='successful', started='2024-08-20:12.34.51', created='2024-08-20:12.34.51', updated='2024-08-20T12:37:29.254227006Z', finished='2024-08-20T12:37:28Z'),\n",
       " Job(api=<eocanvas.api.API object at 0x000001B63AB64DD0>, job_id='cc467fb5-0c74-5d2f-871e-240785724310', status='failed', started='2024-08-20:12.27.23', created='2024-08-20:12.27.23', updated='2024-08-20T12:29:03.249389979Z', finished='2024-08-20T12:29:02Z'),\n",
       " Job(api=<eocanvas.api.API object at 0x000001B63AB64DD0>, job_id='45091bb6-c788-5b2c-8f0d-2e683c9bdb64', status='failed', started='2024-08-20:12.26.53', created='2024-08-20:12.26.53', updated='2024-08-20T12:27:45.248828489Z', finished='2024-08-20T12:27:44Z')]"
      ]
     },
     "execution_count": 4,
     "metadata": {},
     "output_type": "execute_result"
    }
   ],
   "source": [
    "jobs = api.get_jobs()\n",
    "jobs"
   ]
  },
  {
   "cell_type": "markdown",
   "metadata": {},
   "source": [
    "**How do I get the Job Logs of one specific Job?**"
   ]
  },
  {
   "cell_type": "code",
   "execution_count": 5,
   "metadata": {},
   "outputs": [],
   "source": [
    "# select the job you want to get the logs for\n",
    "\n",
    "job = '7cb62b31-e28e-5d9d-aa0c-4e510c17a44e'"
   ]
  },
  {
   "cell_type": "code",
   "execution_count": 6,
   "metadata": {},
   "outputs": [
    {
     "data": {
      "text/plain": [
       "[LogEntry(timestamp=datetime.datetime(2024, 9, 18, 14, 44, 4, 621847, tzinfo=datetime.timezone.utc), message='time=\"2024-09-18T14:44:04.621Z\" level=info msg=\"Starting Workflow Executor\" version=v3.5.7'),\n",
       " LogEntry(timestamp=datetime.datetime(2024, 9, 18, 14, 44, 4, 627075, tzinfo=datetime.timezone.utc), message='time=\"2024-09-18T14:44:04.626Z\" level=info msg=\"Using executor retry strategy\" Duration=1s Factor=1.6 Jitter=0.5 Steps=5'),\n",
       " LogEntry(timestamp=datetime.datetime(2024, 9, 18, 14, 44, 4, 627099, tzinfo=datetime.timezone.utc), message='time=\"2024-09-18T14:44:04.627Z\" level=info msg=\"Executor initialized\" deadline=\"0001-01-01 00:00:00 +0000 UTC\" includeScriptOutput=false namespace=ws-serverless podName=workflow-bwzcq-function-1436160569 templateName=function version=\"&Version{Version:v3.5.7,BuildDate:2024-05-27T06:18:59Z,GitCommit:503eef1357ebc9facc3f463708031441072ef7c2,GitTag:v3.5.7,GitTreeState:clean,GoVersion:go1.21.10,Compiler:gc,Platform:linux/amd64,}\"'),\n",
       " LogEntry(timestamp=datetime.datetime(2024, 9, 18, 14, 44, 4, 769609, tzinfo=datetime.timezone.utc), message='time=\"2024-09-18T14:44:04.769Z\" level=info msg=\"Start loading input artifacts...\"'),\n",
       " LogEntry(timestamp=datetime.datetime(2024, 9, 18, 14, 44, 4, 769621, tzinfo=datetime.timezone.utc), message='time=\"2024-09-18T14:44:04.769Z\" level=info msg=\"Alloc=7424 TotalAlloc=13340 Sys=24933 NumGC=4 Goroutines=4\"'),\n",
       " LogEntry(timestamp=datetime.datetime(2024, 9, 18, 14, 44, 5, 972220, tzinfo=datetime.timezone.utc), message='+ success=0'),\n",
       " LogEntry(timestamp=datetime.datetime(2024, 9, 18, 14, 44, 5, 972247, tzinfo=datetime.timezone.utc), message='+ fail_multiple_input=10'),\n",
       " LogEntry(timestamp=datetime.datetime(2024, 9, 18, 14, 44, 5, 972252, tzinfo=datetime.timezone.utc), message='+ fail_file_not_found=11'),\n",
       " LogEntry(timestamp=datetime.datetime(2024, 9, 18, 14, 44, 5, 972255, tzinfo=datetime.timezone.utc), message='+ fail_inputs=12'),\n",
       " LogEntry(timestamp=datetime.datetime(2024, 9, 18, 14, 44, 5, 972259, tzinfo=datetime.timezone.utc), message='+ fail_uncompress=20'),\n",
       " LogEntry(timestamp=datetime.datetime(2024, 9, 18, 14, 44, 5, 972262, tzinfo=datetime.timezone.utc), message='+ fail_tools=30'),\n",
       " LogEntry(timestamp=datetime.datetime(2024, 9, 18, 14, 44, 5, 972265, tzinfo=datetime.timezone.utc), message='+ fail_graph=40'),\n",
       " LogEntry(timestamp=datetime.datetime(2024, 9, 18, 14, 44, 5, 972270, tzinfo=datetime.timezone.utc), message='+ readonly BASE_DIR=/home/worker'),\n",
       " LogEntry(timestamp=datetime.datetime(2024, 9, 18, 14, 44, 5, 972273, tzinfo=datetime.timezone.utc), message='+ BASE_DIR=/home/worker'),\n",
       " LogEntry(timestamp=datetime.datetime(2024, 9, 18, 14, 44, 5, 972277, tzinfo=datetime.timezone.utc), message='+ readonly PROC_DIR=/home/worker/processor'),\n",
       " LogEntry(timestamp=datetime.datetime(2024, 9, 18, 14, 44, 5, 972280, tzinfo=datetime.timezone.utc), message='+ PROC_DIR=/home/worker/processor'),\n",
       " LogEntry(timestamp=datetime.datetime(2024, 9, 18, 14, 44, 5, 972284, tzinfo=datetime.timezone.utc), message='+ readonly WORK_DIR=/home/worker/workDir'),\n",
       " LogEntry(timestamp=datetime.datetime(2024, 9, 18, 14, 44, 5, 972288, tzinfo=datetime.timezone.utc), message='+ WORK_DIR=/home/worker/workDir'),\n",
       " LogEntry(timestamp=datetime.datetime(2024, 9, 18, 14, 44, 5, 972291, tzinfo=datetime.timezone.utc), message='+ readonly INPU_DIR=/home/worker/workDir/inDir/eo_input'),\n",
       " LogEntry(timestamp=datetime.datetime(2024, 9, 18, 14, 44, 5, 972294, tzinfo=datetime.timezone.utc), message='+ INPU_DIR=/home/worker/workDir/inDir/eo_input'),\n",
       " LogEntry(timestamp=datetime.datetime(2024, 9, 18, 14, 44, 5, 972298, tzinfo=datetime.timezone.utc), message='+ readonly OUTP_DIR=/home/worker/workDir/outDir/output'),\n",
       " LogEntry(timestamp=datetime.datetime(2024, 9, 18, 14, 44, 5, 972301, tzinfo=datetime.timezone.utc), message='+ OUTP_DIR=/home/worker/workDir/outDir/output'),\n",
       " LogEntry(timestamp=datetime.datetime(2024, 9, 18, 14, 44, 5, 972314, tzinfo=datetime.timezone.utc), message='+ readonly PROPS=/home/worker/workDir/function.properties'),\n",
       " LogEntry(timestamp=datetime.datetime(2024, 9, 18, 14, 44, 5, 972318, tzinfo=datetime.timezone.utc), message='+ PROPS=/home/worker/workDir/function.properties'),\n",
       " LogEntry(timestamp=datetime.datetime(2024, 9, 18, 14, 44, 5, 972321, tzinfo=datetime.timezone.utc), message='+ readonly GPT_BIN=/usr/local/snap/bin/gpt'),\n",
       " LogEntry(timestamp=datetime.datetime(2024, 9, 18, 14, 44, 5, 972324, tzinfo=datetime.timezone.utc), message='+ GPT_BIN=/usr/local/snap/bin/gpt'),\n",
       " LogEntry(timestamp=datetime.datetime(2024, 9, 18, 14, 44, 5, 972328, tzinfo=datetime.timezone.utc), message='+ readonly LOCAL_SNAP_GRAPH=/home/worker/workDir/graph.xml'),\n",
       " LogEntry(timestamp=datetime.datetime(2024, 9, 18, 14, 44, 5, 972331, tzinfo=datetime.timezone.utc), message='+ LOCAL_SNAP_GRAPH=/home/worker/workDir/graph.xml'),\n",
       " LogEntry(timestamp=datetime.datetime(2024, 9, 18, 14, 44, 5, 972335, tzinfo=datetime.timezone.utc), message='+ readonly TIMEOUT_VALUE_SECONDS=3600'),\n",
       " LogEntry(timestamp=datetime.datetime(2024, 9, 18, 14, 44, 5, 972338, tzinfo=datetime.timezone.utc), message='+ TIMEOUT_VALUE_SECONDS=3600'),\n",
       " LogEntry(timestamp=datetime.datetime(2024, 9, 18, 14, 44, 5, 972342, tzinfo=datetime.timezone.utc), message='+ readonly TIMEOUT_INTERVAL_SECONDS=60'),\n",
       " LogEntry(timestamp=datetime.datetime(2024, 9, 18, 14, 44, 5, 972347, tzinfo=datetime.timezone.utc), message='+ TIMEOUT_INTERVAL_SECONDS=60'),\n",
       " LogEntry(timestamp=datetime.datetime(2024, 9, 18, 14, 44, 5, 972350, tzinfo=datetime.timezone.utc), message='+ readonly TIMEOUT_DELAY_SECONDS=30'),\n",
       " LogEntry(timestamp=datetime.datetime(2024, 9, 18, 14, 44, 5, 972354, tzinfo=datetime.timezone.utc), message='+ TIMEOUT_DELAY_SECONDS=30'),\n",
       " LogEntry(timestamp=datetime.datetime(2024, 9, 18, 14, 44, 5, 972690, tzinfo=datetime.timezone.utc), message='+ main'),\n",
       " LogEntry(timestamp=datetime.datetime(2024, 9, 18, 14, 44, 5, 972700, tzinfo=datetime.timezone.utc), message='+ check_tools'),\n",
       " LogEntry(timestamp=datetime.datetime(2024, 9, 18, 14, 44, 5, 972704, tzinfo=datetime.timezone.utc), message='+ for tool in unzip tar xmllint uuid base64 xmlstarlet'),\n",
       " LogEntry(timestamp=datetime.datetime(2024, 9, 18, 14, 44, 5, 972707, tzinfo=datetime.timezone.utc), message='+ which unzip'),\n",
       " LogEntry(timestamp=datetime.datetime(2024, 9, 18, 14, 44, 5, 975146, tzinfo=datetime.timezone.utc), message=\"+ '[' 0 -ne 0 ']'\"),\n",
       " LogEntry(timestamp=datetime.datetime(2024, 9, 18, 14, 44, 5, 975151, tzinfo=datetime.timezone.utc), message='+ for tool in unzip tar xmllint uuid base64 xmlstarlet'),\n",
       " LogEntry(timestamp=datetime.datetime(2024, 9, 18, 14, 44, 5, 975155, tzinfo=datetime.timezone.utc), message='+ which tar'),\n",
       " LogEntry(timestamp=datetime.datetime(2024, 9, 18, 14, 44, 5, 976449, tzinfo=datetime.timezone.utc), message=\"+ '[' 0 -ne 0 ']'\"),\n",
       " LogEntry(timestamp=datetime.datetime(2024, 9, 18, 14, 44, 5, 976456, tzinfo=datetime.timezone.utc), message='+ for tool in unzip tar xmllint uuid base64 xmlstarlet'),\n",
       " LogEntry(timestamp=datetime.datetime(2024, 9, 18, 14, 44, 5, 976460, tzinfo=datetime.timezone.utc), message='+ which xmllint'),\n",
       " LogEntry(timestamp=datetime.datetime(2024, 9, 18, 14, 44, 5, 978694, tzinfo=datetime.timezone.utc), message=\"+ '[' 0 -ne 0 ']'\"),\n",
       " LogEntry(timestamp=datetime.datetime(2024, 9, 18, 14, 44, 5, 978699, tzinfo=datetime.timezone.utc), message='+ for tool in unzip tar xmllint uuid base64 xmlstarlet'),\n",
       " LogEntry(timestamp=datetime.datetime(2024, 9, 18, 14, 44, 5, 978702, tzinfo=datetime.timezone.utc), message='+ which uuid'),\n",
       " LogEntry(timestamp=datetime.datetime(2024, 9, 18, 14, 44, 5, 980099, tzinfo=datetime.timezone.utc), message=\"+ '[' 0 -ne 0 ']'\"),\n",
       " LogEntry(timestamp=datetime.datetime(2024, 9, 18, 14, 44, 5, 980106, tzinfo=datetime.timezone.utc), message='+ for tool in unzip tar xmllint uuid base64 xmlstarlet'),\n",
       " LogEntry(timestamp=datetime.datetime(2024, 9, 18, 14, 44, 5, 980109, tzinfo=datetime.timezone.utc), message='+ which base64'),\n",
       " LogEntry(timestamp=datetime.datetime(2024, 9, 18, 14, 44, 5, 981410, tzinfo=datetime.timezone.utc), message=\"+ '[' 0 -ne 0 ']'\"),\n",
       " LogEntry(timestamp=datetime.datetime(2024, 9, 18, 14, 44, 5, 981418, tzinfo=datetime.timezone.utc), message='+ for tool in unzip tar xmllint uuid base64 xmlstarlet'),\n",
       " LogEntry(timestamp=datetime.datetime(2024, 9, 18, 14, 44, 5, 981422, tzinfo=datetime.timezone.utc), message='+ which xmlstarlet'),\n",
       " LogEntry(timestamp=datetime.datetime(2024, 9, 18, 14, 44, 5, 983237, tzinfo=datetime.timezone.utc), message=\"+ '[' 0 -ne 0 ']'\"),\n",
       " LogEntry(timestamp=datetime.datetime(2024, 9, 18, 14, 44, 5, 983256, tzinfo=datetime.timezone.utc), message='+ check_properties'),\n",
       " LogEntry(timestamp=datetime.datetime(2024, 9, 18, 14, 44, 5, 983261, tzinfo=datetime.timezone.utc), message='+ test -f /home/worker/workDir/function.properties'),\n",
       " LogEntry(timestamp=datetime.datetime(2024, 9, 18, 14, 44, 5, 992644, tzinfo=datetime.timezone.utc), message='+ source /home/worker/workDir/function.properties'),\n",
       " LogEntry(timestamp=datetime.datetime(2024, 9, 18, 14, 44, 6, 10663, tzinfo=datetime.timezone.utc), message='++ snap_graph=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'),\n",
       " LogEntry(timestamp=datetime.datetime(2024, 9, 18, 14, 44, 6, 10684, tzinfo=datetime.timezone.utc), message='++ eo_input=\\'[{\"img1\": \"https://gateway.prod.wekeo2.eu/hda-broker/api/v1/dataaccess/download/66eae63b94f83a7bc78d7d45\"}]\\''),\n",
       " LogEntry(timestamp=datetime.datetime(2024, 9, 18, 14, 44, 6, 10688, tzinfo=datetime.timezone.utc), message='++ eo_config=\\'[{\"img1\": {\"uncompress\": true, \"subPath\": \"xfdumanifest.xml\"}}]\\''),\n",
       " LogEntry(timestamp=datetime.datetime(2024, 9, 18, 14, 44, 6, 10692, tzinfo=datetime.timezone.utc), message='+ validate_inputs'),\n",
       " LogEntry(timestamp=datetime.datetime(2024, 9, 18, 14, 44, 6, 10696, tzinfo=datetime.timezone.utc), message='+ for i in eo_input eo_config'),\n",
       " LogEntry(timestamp=datetime.datetime(2024, 9, 18, 14, 44, 6, 11218, tzinfo=datetime.timezone.utc), message='+ echo \\'[{\"img1\":\\' \\'\"https://gateway.prod.wekeo2.eu/hda-broker/api/v1/dataaccess/download/66eae63b94f83a7bc78d7d45\"}]\\''),\n",
       " LogEntry(timestamp=datetime.datetime(2024, 9, 18, 14, 44, 6, 11229, tzinfo=datetime.timezone.utc), message='+ jq .'),\n",
       " LogEntry(timestamp=datetime.datetime(2024, 9, 18, 14, 44, 6, 14096, tzinfo=datetime.timezone.utc), message=\"+ '[' 0 -ne 0 ']'\"),\n",
       " LogEntry(timestamp=datetime.datetime(2024, 9, 18, 14, 44, 6, 14106, tzinfo=datetime.timezone.utc), message='+ for i in eo_input eo_config'),\n",
       " LogEntry(timestamp=datetime.datetime(2024, 9, 18, 14, 44, 6, 14595, tzinfo=datetime.timezone.utc), message='+ echo \\'[{\"img1\":\\' \\'{\"uncompress\":\\' true, \\'\"subPath\":\\' \\'\"xfdumanifest.xml\"}}]\\''),\n",
       " LogEntry(timestamp=datetime.datetime(2024, 9, 18, 14, 44, 6, 14603, tzinfo=datetime.timezone.utc), message='+ jq .'),\n",
       " LogEntry(timestamp=datetime.datetime(2024, 9, 18, 14, 44, 6, 17348, tzinfo=datetime.timezone.utc), message=\"+ '[' 0 -ne 0 ']'\"),\n",
       " LogEntry(timestamp=datetime.datetime(2024, 9, 18, 14, 44, 6, 17361, tzinfo=datetime.timezone.utc), message='+ prepare_env'),\n",
       " LogEntry(timestamp=datetime.datetime(2024, 9, 18, 14, 44, 6, 17365, tzinfo=datetime.timezone.utc), message='+ mkdir -p /home/worker/workDir/outDir/output'),\n",
       " LogEntry(timestamp=datetime.datetime(2024, 9, 18, 14, 44, 6, 28226, tzinfo=datetime.timezone.utc), message='+ prepare_graph'),\n",
       " LogEntry(timestamp=datetime.datetime(2024, 9, 18, 14, 44, 6, 28766, tzinfo=datetime.timezone.utc), message='+ echo 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'),\n",
       " LogEntry(timestamp=datetime.datetime(2024, 9, 18, 14, 44, 6, 28784, tzinfo=datetime.timezone.utc), message='+ base64 -d'),\n",
       " LogEntry(timestamp=datetime.datetime(2024, 9, 18, 14, 44, 6, 28866, tzinfo=datetime.timezone.utc), message='+ xmllint -'),\n",
       " LogEntry(timestamp=datetime.datetime(2024, 9, 18, 14, 44, 6, 34120, tzinfo=datetime.timezone.utc), message=\"+ '[' 0 -ne 0 ']'\"),\n",
       " LogEntry(timestamp=datetime.datetime(2024, 9, 18, 14, 44, 6, 34130, tzinfo=datetime.timezone.utc), message='+ xmlstarlet ed -L -u \\'/graph/node[@id=\"Write\"]/parameters/file\\' -v \\'$output\\' /home/worker/workDir/graph.xml'),\n",
       " LogEntry(timestamp=datetime.datetime(2024, 9, 18, 14, 44, 6, 38665, tzinfo=datetime.timezone.utc), message=\"+ '[' 0 -ne 0 ']'\"),\n",
       " LogEntry(timestamp=datetime.datetime(2024, 9, 18, 14, 44, 6, 39043, tzinfo=datetime.timezone.utc), message='++ prepare_inputs'),\n",
       " LogEntry(timestamp=datetime.datetime(2024, 9, 18, 14, 44, 6, 39083, tzinfo=datetime.timezone.utc), message='++ local i'),\n",
       " LogEntry(timestamp=datetime.datetime(2024, 9, 18, 14, 44, 6, 39088, tzinfo=datetime.timezone.utc), message='++ local uncompress'),\n",
       " LogEntry(timestamp=datetime.datetime(2024, 9, 18, 14, 44, 6, 39092, tzinfo=datetime.timezone.utc), message='++ local subPath'),\n",
       " LogEntry(timestamp=datetime.datetime(2024, 9, 18, 14, 44, 6, 39095, tzinfo=datetime.timezone.utc), message='++ local input_file'),\n",
       " LogEntry(timestamp=datetime.datetime(2024, 9, 18, 14, 44, 6, 39099, tzinfo=datetime.timezone.utc), message='++ local found_file'),\n",
       " LogEntry(timestamp=datetime.datetime(2024, 9, 18, 14, 44, 6, 39106, tzinfo=datetime.timezone.utc), message='++ declare -a snap_input_flags'),\n",
       " LogEntry(timestamp=datetime.datetime(2024, 9, 18, 14, 44, 6, 39790, tzinfo=datetime.timezone.utc), message='+++ echo \\'[{\"img1\":\\' \\'\"https://gateway.prod.wekeo2.eu/hda-broker/api/v1/dataaccess/download/66eae63b94f83a7bc78d7d45\"}]\\''),\n",
       " LogEntry(timestamp=datetime.datetime(2024, 9, 18, 14, 44, 6, 39921, tzinfo=datetime.timezone.utc), message=\"+++ jq -r '.[] | keys | .[]'\"),\n",
       " LogEntry(timestamp=datetime.datetime(2024, 9, 18, 14, 44, 6, 42876, tzinfo=datetime.timezone.utc), message=\"++ for i in $(echo ${eo_input} | jq -r '.[] | keys | .[]')\"),\n",
       " LogEntry(timestamp=datetime.datetime(2024, 9, 18, 14, 44, 6, 42887, tzinfo=datetime.timezone.utc), message=\"++ info 'Preparing input: img1'\"),\n",
       " LogEntry(timestamp=datetime.datetime(2024, 9, 18, 14, 44, 6, 42893, tzinfo=datetime.timezone.utc), message='++ log INFO Preparing input: img1'),\n",
       " LogEntry(timestamp=datetime.datetime(2024, 9, 18, 14, 44, 6, 42930, tzinfo=datetime.timezone.utc), message='++ local log_level=INFO'),\n",
       " LogEntry(timestamp=datetime.datetime(2024, 9, 18, 14, 44, 6, 42936, tzinfo=datetime.timezone.utc), message=\"++ local 'log_msg=Preparing input: img1'\"),\n",
       " LogEntry(timestamp=datetime.datetime(2024, 9, 18, 14, 44, 6, 43311, tzinfo=datetime.timezone.utc), message='+++ date +%Y-%m-%dT%H:%M:%S%z'),\n",
       " LogEntry(timestamp=datetime.datetime(2024, 9, 18, 14, 44, 6, 44223, tzinfo=datetime.timezone.utc), message=\"++ echo -e '[2024-09-18T14:44:06+0000] [INFO] - Preparing input: img1'\"),\n",
       " LogEntry(timestamp=datetime.datetime(2024, 9, 18, 14, 44, 6, 44229, tzinfo=datetime.timezone.utc), message='[2024-09-18T14:44:06+0000] [INFO] - Preparing input: img1'),\n",
       " LogEntry(timestamp=datetime.datetime(2024, 9, 18, 14, 44, 6, 44916, tzinfo=datetime.timezone.utc), message='+++ find /home/worker/workDir/inDir/eo_input/img1 -type f'),\n",
       " LogEntry(timestamp=datetime.datetime(2024, 9, 18, 14, 44, 6, 89784, tzinfo=datetime.timezone.utc), message='++ input_file=/home/worker/workDir/inDir/eo_input/img1/S3B_OL_2_WFR____20240806T085746_20240806T090046_20240807T162929_0179_096_107_1980_MAR_O_NT_003.SEN3.zip'),\n",
       " LogEntry(timestamp=datetime.datetime(2024, 9, 18, 14, 44, 6, 89803, tzinfo=datetime.timezone.utc), message=\"++ '[' 0 -ne 0 ']'\"),\n",
       " LogEntry(timestamp=datetime.datetime(2024, 9, 18, 14, 44, 6, 89808, tzinfo=datetime.timezone.utc), message='++ found_file='),\n",
       " LogEntry(timestamp=datetime.datetime(2024, 9, 18, 14, 44, 6, 90750, tzinfo=datetime.timezone.utc), message='+++ echo \\'[{\"img1\":\\' \\'{\"uncompress\":\\' true, \\'\"subPath\":\\' \\'\"xfdumanifest.xml\"}}]\\''),\n",
       " LogEntry(timestamp=datetime.datetime(2024, 9, 18, 14, 44, 6, 91065, tzinfo=datetime.timezone.utc), message=\"+++ jq -r '.[].img1.uncompress'\"),\n",
       " LogEntry(timestamp=datetime.datetime(2024, 9, 18, 14, 44, 6, 94257, tzinfo=datetime.timezone.utc), message='++ uncompress=true'),\n",
       " LogEntry(timestamp=datetime.datetime(2024, 9, 18, 14, 44, 6, 94267, tzinfo=datetime.timezone.utc), message='++ [[ true != \\\\n\\\\u\\\\l\\\\l ]]'),\n",
       " LogEntry(timestamp=datetime.datetime(2024, 9, 18, 14, 44, 6, 94271, tzinfo=datetime.timezone.utc), message='++ [[ true == \\\\t\\\\r\\\\u\\\\e ]]'),\n",
       " LogEntry(timestamp=datetime.datetime(2024, 9, 18, 14, 44, 6, 94275, tzinfo=datetime.timezone.utc), message='++ [[ /home/worker/workDir/inDir/eo_input/img1/S3B_OL_2_WFR____20240806T085746_20240806T090046_20240807T162929_0179_096_107_1980_MAR_O_NT_003.SEN3.zip =~ \\\\.zip$ ]]'),\n",
       " LogEntry(timestamp=datetime.datetime(2024, 9, 18, 14, 44, 6, 94325, tzinfo=datetime.timezone.utc), message='++ unzip /home/worker/workDir/inDir/eo_input/img1/S3B_OL_2_WFR____20240806T085746_20240806T090046_20240807T162929_0179_096_107_1980_MAR_O_NT_003.SEN3.zip -d /home/worker/workDir/inDir/eo_input/img1'),\n",
       " LogEntry(timestamp=datetime.datetime(2024, 9, 18, 14, 44, 9, 805783, tzinfo=datetime.timezone.utc), message='++ [[ 0 -ne 0 ]]'),\n",
       " LogEntry(timestamp=datetime.datetime(2024, 9, 18, 14, 44, 9, 806627, tzinfo=datetime.timezone.utc), message='+++ echo \\'[{\"img1\":\\' \\'{\"uncompress\":\\' true, \\'\"subPath\":\\' \\'\"xfdumanifest.xml\"}}]\\''),\n",
       " LogEntry(timestamp=datetime.datetime(2024, 9, 18, 14, 44, 9, 806717, tzinfo=datetime.timezone.utc), message=\"+++ jq -r '.[].img1.subPath'\"),\n",
       " LogEntry(timestamp=datetime.datetime(2024, 9, 18, 14, 44, 9, 809686, tzinfo=datetime.timezone.utc), message='++ subPath=xfdumanifest.xml'),\n",
       " LogEntry(timestamp=datetime.datetime(2024, 9, 18, 14, 44, 9, 809738, tzinfo=datetime.timezone.utc), message='++ [[ xfdumanifest.xml != \\\\n\\\\u\\\\l\\\\l ]]'),\n",
       " LogEntry(timestamp=datetime.datetime(2024, 9, 18, 14, 44, 9, 810201, tzinfo=datetime.timezone.utc), message='+++ find /home/worker/workDir/inDir/eo_input/img1 -name xfdumanifest.xml -type f'),\n",
       " LogEntry(timestamp=datetime.datetime(2024, 9, 18, 14, 44, 9, 811527, tzinfo=datetime.timezone.utc), message='++ found_file=/home/worker/workDir/inDir/eo_input/img1/S3B_OL_2_WFR____20240806T085746_20240806T090046_20240807T162929_0179_096_107_1980_MAR_O_NT_003.SEN3/xfdumanifest.xml'),\n",
       " LogEntry(timestamp=datetime.datetime(2024, 9, 18, 14, 44, 9, 811584, tzinfo=datetime.timezone.utc), message='++ [[ -n /home/worker/workDir/inDir/eo_input/img1/S3B_OL_2_WFR____20240806T085746_20240806T090046_20240807T162929_0179_096_107_1980_MAR_O_NT_003.SEN3/xfdumanifest.xml ]]'),\n",
       " LogEntry(timestamp=datetime.datetime(2024, 9, 18, 14, 44, 9, 811973, tzinfo=datetime.timezone.utc), message='+++ wc -w'),\n",
       " LogEntry(timestamp=datetime.datetime(2024, 9, 18, 14, 44, 9, 813416, tzinfo=datetime.timezone.utc), message='++ [[ 1 -eq 1 ]]'),\n",
       " LogEntry(timestamp=datetime.datetime(2024, 9, 18, 14, 44, 9, 813431, tzinfo=datetime.timezone.utc), message='++ snap_input_flags+=(-P${i}=${found_file})'),\n",
       " LogEntry(timestamp=datetime.datetime(2024, 9, 18, 14, 44, 9, 813521, tzinfo=datetime.timezone.utc), message=\"++ info 'Input img1 is ready. Input location: /home/worker/workDir/inDir/eo_input/img1/S3B_OL_2_WFR____20240806T085746_20240806T090046_20240807T162929_0179_096_107_1980_MAR_O_NT_003.SEN3/xfdumanifest.xml'\"),\n",
       " LogEntry(timestamp=datetime.datetime(2024, 9, 18, 14, 44, 9, 813579, tzinfo=datetime.timezone.utc), message='++ log INFO Input img1 is ready. Input location: /home/worker/workDir/inDir/eo_input/img1/S3B_OL_2_WFR____20240806T085746_20240806T090046_20240807T162929_0179_096_107_1980_MAR_O_NT_003.SEN3/xfdumanifest.xml'),\n",
       " LogEntry(timestamp=datetime.datetime(2024, 9, 18, 14, 44, 9, 813589, tzinfo=datetime.timezone.utc), message='++ local log_level=INFO'),\n",
       " LogEntry(timestamp=datetime.datetime(2024, 9, 18, 14, 44, 9, 813659, tzinfo=datetime.timezone.utc), message=\"++ local 'log_msg=Input img1 is ready. Input location: /home/worker/workDir/inDir/eo_input/img1/S3B_OL_2_WFR____20240806T085746_20240806T090046_20240807T162929_0179_096_107_1980_MAR_O_NT_003.SEN3/xfdumanifest.xml'\"),\n",
       " LogEntry(timestamp=datetime.datetime(2024, 9, 18, 14, 44, 9, 814045, tzinfo=datetime.timezone.utc), message='+++ date +%Y-%m-%dT%H:%M:%S%z'),\n",
       " LogEntry(timestamp=datetime.datetime(2024, 9, 18, 14, 44, 9, 814955, tzinfo=datetime.timezone.utc), message=\"++ echo -e '[2024-09-18T14:44:09+0000] [INFO] - Input img1 is ready. Input location: /home/worker/workDir/inDir/eo_input/img1/S3B_OL_2_WFR____20240806T085746_20240806T090046_20240807T162929_0179_096_107_1980_MAR_O_NT_003.SEN3/xfdumanifest.xml'\"),\n",
       " LogEntry(timestamp=datetime.datetime(2024, 9, 18, 14, 44, 9, 814968, tzinfo=datetime.timezone.utc), message='[2024-09-18T14:44:09+0000] [INFO] - Input img1 is ready. Input location: /home/worker/workDir/inDir/eo_input/img1/S3B_OL_2_WFR____20240806T085746_20240806T090046_20240807T162929_0179_096_107_1980_MAR_O_NT_003.SEN3/xfdumanifest.xml'),\n",
       " LogEntry(timestamp=datetime.datetime(2024, 9, 18, 14, 44, 9, 815053, tzinfo=datetime.timezone.utc), message='++ echo -Pimg1=/home/worker/workDir/inDir/eo_input/img1/S3B_OL_2_WFR____20240806T085746_20240806T090046_20240807T162929_0179_096_107_1980_MAR_O_NT_003.SEN3/xfdumanifest.xml'),\n",
       " LogEntry(timestamp=datetime.datetime(2024, 9, 18, 14, 44, 9, 815514, tzinfo=datetime.timezone.utc), message='+ snap_input_flags=-Pimg1=/home/worker/workDir/inDir/eo_input/img1/S3B_OL_2_WFR____20240806T085746_20240806T090046_20240807T162929_0179_096_107_1980_MAR_O_NT_003.SEN3/xfdumanifest.xml'),\n",
       " LogEntry(timestamp=datetime.datetime(2024, 9, 18, 14, 44, 9, 815534, tzinfo=datetime.timezone.utc), message='+ res=0'),\n",
       " LogEntry(timestamp=datetime.datetime(2024, 9, 18, 14, 44, 9, 815540, tzinfo=datetime.timezone.utc), message='+ [[ 0 -ne 0 ]]'),\n",
       " LogEntry(timestamp=datetime.datetime(2024, 9, 18, 14, 44, 9, 815910, tzinfo=datetime.timezone.utc), message='++ uuid'),\n",
       " LogEntry(timestamp=datetime.datetime(2024, 9, 18, 14, 44, 9, 817508, tzinfo=datetime.timezone.utc), message='+ snap_output_flags=-Poutput=/home/worker/workDir/outDir/output/76c4f06e-75cc-11ef-9aa4-0ea904598d5c'),\n",
       " LogEntry(timestamp=datetime.datetime(2024, 9, 18, 14, 44, 9, 817548, tzinfo=datetime.timezone.utc), message=\"+ launch_snap '/home/worker/workDir/graph.xml -Pimg1=/home/worker/workDir/inDir/eo_input/img1/S3B_OL_2_WFR____20240806T085746_20240806T090046_20240807T162929_0179_096_107_1980_MAR_O_NT_003.SEN3/xfdumanifest.xml -Poutput=/home/worker/workDir/outDir/output/76c4f06e-75cc-11ef-9aa4-0ea904598d5c'\"),\n",
       " LogEntry(timestamp=datetime.datetime(2024, 9, 18, 14, 44, 9, 817563, tzinfo=datetime.timezone.utc), message=\"+ info '/usr/local/snap/bin/gpt /home/worker/workDir/graph.xml -Pimg1=/home/worker/workDir/inDir/eo_input/img1/S3B_OL_2_WFR____20240806T085746_20240806T090046_20240807T162929_0179_096_107_1980_MAR_O_NT_003.SEN3/xfdumanifest.xml -Poutput=/home/worker/workDir/outDir/output/76c4f06e-75cc-11ef-9aa4-0ea904598d5c'\"),\n",
       " LogEntry(timestamp=datetime.datetime(2024, 9, 18, 14, 44, 9, 817573, tzinfo=datetime.timezone.utc), message='+ log INFO /usr/local/snap/bin/gpt /home/worker/workDir/graph.xml -Pimg1=/home/worker/workDir/inDir/eo_input/img1/S3B_OL_2_WFR____20240806T085746_20240806T090046_20240807T162929_0179_096_107_1980_MAR_O_NT_003.SEN3/xfdumanifest.xml -Poutput=/home/worker/workDir/outDir/output/76c4f06e-75cc-11ef-9aa4-0ea904598d5c'),\n",
       " LogEntry(timestamp=datetime.datetime(2024, 9, 18, 14, 44, 9, 817605, tzinfo=datetime.timezone.utc), message='+ local log_level=INFO'),\n",
       " LogEntry(timestamp=datetime.datetime(2024, 9, 18, 14, 44, 9, 817615, tzinfo=datetime.timezone.utc), message=\"+ local 'log_msg=/usr/local/snap/bin/gpt /home/worker/workDir/graph.xml -Pimg1=/home/worker/workDir/inDir/eo_input/img1/S3B_OL_2_WFR____20240806T085746_20240806T090046_20240807T162929_0179_096_107_1980_MAR_O_NT_003.SEN3/xfdumanifest.xml -Poutput=/home/worker/workDir/outDir/output/76c4f06e-75cc-11ef-9aa4-0ea904598d5c'\"),\n",
       " LogEntry(timestamp=datetime.datetime(2024, 9, 18, 14, 44, 9, 818015, tzinfo=datetime.timezone.utc), message='++ date +%Y-%m-%dT%H:%M:%S%z'),\n",
       " LogEntry(timestamp=datetime.datetime(2024, 9, 18, 14, 44, 9, 818940, tzinfo=datetime.timezone.utc), message=\"+ echo -e '[2024-09-18T14:44:09+0000] [INFO] - /usr/local/snap/bin/gpt /home/worker/workDir/graph.xml -Pimg1=/home/worker/workDir/inDir/eo_input/img1/S3B_OL_2_WFR____20240806T085746_20240806T090046_20240807T162929_0179_096_107_1980_MAR_O_NT_003.SEN3/xfdumanifest.xml -Poutput=/home/worker/workDir/outDir/output/76c4f06e-75cc-11ef-9aa4-0ea904598d5c'\"),\n",
       " LogEntry(timestamp=datetime.datetime(2024, 9, 18, 14, 44, 9, 818955, tzinfo=datetime.timezone.utc), message='[2024-09-18T14:44:09+0000] [INFO] - /usr/local/snap/bin/gpt /home/worker/workDir/graph.xml -Pimg1=/home/worker/workDir/inDir/eo_input/img1/S3B_OL_2_WFR____20240806T085746_20240806T090046_20240807T162929_0179_096_107_1980_MAR_O_NT_003.SEN3/xfdumanifest.xml -Poutput=/home/worker/workDir/outDir/output/76c4f06e-75cc-11ef-9aa4-0ea904598d5c'),\n",
       " LogEntry(timestamp=datetime.datetime(2024, 9, 18, 14, 44, 9, 819006, tzinfo=datetime.timezone.utc), message='+ /home/worker/processor/timeout.sh -t 3600 -i 60 -d 30 /usr/local/snap/bin/gpt /home/worker/workDir/graph.xml -Pimg1=/home/worker/workDir/inDir/eo_input/img1/S3B_OL_2_WFR____20240806T085746_20240806T090046_20240807T162929_0179_096_107_1980_MAR_O_NT_003.SEN3/xfdumanifest.xml -Poutput=/home/worker/workDir/outDir/output/76c4f06e-75cc-11ef-9aa4-0ea904598d5c'),\n",
       " LogEntry(timestamp=datetime.datetime(2024, 9, 18, 14, 44, 10, 311110, tzinfo=datetime.timezone.utc), message='WARNING: An illegal reflective access operation has occurred'),\n",
       " LogEntry(timestamp=datetime.datetime(2024, 9, 18, 14, 44, 10, 311165, tzinfo=datetime.timezone.utc), message='WARNING: Illegal reflective access by org.esa.snap.runtime.Engine (file:/usr/local/snap/snap/modules/ext/org.esa.snap.snap-core/org-esa-snap/snap-runtime.jar) to method java.lang.ClassLoader.initializePath(java.lang.String)'),\n",
       " LogEntry(timestamp=datetime.datetime(2024, 9, 18, 14, 44, 10, 311211, tzinfo=datetime.timezone.utc), message='WARNING: Please consider reporting this to the maintainers of org.esa.snap.runtime.Engine'),\n",
       " LogEntry(timestamp=datetime.datetime(2024, 9, 18, 14, 44, 10, 311225, tzinfo=datetime.timezone.utc), message='WARNING: Use --illegal-access=warn to enable warnings of further illegal reflective access operations'),\n",
       " LogEntry(timestamp=datetime.datetime(2024, 9, 18, 14, 44, 10, 311242, tzinfo=datetime.timezone.utc), message='WARNING: All illegal access operations will be denied in a future release'),\n",
       " LogEntry(timestamp=datetime.datetime(2024, 9, 18, 14, 44, 11, 169553, tzinfo=datetime.timezone.utc), message='WARNING: org.esa.snap.core.util.ServiceLoader: org.esa.snap.core.gpf.OperatorSpi: Provider eu.esa.opt.meris.sdr.aerosol.AerosolMergerOp$Spi not found'),\n",
       " LogEntry(timestamp=datetime.datetime(2024, 9, 18, 14, 44, 11, 170030, tzinfo=datetime.timezone.utc), message='WARNING: org.esa.snap.core.util.ServiceLoader: org.esa.snap.core.gpf.OperatorSpi: Provider eu.esa.opt.meris.sdr.aerosol.ModisAerosolOp$Spi not found'),\n",
       " LogEntry(timestamp=datetime.datetime(2024, 9, 18, 14, 44, 11, 412021, tzinfo=datetime.timezone.utc), message='INFO: org.esa.snap.core.gpf.operators.tooladapter.ToolAdapterIO: Initializing external tool adapters'),\n",
       " LogEntry(timestamp=datetime.datetime(2024, 9, 18, 14, 44, 11, 546810, tzinfo=datetime.timezone.utc), message='INFO: org.esa.snap.core.util.EngineVersionCheckActivator: Please check regularly for new updates for the best SNAP experience.'),\n",
       " LogEntry(timestamp=datetime.datetime(2024, 9, 18, 14, 44, 12, 454282, tzinfo=datetime.timezone.utc), message='Executing processing graph'),\n",
       " LogEntry(timestamp=datetime.datetime(2024, 9, 18, 14, 44, 17, 971845, tzinfo=datetime.timezone.utc), message='time=\"2024-09-18T14:44:17.971Z\" level=debug msg=\"ignore signal urgent I/O condition\" argo=true'),\n",
       " LogEntry(timestamp=datetime.datetime(2024, 9, 18, 14, 44, 18, 971815, tzinfo=datetime.timezone.utc), message='time=\"2024-09-18T14:44:18.971Z\" level=debug msg=\"ignore signal urgent I/O condition\" argo=true'),\n",
       " LogEntry(timestamp=datetime.datetime(2024, 9, 18, 14, 44, 22, 152748, tzinfo=datetime.timezone.utc), message=\"10662 [main] INFO serverStartup - Nc4Iosp: NetCDF-4 C library loaded (jna_path='/root/.snap/auxdata/netcdf_natives/10.0.0/amd64', libname='netcdf').\"),\n",
       " LogEntry(timestamp=datetime.datetime(2024, 9, 18, 14, 44, 22, 156336, tzinfo=datetime.timezone.utc), message='10666 [main] INFO serverStartup - NetcdfLoader: set log level: old=0 new=0'),\n",
       " LogEntry(timestamp=datetime.datetime(2024, 9, 18, 14, 44, 22, 156349, tzinfo=datetime.timezone.utc), message='10666 [main] INFO serverStartup - Nc4Iosp: set log level: old=0 new=0'),\n",
       " LogEntry(timestamp=datetime.datetime(2024, 9, 18, 14, 44, 23, 142411, tzinfo=datetime.timezone.utc), message='22%45%...56%...67%90% done.'),\n",
       " LogEntry(timestamp=datetime.datetime(2024, 9, 18, 14, 44, 23, 405873, tzinfo=datetime.timezone.utc), message='time=\"2024-09-18T14:44:23.405Z\" level=debug msg=\"ignore signal child exited\" argo=true'),\n",
       " LogEntry(timestamp=datetime.datetime(2024, 9, 18, 14, 44, 23, 984575, tzinfo=datetime.timezone.utc), message='time=\"2024-09-18T14:44:23.984Z\" level=info msg=\"sub-process exited\" argo=true error=\"<nil>\"')]"
      ]
     },
     "execution_count": 6,
     "metadata": {},
     "output_type": "execute_result"
    }
   ],
   "source": [
    "api.get_job_logs(job=job)"
   ]
  },
  {
   "cell_type": "markdown",
   "metadata": {},
   "source": [
    "You can now see the full logs of the process. "
   ]
  },
  {
   "cell_type": "markdown",
   "metadata": {},
   "source": [
    "**How do I download the results from a job which has been launched in the past?**\n",
    "\n",
    "To download the results again, you can manually trigger the download using the job id."
   ]
  },
  {
   "cell_type": "code",
   "execution_count": 7,
   "metadata": {},
   "outputs": [
    {
     "data": {
      "text/plain": [
       "[Result(api=<eocanvas.api.API object at 0x000001B63AB64DD0>, href='/download/result/359', title='wks3:///7cb62b31-e28e-5d9d-aa0c-4e510c17a44e/output/76c4f06e-75cc-11ef-9aa4-0ea904598d5c.nc', rel='result')]"
      ]
     },
     "execution_count": 7,
     "metadata": {},
     "output_type": "execute_result"
    }
   ],
   "source": [
    "#get and inspect the results\n",
    "results = api.get_job_results(job=job)\n",
    "results"
   ]
  },
  {
   "cell_type": "code",
   "execution_count": 8,
   "metadata": {},
   "outputs": [
    {
     "name": "stdout",
     "output_type": "stream",
     "text": [
      "Downloading result\\76c4f06e-75cc-11ef-9aa4-0ea904598d5c.nc\n"
     ]
    }
   ],
   "source": [
    "results[0].download(download_dir=\"result\")"
   ]
  },
  {
   "cell_type": "markdown",
   "metadata": {},
   "source": [
    "This notebook provided an overview of the basic functionality of the EOCanvas Serverless Functions API. For more applied examples of what you can do with the EOCanvas you can go to the next notebook. "
   ]
  }
 ],
 "metadata": {
  "kernelspec": {
   "display_name": "Python 3.11.5 64-bit",
   "language": "python",
   "name": "python3"
  },
  "language_info": {
   "codemirror_mode": {
    "name": "ipython",
    "version": 3
   },
   "file_extension": ".py",
   "mimetype": "text/x-python",
   "name": "python",
   "nbconvert_exporter": "python",
   "pygments_lexer": "ipython3",
   "version": "3.11.5"
  },
  "orig_nbformat": 4,
  "vscode": {
   "interpreter": {
    "hash": "69a843eb2806097c81d46a99bb39f1f0d8214ba0939f50116f16a105a7e284d3"
   }
  }
 },
 "nbformat": 4,
 "nbformat_minor": 2
}
