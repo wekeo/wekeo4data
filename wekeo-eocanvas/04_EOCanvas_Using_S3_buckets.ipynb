{
 "cells": [
  {
   "cell_type": "markdown",
   "metadata": {},
   "source": [
    "<img src='https://gitlab.eumetsat.int/eumetlab/oceans/ocean-training/tools/frameworks/-/raw/main/img/Standard_banner.png' align='right' width='100%'/>"
   ]
  },
  {
   "cell_type": "markdown",
   "metadata": {},
   "source": [
    "<font color=\"#138D75\">**WEkEO Training**</font> <br>\n",
    "**Copyright:** 2024 EUMETSAT <br>\n",
    "**License:** MIT <br>\n",
    "**Authors:** Anna-Lena Erdmann (EUMETSAT)"
   ]
  },
  {
   "cell_type": "markdown",
   "metadata": {},
   "source": [
    "<html>\n",
    "  <div style=\"width:100%\">\n",
    "    <div style=\"float:left\"><a href=\"https://jupyterhub.prod.wekeo2.eu/hub/user-redirect/lab/tree/public/wekeo4data/wekeo-eocanvas/03_EOCanvas_Using_S3_buckets.ipynb\"><img src=\"https://img.shields.io/badge/launch-WEKEO-1a4696.svg?style=flat&logo=data:image/png;base64,iVBORw0KGgoAAAANSUhEUgAAAA8AAAAMCAMAAACKnBfWAAAABGdBTUEAALGPC/xhBQAAACBjSFJNAAB6JgAAgIQAAPoAAACA6AAAdTAAAOpgAAA6mAAAF3CculE8AAABwlBMVEUAYbdepNtBc7VCdLhNhMQkXKpsn9RWltFZl9VlpNI3aK9fpNtMd7ZznM8pg8o4WJc2TZFHY6MmQYptiLxnqt5hptxfpNtfpNtfpNtgpdtip9x2uullqN1fpNtdo9pepdtanNQ9a65Bc7dCeb5nqt5fpNslUpssW6RMgcBTjstWldJhptxdo9phoNdkpdtfpNtoqNxepNplo9hepNthnNNfpdtelM1hptxSgL5dj8hoqt5fpNsjRYgjPog8WqBHa61TfLplqN1fpdtfpdxam9IyTIw2TZFGYaBoqt5hptxfpdtepNpfpNtgpdtjp9x5vu5do9pHgb5co9pepNtHgbwWN4AVP5AhU6JLgL9dl89epNphpttgpdtipttnqd1ho9glSIkWM3snSokeTJdHda9cksphndRmqNyTweaWxOePv+WfyemAs91QYphFUmpuclhKYHRwh5V8pNNdls6iyuq72fCNvuWIueCIlbtTW2hwcFNTY2lmfpSBpNJZj8lsq91xr99nqdx4suBrqds7V5AlNm85S20lRIJVcZxZgr1Uh8NcotpbotpdpNtGfrcTKnAOKXsYOYo4XKRJcbNHfbf////t/CgnAAAAUHRSTlMAAAAAAAAAAAAAAAAAAAAAAAAAAByF2PfyxGAJLcH+9pQvJgsav/7s57hBf/3gQdO69vH18dK4fN0+GLz96uSzPCq99JArIgkagNTz7r9bB4DtcFsAAAABYktHRJUIYHqDAAAAB3RJTUUH5wIKESIRAg6dCwAAALtJREFUCNdjYGAUERUTl5CUkmZiZmFlY2CUkZULAAJ5BUUlZXYOBhXVADAIVFPX0NTiZNDWAXKCgkNCw8IjInX1GPSjomNi4+ITEpOSU1LTDBgM0zMys7JzcvPyCwqLio0YjKNKSstKyisqq6prautMGEwD6hsam5pbWtvaOzq7zBjMdbq7g3p6+/onTJw02cKSwcoaYt8UG1s7ewcuBm5HJ7B7nF1c3dx5eBn4uD08vbx9fP38+QUEhYQB5Z40RP8+e1wAAAAldEVYdGRhdGU6Y3JlYXRlADIwMjMtMDItMTBUMTc6MzM6NDUrMDA6MDCCLR1xAAAAJXRFWHRkYXRlOm1vZGlmeQAyMDIzLTAyLTEwVDE3OjI2OjU5KzAwOjAw393bowAAAABJRU5ErkJggg==\" alt=\"Open in WEkEO\"></a></div>\n",
    "    <div style=\"float:left\"><p>&emsp;</p></div>\n",
    "  </div>    \n",
    "</html>"
   ]
  },
  {
   "cell_type": "markdown",
   "metadata": {},
   "source": [
    "<div class=\"alert alert-block alert-success\">\n",
    "<h3> WEkEO EOCanvas - Processing in the Cloud for Coperncius Data</h3></div>"
   ]
  },
  {
   "cell_type": "markdown",
   "metadata": {},
   "source": [
    "<div class=\"alert alert-block alert-warning\">\n",
    "    \n",
    "<b>PREREQUISITES </b>\n",
    "    \n",
    "This notebook has the following prerequisites:\n",
    "  - **<a href=\"https://my.wekeo.eu/user-registration\" target=\"_blank\">A WEkEO account</a>**\n",
    "  - access and secret key to a private S3 bucket (e.g. from a WEkEO tenant, an AWS S3 bucer, etc.)\n",
    "\n",
    "  \n",
    "\n",
    "</div>\n",
    "<hr>"
   ]
  },
  {
   "cell_type": "markdown",
   "metadata": {},
   "source": [
    "# 4 Using S3 remote object storage buckets within the EOCanvas\n",
    "\n",
    "### Learning outcomes\n",
    "\n",
    "At the end of this notebook you will know;\n",
    "\n",
    "* how to use data located on an private or public S3 bucket as input to the EOcanvas functions\n",
    "* how to send processing results to a S3 bucket\n",
    "\n",
    "\n",
    "\n",
    "### Outline\n",
    "\n",
    "The EOCanvas is a WEkEO service to process Coperncius data in the cloud. The inout to the EOCanvas functions can either come from WEkEOs <a href='https://www.wekeo.eu/docs/harmonised-data-access-api' target='_blank'>Harmonised Data Access (HDA) API</a> or a remote object storage. This notebook provides an example on how to use data in S3 buckets as input data for the EOCanvas functions. It will also show how to send results to a S3 bucket to enable processing without the need to download data to your machine. \n",
    "\n",
    "<div class=\"alert alert-info\" role=\"alert\">\n",
    "\n",
    "### Contents <a id='totop'></a>\n",
    "\n",
    "</div>\n",
    "    \n",
    " 1. [Setting Up the EOCanvas](#section0)\n",
    " 2. [Connect to a S3 bucket](#section1)\n",
    " 3. [Define the EOCanvas input from S3 bucket](#section2)\n",
    " 4. [Execute the EOCanvas Function](#section3)\n",
    " 5. [Send the Results to an S3 bucket](#section4)\n",
    "\n",
    "<hr>"
   ]
  },
  {
   "cell_type": "markdown",
   "metadata": {},
   "source": [
    "<div class=\"alert alert-info\" role=\"alert\">\n",
    "\n",
    "## 1. <a id='section0'></a>Setting Up the EOCanvas\n",
    "[Back to top](#totop)\n",
    "    \n",
    "</div>"
   ]
  },
  {
   "cell_type": "markdown",
   "metadata": {},
   "source": [
    "This example notebook shows you how to use a SNAP function of the EOCanvas using input data from a public S3 bucket. "
   ]
  },
  {
   "cell_type": "markdown",
   "metadata": {},
   "source": [
    "Loadinng necessary libraries"
   ]
  },
  {
   "cell_type": "code",
   "execution_count": 1,
   "metadata": {},
   "outputs": [],
   "source": [
    "from eocanvas import API, Credentials\n",
    "from eocanvas.api import Input, Config, ConfigOption\n",
    "from eocanvas.processes import SnapProcess\n",
    "from eocanvas.snap.graph import Graph"
   ]
  },
  {
   "cell_type": "markdown",
   "metadata": {},
   "source": [
    "You must replace `<your_user_name>` and `<your_password>` with the information from your WEkEO account (if you don't have one yet, register <a href=\"https://www.wekeo.eu/\" target=\"_blank\">here</a>.\n",
    "\n",
    "Save your credentials. They will be automatically loaded when required."
   ]
  },
  {
   "cell_type": "code",
   "execution_count": 2,
   "metadata": {},
   "outputs": [
    {
     "name": "stdout",
     "output_type": "stream",
     "text": [
      "Credentials are written to file C:\\Users\\erdmann\\.hdarc\n"
     ]
    }
   ],
   "source": [
    "c = Credentials(username=\"<your_user_name>\", password=\"<your_password>\")\n",
    "c.save()"
   ]
  },
  {
   "cell_type": "markdown",
   "metadata": {},
   "source": [
    "<div class=\"alert alert-info\" role=\"alert\">\n",
    "\n",
    "## 2. <a id='section1'></a>Connect to a S3 bucket\n",
    "[Back to top](#totop)\n",
    "    \n",
    "</div>\n",
    "\n"
   ]
  },
  {
   "cell_type": "markdown",
   "metadata": {},
   "source": [
    "In this section, we explore how to set up and configure the necessary keys to enable seamless access to S3 buckets using the **EOcanvas** library. We will cover two key aspects:\n",
    "\n",
    "1. **Accessing Data from an S3 Bucket**: Learn how to set up credentials that allow the EOcanvas functions to find and read data stored in an S3 bucket.\n",
    "   \n",
    "2. **Writing Results to a Private S3 Bucket**: Discover how to configure a dedicated key for accessing private buckets, enabling you to write and store results securely.\n",
    "\n",
    "> **Important Note**: EOcanvas currently relies on **OpenSSL** for encryption, so it is essential to have OpenSSL installed on your machine. If you are working within the **WEKEO Jupyter Hub**, OpenSSL is already preinstalled, ensuring a smooth setup process.\n",
    "\n",
    "Let’s dive into the details to get started!"
   ]
  },
  {
   "cell_type": "markdown",
   "metadata": {},
   "source": [
    "### 2.1 Connect to a public S3 bucket"
   ]
  },
  {
   "cell_type": "markdown",
   "metadata": {},
   "source": [
    "A key has to be created to access a public bucket for data input. Necessary inputs are `bucket`, `region`, and `endpoint`. It is necessary to pass `access_key` and `private_key` to the key, but it should be left empty, as a public bucket does not require access credentials. "
   ]
  },
  {
   "cell_type": "markdown",
   "metadata": {},
   "source": [
    "The `Key()` name has to be unique in the system. You only have to define the key one and it will be valid for one hour. If you want to continue working with the key longer than one hour, either execure the cell again, or pass the argument `\"expire\"` with the duration (in seconds) the key should be valid vor. "
   ]
  },
  {
   "cell_type": "code",
   "execution_count": null,
   "metadata": {},
   "outputs": [],
   "source": [
    "from eocanvas.api import Key, WebDavKeyConfig, S3KeyConfig\n",
    "\n",
    "# Set all the required parameters to configure a specific key\n",
    "config = S3KeyConfig(\n",
    "    access_key=\"\",\n",
    "    secret_key=\"\",\n",
    "    bucket=\"wekeo\",\n",
    "    region=\"waw3-2\",\n",
    "    endpoint=\"https://s3.waw3-2.cloudferro.com\",\n",
    ")\n",
    "\n",
    "# Note that the name must be unique. You might want to prefix your username.\n",
    "key = Key(name=\"input-s3-key\", config=config)\n",
    "\n",
    "# Calling 'create' will download the public key from EOCanvas, encrypt the configuration and\n",
    "# send it to the API.\n",
    "key.create()"
   ]
  },
  {
   "cell_type": "markdown",
   "metadata": {},
   "source": [
    "### 2.2 Connect to a private S3 bucket\n"
   ]
  },
  {
   "cell_type": "markdown",
   "metadata": {},
   "source": [
    "Connecting to a private bucket follows the same template as for the public bucket. Make sure that you pass `access_key` and `private_key`. "
   ]
  },
  {
   "cell_type": "code",
   "execution_count": 3,
   "metadata": {},
   "outputs": [],
   "source": [
    "# Set all the required parameters to configure a specific key\n",
    "config = S3KeyConfig(\n",
    "    access_key=\"*************************\",\n",
    "    secret_key=\"**************************\",\n",
    "    bucket=\"wekeo_private\",\n",
    "    region=\"waw3-2\",\n",
    "    endpoint=\"https://s3.waw3-2.cloudferro.com\",\n",
    ")\n",
    "\n",
    "# Note that the name must be unique. You might want to prefix your username.\n",
    "key = Key(name=\"output-s3-key\", config=config)\n",
    "\n",
    "# Calling 'create' will download the public key from EOCanvas, encrypt the configuration and\n",
    "# send it to the API.\n",
    "key.create()"
   ]
  },
  {
   "cell_type": "markdown",
   "metadata": {},
   "source": [
    "<div class=\"alert alert-info\" role=\"alert\">\n",
    "\n",
    "## 3. <a id='section2'></a>Define the EOCanvas input from S3 bucket\n",
    "[Back to top](#totop)\n",
    "    \n",
    "</div>"
   ]
  },
  {
   "cell_type": "markdown",
   "metadata": {},
   "source": [
    "First list all the products in the S3 bucket to see which product are availbale for the function:"
   ]
  },
  {
   "cell_type": "code",
   "execution_count": 7,
   "metadata": {},
   "outputs": [
    {
     "name": "stdout",
     "output_type": "stream",
     "text": [
      "Objects in bucket 'wekeo':\n",
      "S3B_OL_2_WFR____20240705T092739_20240705T093039_20240706T161845_0180_095_036_1980_MAR_O_NT_003.SEN3.zip\n",
      "S3B_OL_2_WFR____20240705T092739_20240705T093039_20240706T161845_0180_095_036_1980_MAR_O_NT_003.SEN3/\n",
      "S3B_OL_2_WFR____20240705T092739_20240705T093039_20240706T161845_0180_095_036_1980_MAR_O_NT_003.SEN3/Oa01_reflectance.nc\n",
      "S3B_OL_2_WFR____20240705T092739_20240705T093039_20240706T161845_0180_095_036_1980_MAR_O_NT_003.SEN3/Oa02_reflectance.nc\n",
      "S3B_OL_2_WFR____20240705T092739_20240705T093039_20240706T161845_0180_095_036_1980_MAR_O_NT_003.SEN3/Oa03_reflectance.nc\n",
      "S3B_OL_2_WFR____20240705T092739_20240705T093039_20240706T161845_0180_095_036_1980_MAR_O_NT_003.SEN3/Oa04_reflectance.nc\n",
      "S3B_OL_2_WFR____20240705T092739_20240705T093039_20240706T161845_0180_095_036_1980_MAR_O_NT_003.SEN3/Oa05_reflectance.nc\n",
      "S3B_OL_2_WFR____20240705T092739_20240705T093039_20240706T161845_0180_095_036_1980_MAR_O_NT_003.SEN3/Oa06_reflectance.nc\n",
      "S3B_OL_2_WFR____20240705T092739_20240705T093039_20240706T161845_0180_095_036_1980_MAR_O_NT_003.SEN3/Oa07_reflectance.nc\n",
      "S3B_OL_2_WFR____20240705T092739_20240705T093039_20240706T161845_0180_095_036_1980_MAR_O_NT_003.SEN3/Oa08_reflectance.nc\n",
      "S3B_OL_2_WFR____20240705T092739_20240705T093039_20240706T161845_0180_095_036_1980_MAR_O_NT_003.SEN3/Oa09_reflectance.nc\n",
      "S3B_OL_2_WFR____20240705T092739_20240705T093039_20240706T161845_0180_095_036_1980_MAR_O_NT_003.SEN3/Oa10_reflectance.nc\n",
      "S3B_OL_2_WFR____20240705T092739_20240705T093039_20240706T161845_0180_095_036_1980_MAR_O_NT_003.SEN3/Oa11_reflectance.nc\n",
      "S3B_OL_2_WFR____20240705T092739_20240705T093039_20240706T161845_0180_095_036_1980_MAR_O_NT_003.SEN3/Oa12_reflectance.nc\n",
      "S3B_OL_2_WFR____20240705T092739_20240705T093039_20240706T161845_0180_095_036_1980_MAR_O_NT_003.SEN3/Oa16_reflectance.nc\n",
      "S3B_OL_2_WFR____20240705T092739_20240705T093039_20240706T161845_0180_095_036_1980_MAR_O_NT_003.SEN3/Oa17_reflectance.nc\n",
      "S3B_OL_2_WFR____20240705T092739_20240705T093039_20240706T161845_0180_095_036_1980_MAR_O_NT_003.SEN3/Oa18_reflectance.nc\n",
      "S3B_OL_2_WFR____20240705T092739_20240705T093039_20240706T161845_0180_095_036_1980_MAR_O_NT_003.SEN3/Oa21_reflectance.nc\n",
      "S3B_OL_2_WFR____20240705T092739_20240705T093039_20240706T161845_0180_095_036_1980_MAR_O_NT_003.SEN3/chl_nn.nc\n",
      "S3B_OL_2_WFR____20240705T092739_20240705T093039_20240706T161845_0180_095_036_1980_MAR_O_NT_003.SEN3/chl_oc4me.nc\n",
      "S3B_OL_2_WFR____20240705T092739_20240705T093039_20240706T161845_0180_095_036_1980_MAR_O_NT_003.SEN3/geo_coordinates.nc\n",
      "S3B_OL_2_WFR____20240705T092739_20240705T093039_20240706T161845_0180_095_036_1980_MAR_O_NT_003.SEN3/instrument_data.nc\n",
      "S3B_OL_2_WFR____20240705T092739_20240705T093039_20240706T161845_0180_095_036_1980_MAR_O_NT_003.SEN3/iop_lsd.nc\n",
      "S3B_OL_2_WFR____20240705T092739_20240705T093039_20240706T161845_0180_095_036_1980_MAR_O_NT_003.SEN3/iop_nn.nc\n",
      "S3B_OL_2_WFR____20240705T092739_20240705T093039_20240706T161845_0180_095_036_1980_MAR_O_NT_003.SEN3/iwv.nc\n",
      "S3B_OL_2_WFR____20240705T092739_20240705T093039_20240706T161845_0180_095_036_1980_MAR_O_NT_003.SEN3/par.nc\n",
      "S3B_OL_2_WFR____20240705T092739_20240705T093039_20240706T161845_0180_095_036_1980_MAR_O_NT_003.SEN3/tie_geo_coordinates.nc\n",
      "S3B_OL_2_WFR____20240705T092739_20240705T093039_20240706T161845_0180_095_036_1980_MAR_O_NT_003.SEN3/tie_geometries.nc\n",
      "S3B_OL_2_WFR____20240705T092739_20240705T093039_20240706T161845_0180_095_036_1980_MAR_O_NT_003.SEN3/tie_meteo.nc\n",
      "S3B_OL_2_WFR____20240705T092739_20240705T093039_20240706T161845_0180_095_036_1980_MAR_O_NT_003.SEN3/time_coordinates.nc\n",
      "S3B_OL_2_WFR____20240705T092739_20240705T093039_20240706T161845_0180_095_036_1980_MAR_O_NT_003.SEN3/trsp.nc\n",
      "S3B_OL_2_WFR____20240705T092739_20240705T093039_20240706T161845_0180_095_036_1980_MAR_O_NT_003.SEN3/tsm_nn.nc\n",
      "S3B_OL_2_WFR____20240705T092739_20240705T093039_20240706T161845_0180_095_036_1980_MAR_O_NT_003.SEN3/w_aer.nc\n",
      "S3B_OL_2_WFR____20240705T092739_20240705T093039_20240706T161845_0180_095_036_1980_MAR_O_NT_003.SEN3/wqsf.nc\n",
      "S3B_OL_2_WFR____20240705T092739_20240705T093039_20240706T161845_0180_095_036_1980_MAR_O_NT_003.SEN3/xfdumanifest.xml\n"
     ]
    }
   ],
   "source": [
    "import boto3\n",
    "import botocore\n",
    "# Define bucket, region, and endpoint\n",
    "bucket_name = \"wekeo\"\n",
    "region = \"waw3-2\"  # Replace with the bucket's region\n",
    "endpoint = \"https://s3.waw3-2.cloudferro.com\"  # Replace if using a non-default endpoint\n",
    "\n",
    "\n",
    "# Create the S3 client with custom settings\n",
    "s3_client = boto3.client(\"s3\", region_name=region, endpoint_url=endpoint)\n",
    "s3_client.meta.events.register('choose-signer.s3.*', botocore.handlers.disable_signing)\n",
    "# List objects in the public bucket\n",
    "try:\n",
    "    response = s3_client.list_objects_v2(Bucket=bucket_name)\n",
    "    if 'Contents' in response:\n",
    "        print(f\"Objects in bucket '{bucket_name}':\")\n",
    "        for obj in response['Contents']:\n",
    "            print(obj['Key'])\n",
    "    else:\n",
    "        print(f\"No objects found in bucket '{bucket_name}'.\")\n",
    "except Exception as e:\n",
    "    print(f\"Error accessing bucket: {e}\")"
   ]
  },
  {
   "cell_type": "markdown",
   "metadata": {},
   "source": [
    "You can see tht there is one Sentinel-3 satellite tile stored in the bucket - once in a zipped format ond once unzipped. The SNAP function takes the zipped tile as input. "
   ]
  },
  {
   "cell_type": "markdown",
   "metadata": {},
   "source": [
    "We prepare the inputs to the EOCanvas by taking the same workflow as described in the notebook <a href=\"https://github.com/wekeo/wekeo4data/blob/main/wekeo-eocanvas/01_Introduction_to_EOCanvas.ipynb\" target='_blank'>01_Introduction_to_EOCanvas</a>. "
   ]
  },
  {
   "cell_type": "code",
   "execution_count": 4,
   "metadata": {},
   "outputs": [],
   "source": [
    "graph = Graph.from_uri(\"input_graphs/subset_olci.xml\")"
   ]
  },
  {
   "cell_type": "markdown",
   "metadata": {},
   "source": [
    "When we define the input image, we take the path the the file in the s3 bucket. We add the parameter `keystore` and set the name of the key we defined above. "
   ]
  },
  {
   "cell_type": "code",
   "execution_count": 5,
   "metadata": {},
   "outputs": [],
   "source": [
    "inputs = Input(keystore=\"input-s3-key\", key=\"img1\", url=\"/S3B_OL_2_WFR____20240705T092739_20240705T093039_20240706T161845_0180_095_036_1980_MAR_O_NT_003.SEN3.zip\")"
   ]
  },
  {
   "cell_type": "markdown",
   "metadata": {},
   "source": [
    "Finally, the config parameters, which are unchanged. "
   ]
  },
  {
   "cell_type": "code",
   "execution_count": 6,
   "metadata": {},
   "outputs": [],
   "source": [
    "config = Config(key=\"img1\", options=ConfigOption(uncompress=True, sub_path=\"xfdumanifest.xml\"))"
   ]
  },
  {
   "cell_type": "markdown",
   "metadata": {},
   "source": [
    "<div class=\"alert alert-info\" role=\"alert\">\n",
    "\n",
    "## 3. <a id='section3'></a>Execute the EOCanvas Function\n",
    "[Back to top](#totop)\n",
    "    \n",
    "</div>"
   ]
  },
  {
   "cell_type": "markdown",
   "metadata": {},
   "source": [
    "Here, we put together the function and execute it. We can download the result to or file directory. "
   ]
  },
  {
   "cell_type": "code",
   "execution_count": 7,
   "metadata": {},
   "outputs": [],
   "source": [
    "process = SnapProcess(snap_graph=graph, eo_config=config, eo_input=inputs)"
   ]
  },
  {
   "cell_type": "markdown",
   "metadata": {},
   "source": [
    "Run the process and save the results to the defined working directory"
   ]
  },
  {
   "cell_type": "code",
   "execution_count": 7,
   "metadata": {},
   "outputs": [
    {
     "name": "stdout",
     "output_type": "stream",
     "text": [
      "Job: 8ed2fabf-bbc2-5974-a7f9-cf0d581a04ae - Status: accepted at 2024-10-21T10:59:05.778442\n",
      "Job: 8ed2fabf-bbc2-5974-a7f9-cf0d581a04ae - Status: running at 2024-10-21T10:59:16.291469\n",
      "Job: 8ed2fabf-bbc2-5974-a7f9-cf0d581a04ae - Status: running at 2024-10-21T10:59:27.825847\n",
      "Job: 8ed2fabf-bbc2-5974-a7f9-cf0d581a04ae - Status: running at 2024-10-21T10:59:40.743590\n",
      "Job: 8ed2fabf-bbc2-5974-a7f9-cf0d581a04ae - Status: running at 2024-10-21T10:59:54.600702\n",
      "Job: 8ed2fabf-bbc2-5974-a7f9-cf0d581a04ae - Status: running at 2024-10-21T11:00:09.794172\n",
      "Job: 8ed2fabf-bbc2-5974-a7f9-cf0d581a04ae - Status: running at 2024-10-21T11:00:26.498304\n",
      "Job: 8ed2fabf-bbc2-5974-a7f9-cf0d581a04ae - Status: running at 2024-10-21T11:00:45.019567\n",
      "Job: 8ed2fabf-bbc2-5974-a7f9-cf0d581a04ae - Status: running at 2024-10-21T11:01:06.315133\n",
      "Job: 8ed2fabf-bbc2-5974-a7f9-cf0d581a04ae - Status: running at 2024-10-21T11:01:29.908011\n",
      "Job: 8ed2fabf-bbc2-5974-a7f9-cf0d581a04ae - Status: running at 2024-10-21T11:01:54.153116\n",
      "Downloading result\\03bd2252-8f8b-11ef-be47-7ac907622680.nc\n"
     ]
    }
   ],
   "source": [
    "process.run(download_dir=\"result\")"
   ]
  },
  {
   "cell_type": "markdown",
   "metadata": {},
   "source": [
    "<div class=\"alert alert-info\" role=\"alert\">\n",
    "\n",
    "## 5. <a id='section4'></a>Send the Results to an S3 bucket\n",
    "[Back to top](#totop)\n",
    "    \n",
    "</div>"
   ]
  },
  {
   "cell_type": "markdown",
   "metadata": {},
   "source": [
    "You have the option to send results to an S3 bucket. It is necessary that you have set up the Key to the bucket, that includes the necessaty credentials to write to the bucket. \n",
    "\n",
    "The option `\"output\"` can be added when you put together the process. "
   ]
  },
  {
   "cell_type": "code",
   "execution_count": 9,
   "metadata": {},
   "outputs": [],
   "source": [
    "process = SnapProcess(snap_graph=graph, eo_config=config, eo_input=inputs, output=Key(name=\"output-wekeo-key\"))"
   ]
  },
  {
   "cell_type": "code",
   "execution_count": null,
   "metadata": {},
   "outputs": [],
   "source": [
    "process.run()"
   ]
  }
 ],
 "metadata": {
  "author": "Anna-Lena Erdmann",
  "services": {
   "wekeo": {
    "git": {
     "link": "https://github.com/wekeo/wekeo4data/blob/main/wekeo-eocanvas/04_EOCanvas_Using_S3_buckets.ipynb",
     "service_contact": "ops@eumetsat.int",
     "service_provider": "EUMETSAT"
    },
    "url": {
     "link": "https://jupyterhub.prod.wekeo2.eu/hub/user-redirect/lab/tree/public/wekeo4data/wekeo-eocanvas/04_EOCanvas_Using_S3_buckets.ipynb",
     "service_contact": "ops@eumetsat.int",
     "service_provider": "EUMETSAT"
    }
   }
  },
  "description": "This Jupyter Notebook shows how to run EOCanvas workflows with data from S3 buckets as input adn how to send your results to an S3 bucket.",
  "image": "img/thumbs/04_s3",
  "kernelspec": {
   "display_name": "wekeolab",
   "language": "python",
   "name": "python3"
  },
  "language_info": {
   "codemirror_mode": {
    "name": "ipython",
    "version": 3
   },
   "file_extension": ".py",
   "mimetype": "text/x-python",
   "name": "python",
   "nbconvert_exporter": "python",
   "pygments_lexer": "ipython3",
   "version": "3.11.5"
  },
  "tags": {
   "service": [
    "EUMETSAT"
   ],
   "subtheme": [
    "eocanvas"
   ],
   "domain": "Tools"
  },
  "title": "Using EOCanvas with S3 Bucket input and output",
  "vscode": {
   "interpreter": {
    "hash": "69a843eb2806097c81d46a99bb39f1f0d8214ba0939f50116f16a105a7e284d3"
   }
  }
 },
 "nbformat": 4,
 "nbformat_minor": 4
}
