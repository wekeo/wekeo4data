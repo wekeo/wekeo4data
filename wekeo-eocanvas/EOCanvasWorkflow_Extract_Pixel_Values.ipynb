{
    "cells": [
        {
            "cell_type": "markdown",
            "metadata": {},
            "source": [
                "<img src='https://gitlab.eumetsat.int/eumetlab/oceans/ocean-training/tools/frameworks/-/raw/main/img/Standard_banner.png' align='right' width='100%'/>"
            ]
        },
        {
            "cell_type": "markdown",
            "metadata": {},
            "source": [
                "<font color=\"#138D75\">**WEkEO Training**</font> <br>\n",
                "**Copyright:** 2024 EUMETSAT <br>\n",
                "**License:** MIT <br>\n",
                "**Authors:** Anna-Lena Erdmann (EUMETSAT)"
            ]
        },
        {
            "cell_type": "markdown",
            "metadata": {},
            "source": [
                "<html>\n",
                "  <div style=\"width:100%\">\n",

                "    <div style=\"float:left\"><a href=\"https://jupyterhub.prod.wekeo2.eu/hub/user-redirect/lab/tree/public/wekeo4data/wekeo-eocanvas/EOCanvasWorkflow_Extract_Pixel_Values.ipynb\"><img src=\"https://img.shields.io/badge/launch-WEKEO-1a4696.svg?style=flat&logo=data:image/png;base64,iVBORw0KGgoAAAANSUhEUgAAAA8AAAAMCAMAAACKnBfWAAAABGdBTUEAALGPC/xhBQAAACBjSFJNAAB6JgAAgIQAAPoAAACA6AAAdTAAAOpgAAA6mAAAF3CculE8AAABwlBMVEUAYbdepNtBc7VCdLhNhMQkXKpsn9RWltFZl9VlpNI3aK9fpNtMd7ZznM8pg8o4WJc2TZFHY6MmQYptiLxnqt5hptxfpNtfpNtfpNtgpdtip9x2uullqN1fpNtdo9pepdtanNQ9a65Bc7dCeb5nqt5fpNslUpssW6RMgcBTjstWldJhptxdo9phoNdkpdtfpNtoqNxepNplo9hepNthnNNfpdtelM1hptxSgL5dj8hoqt5fpNsjRYgjPog8WqBHa61TfLplqN1fpdtfpdxam9IyTIw2TZFGYaBoqt5hptxfpdtepNpfpNtgpdtjp9x5vu5do9pHgb5co9pepNtHgbwWN4AVP5AhU6JLgL9dl89epNphpttgpdtipttnqd1ho9glSIkWM3snSokeTJdHda9cksphndRmqNyTweaWxOePv+WfyemAs91QYphFUmpuclhKYHRwh5V8pNNdls6iyuq72fCNvuWIueCIlbtTW2hwcFNTY2lmfpSBpNJZj8lsq91xr99nqdx4suBrqds7V5AlNm85S20lRIJVcZxZgr1Uh8NcotpbotpdpNtGfrcTKnAOKXsYOYo4XKRJcbNHfbf////t/CgnAAAAUHRSTlMAAAAAAAAAAAAAAAAAAAAAAAAAAByF2PfyxGAJLcH+9pQvJgsav/7s57hBf/3gQdO69vH18dK4fN0+GLz96uSzPCq99JArIgkagNTz7r9bB4DtcFsAAAABYktHRJUIYHqDAAAAB3RJTUUH5wIKESIRAg6dCwAAALtJREFUCNdjYGAUERUTl5CUkmZiZmFlY2CUkZULAAJ5BUUlZXYOBhXVADAIVFPX0NTiZNDWAXKCgkNCw8IjInX1GPSjomNi4+ITEpOSU1LTDBgM0zMys7JzcvPyCwqLio0YjKNKSstKyisqq6prautMGEwD6hsam5pbWtvaOzq7zBjMdbq7g3p6+/onTJw02cKSwcoaYt8UG1s7ewcuBm5HJ7B7nF1c3dx5eBn4uD08vbx9fP38+QUEhYQB5Z40RP8+e1wAAAAldEVYdGRhdGU6Y3JlYXRlADIwMjMtMDItMTBUMTc6MzM6NDUrMDA6MDCCLR1xAAAAJXRFWHRkYXRlOm1vZGlmeQAyMDIzLTAyLTEwVDE3OjI2OjU5KzAwOjAw393bowAAAABJRU5ErkJggg==\" alt=\"Open in WEkEO\"></a></div>\n",

                "    <div style=\"float:left\"><p>&emsp;</p></div>\n",
                "  </div>    \n",
                "</html>"
            ]
        },
        {
            "cell_type": "markdown",
            "metadata": {},
            "source": [
                "<div class=\"alert alert-block alert-success\">\n",
                "<h3> WEkEO EOCanvas Workflows - Applied Examples of EOCanvas for your EO Data Processing</h3></div>"
            ]
        },
        {
            "cell_type": "markdown",
            "metadata": {},
            "source": [
                "<div class=\"alert alert-block alert-warning\">\n",
                "    \n",
                "<b>PREREQUISITES </b>\n",
                "    \n",
                "This notebook has the following prerequisites:\n",
                "  - **<a href=\"https://my.wekeo.eu/user-registration\" target=\"_blank\">A WEkEO account</a>**\n",
                "  - basic knowledge of EOCanvas through executing the **<a href=\"https://github.com/wekeo/wekeo4data/blob/main/wekeo-eocanvas/01_Introduction_to_EOCanvas.ipynb\" target=\"_blank\">EOCanvas Introduction Notebook</a>**\n",
                "  \n",
                "\n",
                "</div>\n",
                "<hr>"
            ]
        },
        {
            "cell_type": "markdown",
            "metadata": {},
            "source": [
                "# Extraction of Pixel Values from a Sentinel-3 Satellite Image\n",
                "\n",
                "### Learning outcomes\n",
                "\n",
                "At the end of this notebook, you will know:\n",
                "\n",
                "* how to how to extract the picel values using EOCanvas\n",
                "* how to modify the EOCanvas workflow to extract values from custom locations\n",
                "* how to visualize the extracted values on a map\n",
                "\n",
                "\n",
                "### Outline\n",
                "\n",
                "This notebook demonstrates how to access and process Sentinel-3 OLCI satellite imagery to extract pixel values for point sampling using the WEkEO EOCanvas. The sampling of pixel values is specifically useful for the generation of machine learning training datasets or for creating time series of a single point. \n",
                "\n",
                "<div class=\"alert alert-info\" role=\"alert\">\n",
                "\n",
                "### Contents <a id='totop'></a>\n",
                "\n",
                "</div>\n",
                "    \n",
                " 1. [Setting Up](#section0)\n",
                " 2. [Retrieval of the Satellite Image](#section1)\n",
                " 3. [Import / Define your sampling points](#section2)\n",
                " 4. [Adapt the SNAP Graph with your sampling points](#section3)\n",
                " 5. [Pixel Extraction using EOCanvas](#section4)\n",
                " 6. [Postprocessing and visualizing the result](#section5)\n",
                "\n",
                "<hr>"
            ]
        },
        {
            "cell_type": "markdown",
            "metadata": {},
            "source": [
                "<div class=\"alert alert-info\" role=\"alert\">\n",
                "\n",
                "## 1. <a id='section0'></a>Setting up\n",
                "[Back to top](#totop)\n",
                "    \n",
                "</div>"
            ]
        },
        {
            "cell_type": "markdown",
            "metadata": {},
            "source": [
                "Load necessary modules:"
            ]
        },
        {
            "cell_type": "code",
            "execution_count": 29,
            "metadata": {},
            "outputs": [],
            "source": [
                "from eocanvas import API, Credentials\n",
                "from eocanvas.api import Input, Config, ConfigOption\n",
                "from eocanvas.processes import SnapProcess\n",
                "from eocanvas.snap.graph import Graph\n",
                "\n",
                "from hda import Client\n",
                "\n",
                "import pandas as pd\n",
                "import geopandas as gpd\n",
                "import matplotlib.pyplot as plt\n"
            ]
        },
        {
            "cell_type": "markdown",
            "metadata": {},
            "source": [
                "You must replace `<your_user_name>` and `<your_password>` with the information from your WEkEO account (if you don't have one yet, register <a href=\"https://www.wekeo.eu/\" target=\"_blank\">here</a>.\n",
                "\n",
                "Save your credentials. They will be automatically loaded when required."
            ]
        },
        {
            "cell_type": "code",
            "execution_count": 3,
            "metadata": {},
            "outputs": [
                {
                    "name": "stdout",
                    "output_type": "stream",
                    "text": [
                        "Credentials are written to file C:\\Users\\erdmann\\.hdarc\n"
                    ]
                }
            ],
            "source": [
                "c = Credentials(username=\"<your_user_name>\", password=\"<your_password>\")\n",
                "c.save()"
            ]
        },
        {
            "cell_type": "markdown",
            "metadata": {},
            "source": [
                "<div class=\"alert alert-info\" role=\"alert\">\n",
                "\n",
                "## 2. <a id='section1'></a>Retrieval of the Satellite Image\n",
                "[Back to top](#totop)\n",
                "    \n",
                "</div>"
            ]
        },
        {
            "cell_type": "markdown",
            "metadata": {},
            "source": [
                "In this section, we retrieve a **Sentinel-3 satellite image tile** as our input. For more information on this dataset, refer to the [WEkEO data description](https://www.wekeo.eu/data?view=dataset&dataset=EO%3AEUM%3ADAT%3ASENTINEL-3%3AOL_2_WFR___).\n",
                "\n",
                "For simplicity, we are using a single tile in this example. For information on handling multiple tiles, refer to **Section XX**.\n",
                "\n",
                "\n",
                "**Search for the Tile**: We conduct a search through the WEkEO Harmonized Data Access (HDA) API, specifying our desired parameters to locate a single Sentinel-3 image. For further details on creating API requests, see the [WEkEO API notebook](https://github.com/wekeo/wekeo4data/blob/main/wekeo-hda/wekeo_harmonised_data_access_api.ipynb)."
            ]
        },
        {
            "cell_type": "code",
            "execution_count": 4,
            "metadata": {},
            "outputs": [],
            "source": [
                "q = {\n",
                "  \"dataset_id\": \"EO:EUM:DAT:SENTINEL-3:OL_2_WFR___\",\n",
                "  \"dtstart\": \"2024-07-22T15:40:00.000Z\",\n",
                "  \"dtend\": \"2024-07-22T15:43:00.000Z\",\n",
                "  \"publication\": \"2021-12-20T09:47:29.021Z\",\n",
                "  \"bbox\": [\n",
                "    -83.65525712228973,\n",
                "    27.03509268442863,\n",
                "    -80.56304425603494,\n",
                "    30.55352332370563\n",
                "  ],\n",
                "  \"sat\": \"Sentinel-3B\",\n",
                "  \"type\": \"OL_2_WFR___\",\n",
                "  \"timeliness\": \"NT\",\n",
                "  \"relorbit\": \"282\",\n",
                "  \"cycle\": \"95\"\n",
                "}\n",
                "\n",
                "c = Client()"
            ]
        },
        {
            "cell_type": "markdown",
            "metadata": {},
            "source": [
                "**Retrieve the Result**: The search will return one result matching our criteria."
            ]
        },
        {
            "cell_type": "code",
            "execution_count": 6,
            "metadata": {},
            "outputs": [
                {
                    "data": {
                        "text/plain": [
                            "SearchResults[items=1,volume=519.2MB]"
                        ]
                    },
                    "execution_count": 6,
                    "metadata": {},
                    "output_type": "execute_result"
                }
            ],
            "source": [
                "r = c.search(q)\n",
                "r"
            ]
        },
        {
            "cell_type": "markdown",
            "metadata": {},
            "source": [
                "**Obtain Download URL**: The URL of the result will be used as input for EOCanvas processing functions."
            ]
        },
        {
            "cell_type": "code",
            "execution_count": 7,
            "metadata": {},
            "outputs": [
                {
                    "data": {
                        "text/plain": [
                            "'https://gateway.prod.wekeo2.eu/hda-broker/api/v1/dataaccess/download/6720c86252f25514612c2465'"
                        ]
                    },
                    "execution_count": 7,
                    "metadata": {},
                    "output_type": "execute_result"
                }
            ],
            "source": [
                "url = r.get_download_urls()[0]\n",
                "url"
            ]
        },
        {
            "cell_type": "markdown",
            "metadata": {},
            "source": [
                "<div class=\"alert alert-info\" role=\"alert\">\n",
                "\n",
                "## 3. <a id='section2'></a>Import / Define your sampling points\n",
                "[Back to top](#totop)\n",
                "    \n",
                "</div>"
            ]
        },
        {
            "cell_type": "markdown",
            "metadata": {},
            "source": [
                "In this cell, we set up the **location data** where we plan to sample satellite images. \n",
                "\n",
                "\n",
                "1. **Data Format**: Locations for sampling need to be converted to a **Pandas DataFrame**.\n",
                "\n",
                "2. **Required Parameters**:\n",
                "   - `id`: A unique identifier for each location.\n",
                "   - `lat`: Latitude of the location.\n",
                "   - `lon`: Longitude of the location.\n",
                "   - `time`: Timestamp specifying the date and time for each location.\n",
                "\n",
                "\n",
                "\n",
                "3. **Defining Locations**:\n",
                "   - **Direct Definition**: As shown in this example, you can define the locations within the code by creating a dictionary and converting it to a DataFrame.\n",
                "   - **Loading from a File**: Alternatively, if you have location data saved in a file (e.g., `.csv` or `.txt`), you can load it into a DataFrame using the `pd.read_csv()` function.\n"
            ]
        },
        {
            "cell_type": "code",
            "execution_count": 9,
            "metadata": {},
            "outputs": [
                {
                    "data": {
                        "text/html": [
                            "<div>\n",
                            "<style scoped>\n",
                            "    .dataframe tbody tr th:only-of-type {\n",
                            "        vertical-align: middle;\n",
                            "    }\n",
                            "\n",
                            "    .dataframe tbody tr th {\n",
                            "        vertical-align: top;\n",
                            "    }\n",
                            "\n",
                            "    .dataframe thead th {\n",
                            "        text-align: right;\n",
                            "    }\n",
                            "</style>\n",
                            "<table border=\"1\" class=\"dataframe\">\n",
                            "  <thead>\n",
                            "    <tr style=\"text-align: right;\">\n",
                            "      <th></th>\n",
                            "      <th>id</th>\n",
                            "      <th>lat</th>\n",
                            "      <th>lon</th>\n",
                            "      <th>time</th>\n",
                            "    </tr>\n",
                            "  </thead>\n",
                            "  <tbody>\n",
                            "    <tr>\n",
                            "      <th>0</th>\n",
                            "      <td>0</td>\n",
                            "      <td>27.8931</td>\n",
                            "      <td>-82.9425</td>\n",
                            "      <td>2024-07-22T08:31:00</td>\n",
                            "    </tr>\n",
                            "    <tr>\n",
                            "      <th>1</th>\n",
                            "      <td>1</td>\n",
                            "      <td>28.2250</td>\n",
                            "      <td>-82.6725</td>\n",
                            "      <td>2024-07-22T08:31:00</td>\n",
                            "    </tr>\n",
                            "    <tr>\n",
                            "      <th>2</th>\n",
                            "      <td>2</td>\n",
                            "      <td>28.1230</td>\n",
                            "      <td>-82.5230</td>\n",
                            "      <td>2024-07-22T08:31:00</td>\n",
                            "    </tr>\n",
                            "  </tbody>\n",
                            "</table>\n",
                            "</div>"
                        ],
                        "text/plain": [
                            "   id      lat      lon                 time\n",
                            "0   0  27.8931 -82.9425  2024-07-22T08:31:00\n",
                            "1   1  28.2250 -82.6725  2024-07-22T08:31:00\n",
                            "2   2  28.1230 -82.5230  2024-07-22T08:31:00"
                        ]
                    },
                    "execution_count": 9,
                    "metadata": {},
                    "output_type": "execute_result"
                }
            ],
            "source": [
                "import pandas as pd\n",
                "import xml.etree.ElementTree as ET\n",
                "\n",
                "# Example DataFrame with coordinates, times, and ids\n",
                "data = {\n",
                "    'id': [0, 1, 2],\n",
                "    'lat': [27.8931, 28.225, 28.123],\n",
                "    'lon': [-82.9425, -82.6725, -82.523],\n",
                "    'time': ['2024-07-22T08:31:00', '2024-07-22T08:31:00', '2024-07-22T08:31:00']\n",
                "}\n",
                "\n",
                "# Create a DataFrame\n",
                "df = pd.DataFrame(data)\n",
                "df\n"
            ]
        },
        {
            "cell_type": "markdown",
            "metadata": {},
            "source": [
                "<div class=\"alert alert-info\" role=\"alert\">\n",
                "\n",
                "## 4. <a id='section3'></a>Adapt the SNAP Graph with your sampling points\n",
                "[Back to top](#totop)\n",
                "    \n",
                "</div>"
            ]
        },
        {
            "cell_type": "markdown",
            "metadata": {},
            "source": [
                "**EOCanvas** uses workflows from existing geospatial software. Here, we leverage **SNAP** (the [Sentinel Application Platform](https://step.esa.int/main/toolboxes/snap/)), a toolbox for processing satellite data.\n",
                "A pre-prepared **SNAP graph** for pixel extraction is provided, but it needs to be customized to include our sample locations.\n",
                "\n",
                "The graph is stored in `input_graphs/extractpix.xml`. We read the graph using the `ET.parse()` function\n"
            ]
        },
        {
            "cell_type": "code",
            "execution_count": 10,
            "metadata": {},
            "outputs": [],
            "source": [
                "# Load the existing XML file\n",
                "tree = ET.parse('input_graphs/extractpix.xml')  # Replace with the path to your existing XML file\n",
                "root = tree.getroot()\n"
            ]
        },
        {
            "cell_type": "markdown",
            "metadata": {},
            "source": [
                "Use the structure of the XML file to add the locations from the DataFrame to the graph. The coordinated need to be inserted in the xml section `\"coordinates\"`. \n",
                "\n",
                "For each of the defined coordinates, we insert the required fields as SubElements in the SNAP graph. "
            ]
        },
        {
            "cell_type": "code",
            "execution_count": 11,
            "metadata": {},
            "outputs": [],
            "source": [
                "# Find the <parameters> element where coordinates should be added.\n",
                "# Adjust this search based on the structure of your XML.\n",
                "\n",
                "for node in root.findall(\".//node\"):\n",
                "    parameters = node.find(\"parameters\")\n",
                "    if parameters is not None:\n",
                "        # Find or create the <coordinates> element within <parameters>\n",
                "        coordinates = parameters.find(\"coordinates\")\n",
                "        if coordinates is None:\n",
                "            coordinates = ET.SubElement(parameters, \"coordinates\")\n",
                "\n",
                "        # Add each coordinate as a new <coordinate> element\n",
                "        for idx, row in df.iterrows():\n",
                "            coordinate = ET.SubElement(coordinates, \"coordinate\")\n",
                "            ET.SubElement(coordinate, \"name\").text = f\"Coord_{idx}\"\n",
                "            ET.SubElement(coordinate, \"latitude\").text = str(row['lat'])\n",
                "            ET.SubElement(coordinate, \"longitude\").text = str(row['lon'])\n",
                "            ET.SubElement(coordinate, \"dateTime\").text = row['time']\n",
                "            ET.SubElement(coordinate, \"originalValues\")\n",
                "            ET.SubElement(coordinate, \"id\").text = str(row['id'])\n"
            ]
        },
        {
            "cell_type": "markdown",
            "metadata": {},
            "source": [
                "After the adjustment, the xml graph looks like this. Note, that we find out three defined coordinated inside the Graph. "
            ]
        },
        {
            "cell_type": "markdown",
            "metadata": {},
            "source": [
                "```xml\n",
                "<graph id=\"pixExGraph\">\n",
                "    <version>1.0</version>\n",
                "    <node id=\"someNodeId\">\n",
                "        <operator>PixEx</operator>\n",
                "        <parameters>\n",
                "            <sourceProductPaths>$img1</sourceProductPaths>\n",
                "            <exportBands>true</exportBands>\n",
                "            <exportTiePoints>true</exportTiePoints>\n",
                "            <exportMasks>false</exportMasks>\n",
                "            <coordinates>\n",
                "                <coordinate>\n",
                "                    <name>Coord_0</name>\n",
                "                    <latitude>27.8931</latitude>\n",
                "                    <longitude>-82.9425</longitude>\n",
                "                    <dateTime>2024-07-22T08:31:00</dateTime>\n",
                "                    <originalValues />\n",
                "                    <id>0</id>\n",
                "                </coordinate>\n",
                "                <coordinate>\n",
                "                    <name>Coord_1</name>\n",
                "                    <latitude>28.225</latitude>\n",
                "                    <longitude>-82.6725</longitude>\n",
                "                    <dateTime>2024-07-22T08:31:00</dateTime>\n",
                "                    <originalValues />\n",
                "                    <id>1</id>\n",
                "                </coordinate>\n",
                "                <coordinate>\n",
                "                    <name>Coord_2</name>\n",
                "                    <latitude>28.123</latitude>\n",
                "                    <longitude>-82.523</longitude>\n",
                "                    <dateTime>2024-07-22T08:31:00</dateTime>\n",
                "                    <originalValues />\n",
                "                    <id>2</id>\n",
                "                </coordinate>\n",
                "            </coordinates>\n",
                "            <timeDifference>1D</timeDifference>\n",
                "            <windowSize>1</windowSize>\n",
                "            <outputDir>$output</outputDir>\n",
                "            <outputFilePrefix>pixEx</outputFilePrefix>\n",
                "            <exportExpressionResult>true</exportExpressionResult>\n",
                "            <aggregatorStrategyType>no aggregation</aggregatorStrategyType>\n",
                "            <exportSubScenes>false</exportSubScenes>\n",
                "            <subSceneBorderSize>0</subSceneBorderSize>\n",
                "            <exportKmz>false</exportKmz>\n",
                "            <extractTimeFromFilename>false</extractTimeFromFilename>\n",
                "            <dateInterpretationPattern>yyyyMMdd</dateInterpretationPattern>\n",
                "            <filenameInterpretationPattern>*${startDate}*${endDate}*</filenameInterpretationPattern>\n",
                "            <includeOriginalInput>false</includeOriginalInput>\n",
                "        </parameters>\n",
                "    </node>\n",
                "</graph>"
            ]
        },
        {
            "cell_type": "markdown",
            "metadata": {},
            "source": [
                "We save the modified graph and use it later as input to the EOCAnvas function. "
            ]
        },
        {
            "cell_type": "code",
            "execution_count": 22,
            "metadata": {},
            "outputs": [
                {
                    "name": "stdout",
                    "output_type": "stream",
                    "text": [
                        "XML file updated: extractpix_florida.xml\n"
                    ]
                }
            ],
            "source": [
                "# Write the modified XML back to a file\n",
                "tree.write('input_graphs/extractpix_florida.xml', encoding='utf-8', xml_declaration=True)\n",
                "\n",
                "print(\"XML file updated: extractpix_florida.xml\")"
            ]
        },
        {
            "cell_type": "markdown",
            "metadata": {},
            "source": [
                "<div class=\"alert alert-info\" role=\"alert\">\n",
                "\n",
                "## 5. <a id='section4'></a>Pixel Extraction using EOCanvas\n",
                "[Back to top](#totop)\n",
                "    \n",
                "</div>\n"
            ]
        },
        {
            "cell_type": "markdown",
            "metadata": {},
            "source": [
                "To process data using the EOCAnvas Serverless Functions, there are **three necessary inputs** to provide to the function:\n",
                "\n",
                " 1. Data\n",
                " 2. Processing Workflow: the SNAP Graph\n",
                " 3. Configuration Parameters\n",
                "\n",
                "The three inputs are defined in the cell below."
            ]
        },
        {
            "cell_type": "code",
            "execution_count": 40,
            "metadata": {},
            "outputs": [],
            "source": [
                "data = Input(key=\"img1\", url=url)\n",
                "graph = Graph.from_uri(\"input_graphs/extractpix_florida.xml\")\n",
                "config = Config(key=\"img1\", options=ConfigOption(uncompress=True, sub_path=\"xfdumanifest.xml\"))"
            ]
        },
        {
            "cell_type": "markdown",
            "metadata": {},
            "source": [
                "Next, we create and run the process, that will execute the SNAP graph on the Sentinel-3 satellite scene. "
            ]
        },
        {
            "cell_type": "code",
            "execution_count": 41,
            "metadata": {},
            "outputs": [],
            "source": [
                "process = SnapProcess(snap_graph=graph, eo_config=config, eo_input=data)"
            ]
        },
        {
            "cell_type": "code",
            "execution_count": 43,
            "metadata": {},
            "outputs": [
                {
                    "name": "stdout",
                    "output_type": "stream",
                    "text": [
                        "Job: 65b77143-6eee-525d-921e-d30872c56644 - Status: accepted at 2024-10-10T10:10:31.861642\n",
                        "Job: 65b77143-6eee-525d-921e-d30872c56644 - Status: running at 2024-10-10T10:10:42.414449\n",
                        "Job: 65b77143-6eee-525d-921e-d30872c56644 - Status: running at 2024-10-10T10:10:53.929729\n",
                        "Job: 65b77143-6eee-525d-921e-d30872c56644 - Status: running at 2024-10-10T10:11:06.572862\n",
                        "Job: 65b77143-6eee-525d-921e-d30872c56644 - Status: running at 2024-10-10T10:11:20.875540\n",
                        "Job: 65b77143-6eee-525d-921e-d30872c56644 - Status: running at 2024-10-10T10:11:36.202546\n",
                        "Job: 65b77143-6eee-525d-921e-d30872c56644 - Status: running at 2024-10-10T10:11:53.003799\n",
                        "Job: 65b77143-6eee-525d-921e-d30872c56644 - Status: running at 2024-10-10T10:12:11.230917\n",
                        "Job: 65b77143-6eee-525d-921e-d30872c56644 - Status: running at 2024-10-10T10:12:31.226596\n",
                        "Job: 65b77143-6eee-525d-921e-d30872c56644 - Status: running at 2024-10-10T10:12:53.176377\n",
                        "Job: 65b77143-6eee-525d-921e-d30872c56644 - Status: running at 2024-10-10T10:13:17.269315\n",
                        "Downloading result/pixex\\pixEx_productIdMap.txt\n",
                        "Downloading result/pixex\\pixEx_OL_2_WFR_measurements.txt\n"
                    ]
                }
            ],
            "source": [
                "process.run(download_dir=\"result/pixex\")"
            ]
        },
        {
            "cell_type": "markdown",
            "metadata": {},
            "source": [
                "\n",
                "\n",
                "<div class=\"alert alert-info\" role=\"alert\">\n",
                "\n",
                "## 6. <a id='section5'></a>Post Processing and visualizing the result\n",
                "[Back to top](#totop)\n",
                "    \n",
                "</div>\n"
            ]
        },
        {
            "cell_type": "markdown",
            "metadata": {},
            "source": [
                "In this code cell, we are loading the measurement results from a text file generated by the pixel extraction process. \n",
                "\n",
                "- The file is located at `'result/pixex/pixEx_OL_2_WFR_measurements.txt'` within the `result` folder.\n",
                "- We use the `pd.read_csv` function from the pandas library to read the file, skipping any header lines (denoted by the `#` comment character).\n",
                "\n",
                "This allows us to create a DataFrame `df` that will contain the sampled data for further analysis or visualization."
            ]
        },
        {
            "cell_type": "code",
            "execution_count": 23,
            "metadata": {},
            "outputs": [],
            "source": [
                "# Read the result \n",
                "file_path = 'result/pixex\\pixEx_OL_2_WFR_measurements.txt'\n",
                "df = pd.read_csv(file_path, sep='\\t', comment='#')"
            ]
        },
        {
            "cell_type": "markdown",
            "metadata": {},
            "source": [
                "Each row corresponding to a specific coordinate and each column representing a different band from the OLCI satellite scene. The reflectance bands, as well as the flags and auxiliary informations were sampled, which is why we have a large number (**174**) of columns in the dataframe. "
            ]
        },
        {
            "cell_type": "code",
            "execution_count": 27,
            "metadata": {},
            "outputs": [
                {
                    "data": {
                        "text/html": [
                            "<div>\n",
                            "<style scoped>\n",
                            "    .dataframe tbody tr th:only-of-type {\n",
                            "        vertical-align: middle;\n",
                            "    }\n",
                            "\n",
                            "    .dataframe tbody tr th {\n",
                            "        vertical-align: top;\n",
                            "    }\n",
                            "\n",
                            "    .dataframe thead th {\n",
                            "        text-align: right;\n",
                            "    }\n",
                            "</style>\n",
                            "<table border=\"1\" class=\"dataframe\">\n",
                            "  <thead>\n",
                            "    <tr style=\"text-align: right;\">\n",
                            "      <th></th>\n",
                            "      <th>ProdID</th>\n",
                            "      <th>CoordID</th>\n",
                            "      <th>Name</th>\n",
                            "      <th>Latitude</th>\n",
                            "      <th>Longitude</th>\n",
                            "      <th>PixelX</th>\n",
                            "      <th>PixelY</th>\n",
                            "      <th>Date(yyyy-MM-dd)</th>\n",
                            "      <th>Time(HH_mm_ss)</th>\n",
                            "      <th>Oa01_reflectance</th>\n",
                            "      <th>...</th>\n",
                            "      <th>atmospheric_temperature_profile_pressure_level_22</th>\n",
                            "      <th>atmospheric_temperature_profile_pressure_level_23</th>\n",
                            "      <th>atmospheric_temperature_profile_pressure_level_24</th>\n",
                            "      <th>atmospheric_temperature_profile_pressure_level_25</th>\n",
                            "      <th>horizontal_wind_vector_1</th>\n",
                            "      <th>horizontal_wind_vector_2</th>\n",
                            "      <th>humidity</th>\n",
                            "      <th>sea_level_pressure</th>\n",
                            "      <th>total_columnar_water_vapour</th>\n",
                            "      <th>total_ozone</th>\n",
                            "    </tr>\n",
                            "  </thead>\n",
                            "  <tbody>\n",
                            "    <tr>\n",
                            "      <th>0</th>\n",
                            "      <td>0</td>\n",
                            "      <td>1</td>\n",
                            "      <td>Coord_0</td>\n",
                            "      <td>27.894343</td>\n",
                            "      <td>-82.942737</td>\n",
                            "      <td>2652.5</td>\n",
                            "      <td>938.5</td>\n",
                            "      <td>2024-07-22</td>\n",
                            "      <td>15:40:27</td>\n",
                            "      <td>-0.002881</td>\n",
                            "      <td>...</td>\n",
                            "      <td>241.287216</td>\n",
                            "      <td>255.254364</td>\n",
                            "      <td>256.791656</td>\n",
                            "      <td>257.645294</td>\n",
                            "      <td>0.142770</td>\n",
                            "      <td>1.299098</td>\n",
                            "      <td>71.442101</td>\n",
                            "      <td>1017.313049</td>\n",
                            "      <td>50.102245</td>\n",
                            "      <td>0.006323</td>\n",
                            "    </tr>\n",
                            "    <tr>\n",
                            "      <th>1</th>\n",
                            "      <td>0</td>\n",
                            "      <td>2</td>\n",
                            "      <td>Coord_1</td>\n",
                            "      <td>28.225352</td>\n",
                            "      <td>-82.673096</td>\n",
                            "      <td>2720.5</td>\n",
                            "      <td>797.5</td>\n",
                            "      <td>2024-07-22</td>\n",
                            "      <td>15:40:21</td>\n",
                            "      <td>NaN</td>\n",
                            "      <td>...</td>\n",
                            "      <td>241.420044</td>\n",
                            "      <td>254.463913</td>\n",
                            "      <td>257.451538</td>\n",
                            "      <td>257.348541</td>\n",
                            "      <td>0.014110</td>\n",
                            "      <td>-0.762837</td>\n",
                            "      <td>75.395805</td>\n",
                            "      <td>1017.234802</td>\n",
                            "      <td>49.588882</td>\n",
                            "      <td>0.006332</td>\n",
                            "    </tr>\n",
                            "    <tr>\n",
                            "      <th>2</th>\n",
                            "      <td>0</td>\n",
                            "      <td>3</td>\n",
                            "      <td>Coord_2</td>\n",
                            "      <td>28.123321</td>\n",
                            "      <td>-82.521972</td>\n",
                            "      <td>2783.5</td>\n",
                            "      <td>824.5</td>\n",
                            "      <td>2024-07-22</td>\n",
                            "      <td>15:40:22</td>\n",
                            "      <td>NaN</td>\n",
                            "      <td>...</td>\n",
                            "      <td>241.551300</td>\n",
                            "      <td>254.805389</td>\n",
                            "      <td>256.936920</td>\n",
                            "      <td>257.621063</td>\n",
                            "      <td>-0.998073</td>\n",
                            "      <td>-0.209238</td>\n",
                            "      <td>74.389458</td>\n",
                            "      <td>1017.175171</td>\n",
                            "      <td>48.377071</td>\n",
                            "      <td>0.006335</td>\n",
                            "    </tr>\n",
                            "  </tbody>\n",
                            "</table>\n",
                            "<p>3 rows × 174 columns</p>\n",
                            "</div>"
                        ],
                        "text/plain": [
                            "   ProdID  CoordID     Name   Latitude  Longitude  PixelX  PixelY  \\\n",
                            "0       0        1  Coord_0  27.894343 -82.942737  2652.5   938.5   \n",
                            "1       0        2  Coord_1  28.225352 -82.673096  2720.5   797.5   \n",
                            "2       0        3  Coord_2  28.123321 -82.521972  2783.5   824.5   \n",
                            "\n",
                            "  Date(yyyy-MM-dd) Time(HH_mm_ss)  Oa01_reflectance  ...  \\\n",
                            "0       2024-07-22       15:40:27         -0.002881  ...   \n",
                            "1       2024-07-22       15:40:21               NaN  ...   \n",
                            "2       2024-07-22       15:40:22               NaN  ...   \n",
                            "\n",
                            "   atmospheric_temperature_profile_pressure_level_22  \\\n",
                            "0                                         241.287216   \n",
                            "1                                         241.420044   \n",
                            "2                                         241.551300   \n",
                            "\n",
                            "   atmospheric_temperature_profile_pressure_level_23  \\\n",
                            "0                                         255.254364   \n",
                            "1                                         254.463913   \n",
                            "2                                         254.805389   \n",
                            "\n",
                            "   atmospheric_temperature_profile_pressure_level_24  \\\n",
                            "0                                         256.791656   \n",
                            "1                                         257.451538   \n",
                            "2                                         256.936920   \n",
                            "\n",
                            "   atmospheric_temperature_profile_pressure_level_25  \\\n",
                            "0                                         257.645294   \n",
                            "1                                         257.348541   \n",
                            "2                                         257.621063   \n",
                            "\n",
                            "   horizontal_wind_vector_1  horizontal_wind_vector_2   humidity  \\\n",
                            "0                  0.142770                  1.299098  71.442101   \n",
                            "1                  0.014110                 -0.762837  75.395805   \n",
                            "2                 -0.998073                 -0.209238  74.389458   \n",
                            "\n",
                            "   sea_level_pressure  total_columnar_water_vapour  total_ozone  \n",
                            "0         1017.313049                    50.102245     0.006323  \n",
                            "1         1017.234802                    49.588882     0.006332  \n",
                            "2         1017.175171                    48.377071     0.006335  \n",
                            "\n",
                            "[3 rows x 174 columns]"
                        ]
                    },
                    "execution_count": 27,
                    "metadata": {},
                    "output_type": "execute_result"
                }
            ],
            "source": [
                "df"
            ]
        },
        {
            "cell_type": "markdown",
            "metadata": {},
            "source": [
                "We can select only the necessary information (bands) from the dataframe and visulaize it on a map. "
            ]
        },
        {
            "cell_type": "code",
            "execution_count": null,
            "metadata": {},
            "outputs": [],
            "source": [
                "# Convert the necessary columns to appropriate types\n",
                "df['Latitude'] = pd.to_numeric(df['Latitude'], errors='coerce')\n",
                "df['Longitude'] = pd.to_numeric(df['Longitude'], errors='coerce')\n",
                "df['CHL_NN'] = pd.to_numeric(df['CHL_NN'], errors='coerce')"
            ]
        },
        {
            "cell_type": "code",
            "execution_count": 30,
            "metadata": {},
            "outputs": [],
            "source": [
                "# convert to a geodataframe\n",
                "gdf = gpd.GeoDataFrame(\n",
                "    df, geometry=gpd.points_from_xy(df['Longitude'], df['Latitude'])\n",
                ")\n",
                "\n",
                "# Set the coordinate reference system (CRS)\n",
                "gdf=gdf.set_crs(epsg=4326, inplace=True)\n",
                "\n"
            ]
        },
        {
            "cell_type": "markdown",
            "metadata": {},
            "source": [
                "When we now plot the Chlorophyll Values (`CHL_NN`) of the map, we only see one point. Two of the coordinated are missing. **Missing values** are cuased by flagging of the measurements, e.g. because of cloud cover, locations on land or a unsufficient measurement quality.  "
            ]
        },
        {
            "cell_type": "code",
            "execution_count": 31,
            "metadata": {},
            "outputs": [
                {
                    "name": "stderr",
                    "output_type": "stream",
                    "text": [
                        "C:\\Users\\erdmann\\AppData\\Local\\Temp\\ipykernel_10288\\2510532734.py:2: FutureWarning: The geopandas.dataset module is deprecated and will be removed in GeoPandas 1.0. You can get the original 'naturalearth_lowres' data from https://www.naturalearthdata.com/downloads/110m-cultural-vectors/.\n",
                        "  world = gpd.read_file(gpd.datasets.get_path('naturalearth_lowres'))\n"
                    ]
                },
                {
                    "data": {
                        "image/png": "[encoded data removed]",
                        "text/plain": [
                            "<Figure size 1000x600 with 2 Axes>"
                        ]
                    },
                    "metadata": {},
                    "output_type": "display_data"
                }
            ],
            "source": [
                "# Create a plot with a background map using the 'world' map from geopandas datasets\n",
                "world = gpd.read_file(gpd.datasets.get_path('naturalearth_lowres'))\n",
                "\n",
                "# Plot the world map\n",
                "ax = world.plot(figsize=(10, 6), color='lightgray', edgecolor='black')\n",
                "minx, miny, maxx, maxy = gdf.total_bounds\n",
                "ax.set_xlim(minx-4, maxx+4)\n",
                "ax.set_ylim(miny-4, maxy+4)\n",
                "\n",
                "# Plot the points with CHL_NN values\n",
                "gdf.plot(\n",
                "    ax=ax,\n",
                "    column='CHL_NN',  # Color points based on CHL_NN values\n",
                "    legend=True,\n",
                "    cmap='viridis'   # Colormap (e.g., 'viridis', 'plasma', 'coolwarm')\n",
                "\n",
                ")\n",
                "\n",
                "plt.title('CHL_NN Values at Different Coordinates')\n",
                "plt.xlabel('Longitude')\n",
                "plt.ylabel('Latitude')\n",
                "plt.grid(True)\n",
                "plt.show()\n"
            ]
        }
    ],
    "metadata": {
        "author": "Anna-Lena Erdmann",

        "services": {

         "wekeo": {
          "git": {
           "link": "https://github.com/wekeo/wekeo4data/blob/main/wekeo-eocanvas/EOCanvasWorkflow_Extract_Pixel_Values.ipynb",
           "service_contact": "ops@eumetsat.int",
           "service_provider": "EUMETSAT"
          },
          "url": {
           "link": "https://jupyterhub.prod.wekeo2.eu/hub/user-redirect/lab/tree/public/wekeo4data/wekeo-eocanvas/EOCanvasWorkflow_Extract_Pixel_Values.ipynb",
           "service_contact": "ops@eumetsat.int",
           "service_provider": "EUMETSAT"
          }
         }
        },
        "description": "This Jupyter Notebook introduces an EOCanvas Workflow for extracting pixel values from a Sentinel-3 satellite image.",

        "image": "img/thumbs/workflow_pixel_extraction.png",

        "kernelspec": {
         "display_name": "wekeolab",
         "language": "python",
         "name": "python3"
        },
        "language_info": {
         "codemirror_mode": {
          "name": "ipython",
          "version": 3
         },
         "file_extension": ".py",
         "mimetype": "text/x-python",
         "name": "python",
         "nbconvert_exporter": "python",
         "pygments_lexer": "ipython3",
         "version": "3.11.5"
        },
        "tags": {

         "service": [

          "EUMETSAT"
         ],
         "subtheme": [
          "eocanvas", "OLCI"
         ],

         "domain": "Tools"

        },
        "title": "Extract Pixel Values from Satellite Images with EOCAnvas",
        "vscode": {
         "interpreter": {
          "hash": "69a843eb2806097c81d46a99bb39f1f0d8214ba0939f50116f16a105a7e284d3"
         }
        }
       },
       "nbformat": 4,
       "nbformat_minor": 4
      }
