{
 "cells": [
  {
   "cell_type": "markdown",
   "metadata": {},
   "source": [
    "<img src='./img/LogoWekeo_Copernicus_RGB_0.png' alt='' align='centre' width='10%'></img>"
   ]
  },
  {
   "cell_type": "markdown",
   "metadata": {},
   "source": [
    "# WEkEO Harmonized Data Access (HDA) API - How-To"
   ]
  },
  {
   "cell_type": "markdown",
   "metadata": {},
   "source": [
    "<a href='https://www.wekeo.eu/' target='_blank'>WEkEO</a> is the EU Copernicus DIAS (Data and Information Access Service) reference service for environmental data, virtual processing environments and skilled user support.\n",
    "\n",
    "WEkEO offers access to a variety of data, including different parameters sensored from Sentinel-1, Sentinel-2 and Sentinel-3. It further offers access to climate reanalysis and seasonal forecast data.\n",
    "\n",
    "The <a href='https://www.wekeo.eu/docs/harmonised-data-access-api' target='_blank'>Harmonised Data Access (HDA) API</a>, a REST interface, allows users to subset and download datasets from WEkEO.\n",
    "\n",
    "This [notebook](hhttps://www.wekeo.eu/docs/using-jupyter) is a step-by-step guide on how to search for and download data from WEkEO using the `HDA API`.\n",
    "\n",
    "Follow the following steps:\n",
    "\n",
    " - [1. Install the WEkEO HDA client](#wekeo_hda_install)\n",
    " - [2. Search for datasets on WEkEO](#wekeo_search)\n",
    " - [3. Get the Dataset ID](#wekeo_dataset_id)\n",
    " - [4. Configure the WEkEO API Authentication](#wekeo_hda_auth)\n",
    " - [5. Load data descriptor file and request data](#wekeo_json)\n",
    " - [6. Download requested data](#wekeo_download)"
   ]
  },
  {
   "cell_type": "markdown",
   "metadata": {},
   "source": [
    "#### Load required libraries"
   ]
  },
  {
   "cell_type": "code",
   "execution_count": 1,
   "metadata": {},
   "outputs": [],
   "source": [
    "import os\n",
    "import sys\n",
    "import json\n",
    "import time\n",
    "import base64\n",
    "from IPython.core.display import HTML\n",
    "\n",
    "import requests\n",
    "import warnings\n",
    "warnings.filterwarnings('ignore')"
   ]
  },
  {
   "cell_type": "markdown",
   "metadata": {},
   "source": [
    "### <a id='wekeo_hda_install'></a>1. Install the WEkEO HDA client"
   ]
  },
  {
   "cell_type": "markdown",
   "metadata": {},
   "source": [
    "The WEkEO HDA client is a Python 3 based library that facilitates access to WEkEO data. It requires the following packages.\n",
    "\n",
    "   - Python 3\n",
    "   - requests\n",
    "   - tqdm\n",
    "\n",
    "If you are working in the WEkEO JupyterLab - the HDA client is already installed, otherwise you can install it using the command below.\n",
    "\n",
    "`pip install -U hda`"
   ]
  },
  {
   "cell_type": "markdown",
   "metadata": {},
   "source": [
    "#### Load WEkEO HDA client"
   ]
  },
  {
   "cell_type": "markdown",
   "metadata": {},
   "source": [
    "The hda client provides a fully compliant Python 3 client that can be used to search and download products using the Harmonized Data Access WEkEO API.\n",
    "HDA is RESTful interface allowing users to search and download WEkEO datasets.\n",
    "Documentation about its usage can be found at the <a href='https://www.wekeo.eu/' target='_blank'>WEkEO website</a> and the associated <a href='https://github.com/wekeo/hda' target = '_blank'>WEkEO GitHub repository</a>."
   ]
  },
  {
   "cell_type": "code",
   "execution_count": 3,
   "metadata": {},
   "outputs": [],
   "source": [
    "import hda"
   ]
  },
  {
   "cell_type": "markdown",
   "metadata": {},
   "source": [
    "<hr>"
   ]
  },
  {
   "cell_type": "markdown",
   "metadata": {},
   "source": [
    "### <a id='wekeo_search'></a>2. Search for datasets on WEkEO"
   ]
  },
  {
   "cell_type": "markdown",
   "metadata": {},
   "source": [
    "Under <a href='https://wekeo.eu/data?view=catalogue' target='_blank'>WEkEO DATA</a>. Clicking the + to add a layer, opens a catalogue search where you can use free text.You can look for example for *`sentinel-3`* and browse through the results. You can also use the filter options on the left to refine your search and look by satellite plaform, sensor, Copernicus service, area (region of interest), general time period (past or future), as well as through a variety of flags.\n",
    "\n",
    "\n",
    "You can click on the dataset you are interested in and you will be guided to a range of details including the dataset temporal and spatial extent, collection ID, and metadata.\n",
    "\n",
    "<br>\n",
    "\n",
    "<img src='./img/wekeo_data_search2.png' width='80%'></img>"
   ]
  },
  {
   "cell_type": "markdown",
   "metadata": {},
   "source": [
    "### <a id='wekeo_dataset_id'></a>3. Get the Dataset ID "
   ]
  },
  {
   "cell_type": "markdown",
   "metadata": {},
   "source": [
    "The dataset description provides the following information:\n",
    "- **Abstract**, containing a general description of the dataset,\n",
    "- **Classification**, including the Dataset ID \n",
    "- **Resources**, such as a link to the Product Data Format Specification guide, and JSON metadata\n",
    "- **Contacts**, where you can find further information about the data source from its provider.  \n",
    "\n",
    "You need the `Dataset ID` to request data from the Harmonised Data Access API. \n",
    "\n",
    "For `OLCI Level 1B Full Resolution - Sentinel-3` data for example, the collection ID is `EO:EUM:DAT:SENTINEL-3:OL_1_EFR___`.\n",
    "\n",
    "<br>\n",
    "\n",
    "<img src='./img/wekeo_collection_id2.png' width='60%' />\n",
    "\n",
    "<br>\n",
    "\n",
    "Let's store the Dataset ID as a variable called `dataset_id` to be used later."
   ]
  },
  {
   "cell_type": "code",
   "execution_count": 4,
   "metadata": {},
   "outputs": [],
   "source": [
    "dataset_id = \"EO:EUM:DAT:SENTINEL-3:OL_1_EFR___\""
   ]
  },
  {
   "cell_type": "markdown",
   "metadata": {},
   "source": [
    "### <a id='wekeo_hda_auth'></a>4. Configure the WEkEO API Authentication"
   ]
  },
  {
   "cell_type": "markdown",
   "metadata": {},
   "source": [
    "In order to allow us to download data using the WEkEO HDA API, we need to provide our credentials. We can do this in two ways;\n",
    "\n",
    "* **Option 1** - by creating a configuration file (*recommended*)\n",
    "* **Option 2** - by supplying our credentials directly in this script (*not recommended, but sometimes useful*)\n",
    "\n",
    "#### Option 1: creating a credentials file.\n",
    "\n",
    "By default, the HDA API expects the configuration to be called `.hdarc`, and to reside in our home directory. For most computer systems the home directory can be found at the path \\user\\username, /users/username, or /home/username depending on your operating system. In this file we need to add the following information exactly as follows;\n",
    "\n",
    "```\n",
    "user: <your_user_name>\n",
    "password: <your_password>\n",
    "```\n",
    "\n",
    "You must replace `<your_user_name>` and `<your_password>` with the information from your WEkEO account (if you don't have one yet, register <a href=\"https://www.wekeo.eu/\" target=\"_blank\">here</a>. Once you have entered these credentials in the file, the `hda` client will automatically read in the credentials from the file when you use it. \n",
    "\n",
    "##### Creating a credentials file on the WEkEO JupyterLab\n",
    "\n",
    "In the WEkEO JupyterLab, the easiest way to do this is to open a text file using the option in the Launcher (always accessible via the '+' on the top left). Then you can copy the text above into the file and adapt it with the credentials of your WEkEO account. Save the file with whatever name you like.\n",
    "\n",
    "Once you've done this you can open a terminal and run the command below to move the file to the right location, and rename it:\n",
    "\n",
    "`mv <your_file_name>  ~/.hdarc`\n",
    "\n",
    "##### Creating a credentials file on your own system\n",
    "\n",
    "You are free to use whatever method you like to create and save your file, but remember that, if you are using the default (~/.hdarc) then it should have no extension (Note: windows sometimes likes to add this without telling you!).\n",
    "\n",
    "##### Using the HDA\n",
    "\n",
    "If you are using the default approach you can establish an instance of the client like so;\n",
    "\n",
    "`c = hda.Client()`\n",
    "\n",
    "Alternatively, if you wish to specify your own configuration file, you can do so by adapting the code line below. The format should be the same as specified above.\n",
    "\n",
    "`c = hda.Client(hda.Configuration(path=<your_config_file>))`\n",
    "\n",
    "Where you should replace `<your_config_file>` with the path to your configuration file, for example;\n",
    "* \"myconfig.txt\" if it is in this directory.\n",
    "* \"/users/username/myconfig.txt\" as an example of an absolute path to a file on Linux and/or OSx.\n",
    "* os.path.join(\"users\",\"username\",\"myconfig.txt\") as an example of an absolute path on any platform.\n",
    "* os.path.join(os.path.expanduser(\"~\"), \"myconfig.txt\")) if it is in your home directory, on all operating systems.\n",
    "\n",
    "#### Option 2: provide credentials directly\n",
    "\n",
    "You can provide your credentials directly as follows;\n",
    "\n",
    "`c = hda.Client(hda.Configuration(user=\"<your_user_name>\",\n",
    "                                 password=\"<your_password>\"))`\n",
    "                                 \n",
    "*Note: this method is convenient in the short term, but is not really recommended as you have to put your user name and password in this notebook, and run the risk of accidentally sharing them. This method also requires you to authenticate on a notebook-by-notebook basis.*"
   ]
  },
  {
   "cell_type": "code",
   "execution_count": 5,
   "metadata": {},
   "outputs": [],
   "source": [
    "c = hda.Client()"
   ]
  },
  {
   "cell_type": "markdown",
   "metadata": {},
   "source": [
    "### <a id='wekeo_json'></a>5. Load data descriptor file and request data"
   ]
  },
  {
   "cell_type": "markdown",
   "metadata": {},
   "source": [
    "The Harmonised Data Access API can read your data request from a `JSON` file. In this JSON-based file, you can describe the dataset you are interested in downloading. The file is in principle a dictionary. Following keys can be defined:\n",
    "- `datasetID`: the dataset's collection ID\n",
    "- `stringChoiceValues`: type of dataset, e.g. 'Non Time Critical'\n",
    "- `dataRangeSelectValues`: time period you would like to retrieve data\n",
    "- `boundingBoxValues`: optional to define a subset of a global field\n",
    "\n",
    "See an example of a `data descriptor` file [here](./olci_data_descriptor.json). You can also get a specific example of a `JSON` file for a particular query from the <a href='https://wekeo.eu/data?view=catalogue' target='_blank'>WEkEO DATA</a> portal when you search as above - you just need to click on API request and the information needed for the `JSON` file will be displayed.\n",
    "\n",
    "<br>\n",
    "\n",
    "<img src='./img/Mindule_eg_viewer3.png' width='100%' />\n",
    "\n",
    "<br>\n",
    "\n",
    "<br>\n",
    "\n",
    "<img src='./img/Mindule_API_request.png' width='60%' />\n",
    "<br>"
   ]
  },
  {
   "cell_type": "markdown",
   "metadata": {},
   "source": [
    "You can load the `JSON` file with `json.load()`. Alternatively, you can copy paste the dictionary describing your data into a cell, as done below. Make sure to choose one option if you are inputting your own example! "
   ]
  },
  {
   "cell_type": "code",
   "execution_count": 6,
   "metadata": {},
   "outputs": [
    {
     "name": "stdout",
     "output_type": "stream",
     "text": [
      "Your JSON file:\n",
      "{'dataset_id': 'EO:EUM:DAT:SENTINEL-3:OL_1_EFR___', 'dtstart': '2021-09-29T00:00:00.000Z', 'dtend': '2021-09-30T00:00:00.000Z', 'bbox': [134.2477516188146, 22.00625971252353, 137.58597074610276, 25.18812983958223], 'type': 'OL_1_EFR___', 'timeliness': 'NT'}\n"
     ]
    }
   ],
   "source": [
    "try:\n",
    "    with open('./olci_data_descriptor.json', 'r') as f:\n",
    "        data = json.load(f)\n",
    "    print('Your JSON file:')\n",
    "    print(data)\n",
    "except:\n",
    "    print('Your JSON file is not in the correct format, or is not found, please check it!')"
   ]
  },
  {
   "cell_type": "code",
   "execution_count": null,
   "metadata": {},
   "outputs": [],
   "source": [
    "query = {\n",
    "  \"dataset_id\": \"EO:EUM:DAT:SENTINEL-3:OL_1_EFR___\",\n",
    "  \"dtstart\": \"2021-09-29T00:00:00.000Z\",\n",
    "  \"dtend\": \"2021-09-30T00:00:00.000Z\",\n",
    "  \"bbox\": [\n",
    "        134.2477516188146,\n",
    "        22.00625971252353,\n",
    "        137.58597074610276,\n",
    "        25.18812983958223\n",
    "  ],\n",
    "  \"type\": \"OL_1_EFR___\",\n",
    "  \"timeliness\": \"NT\"\n",
    "}"
   ]
  },
  {
   "cell_type": "markdown",
   "metadata": {},
   "source": [
    "### <a id='wekeo_download'></a>6. Download requested data"
   ]
  },
  {
   "cell_type": "markdown",
   "metadata": {},
   "source": [
    "As a final step, you can use the WEkEO HDA API to request data from the datasets listed in the WEkEO catalogue and to download it. "
   ]
  },
  {
   "cell_type": "code",
   "execution_count": 8,
   "metadata": {
    "scrolled": true
   },
   "outputs": [
    {
     "name": "stderr",
     "output_type": "stream",
     "text": [
      "                                                                                                                                                                                                                                                              \r"
     ]
    }
   ],
   "source": [
    "matches = c.search(query)\n",
    "matches.download()"
   ]
  },
  {
   "cell_type": "markdown",
   "metadata": {},
   "source": [
    "<hr>\n",
    "<a href=\"https://github.com/wekeo/wekeo4data\" target=\"_blank\">View on GitHub</a> | <a href=mailto:support@wekeo.eu target=\"_blank\">Contact WEkEO for support </a> </span></p>"
   ]
  }
 ],
 "metadata": {
  "author": "Hayley Evers-King",
  "description": "This notebook is a step-by-step guide on how to search for and download data from WEkEO using the HDA-API.",
  "image": "./img/img_02.png",
  "kernelspec": {
   "display_name": "Python 3.11.5 64-bit",
   "language": "python",
   "name": "python3"
  },
  "language_info": {
   "codemirror_mode": {
    "name": "ipython",
    "version": 3
   },
   "file_extension": ".py",
   "mimetype": "text/x-python",
   "name": "python",
   "nbconvert_exporter": "python",
   "pygments_lexer": "ipython3",
   "version": "3.11.5"
  },
  "deployment": {
   "wekeo": {
    "git": {
     "link": "https://github.com/wekeo/wekeo4data/blob/main/wekeo-hda/wekeo_harmonised_data_access_api.ipynb",
     "service_contact": "support@wekeo.eu",
     "service_provider": "WEkEO"
    },
    "jupyter": {
     "link": "https://jupyterhub.prod.wekeo2.eu/hub/user-redirect/lab/tree/public/wekeo4data/wekeo-hda/wekeo_harmonised_data_access_api.ipynb",
     "service_contact": "support@wekeo.eu",
     "service_provider": "WEkEO"
    }
   }
  },
  "tags": {
   "theme": [
    "Marine",
    "Atmosphere",
    "Climate",
    "Land",
    "Machine Learning"
   ],
   "satellite": "Sentinel-3",
   "sensor": "OLCI",
   "data_provider": "EUMETSAT",
   "subtheme": [
    "Water quality",
    "Ocean biogeochemistry"
   ],
   "variable": "Top-of-atmosphere radiance"
  },
  "title": "WEkEO Harmonized Data Access (HDA)API - How-To",
  "vscode": {
   "interpreter": {
    "hash": "69a843eb2806097c81d46a99bb39f1f0d8214ba0939f50116f16a105a7e284d3"
   }
  }
 },
 "nbformat": 4,
 "nbformat_minor": 4
}
