{
 "cells": [
  {
   "cell_type": "markdown",
   "metadata": {},
   "source": [
    "<img src=\"img/LogoWekeo_Copernicus_RGB_0.png\" alt=\"\" width=\"12%\" align=\"left\">"
   ]
  },
  {
   "cell_type": "markdown",
   "metadata": {},
   "source": [
    "# How to use the WEkEO Harmonized Data Access (HDA) API?"
   ]
  },
  {
   "cell_type": "markdown",
   "metadata": {},
   "source": [
    "[WEkEO](https://wekeo.copernicus.eu/) is the EU Copernicus DIAS (Data and Information Access Service) reference service for environmental data, virtual processing environments and skilled user support. WEkEO offers access to a variety of data, including all Copernicus services and a multitude of parameters sensored from Sentinel-1, Sentinel-2,  Sentinel-3, Sentinel-5P and SPOT satellites family. It further offers access to climate reanalysis and seasonal forecast data.\n",
    "\n",
    "The [Harmonised Data Access (HDA) API](https://help.wekeo.eu/en/articles/9515753-what-is-the-harmonized-data-access-hda-api), a REST interface, allows users to subset and download datasets from WEkEO.\n",
    "\n",
    "This notebook is a step-by-step guide on how to search for and download data from WEkEO using the `HDA API`, following these steps:\n",
    "\n",
    " - [1. Import the WEkEO HDA client](#import_hda)\n",
    " - [2. Configure the HDA API Authentication](#hda_auth)\n",
    " - [3. Search for datasets on WEkEO](#dataset_search)\n",
    " - [4. Create the data request](#create_request)\n",
    " - [5. Download data](#download_data)"
   ]
  },
  {
   "cell_type": "markdown",
   "metadata": {},
   "source": [
    "### <a id='import_hda'></a>1. Import the WEkEO HDA client"
   ]
  },
  {
   "cell_type": "markdown",
   "metadata": {},
   "source": [
    "The `hda` package provides a fully compliant Python 3 client that can be used to search and download products using the WEkEO Harmonized Data Access API.  \n",
    "The HDA is a RESTful interface allowing users to search and download WEkEO datasets.\n",
    "For more information, please check the [official documentation](https://hda.readthedocs.io/en/latest/index.html) and our [Help Center](https://help.wekeo.eu/en/collections/3530725-wekeo-data-download)."
   ]
  },
  {
   "cell_type": "markdown",
   "metadata": {},
   "source": [
    "If you are working in the WEkEO JupyterLab, the **HDA client is already installed in the `wekeolab` kernel**, so make sure it is selected on the top right and simply run the following cell:"
   ]
  },
  {
   "cell_type": "code",
   "execution_count": 2,
   "metadata": {},
   "outputs": [],
   "source": [
    "from hda import Client, Configuration"
   ]
  },
  {
   "cell_type": "markdown",
   "metadata": {},
   "source": [
    "*Note: if you're working in a local environment, you can install the `hda` package easily via PyPI or Mamba/Conda as shown [in this article](https://help.wekeo.eu/en/articles/6751608-how-to-use-the-hda-api-in-python#h_a309ecb279).*"
   ]
  },
  {
   "cell_type": "markdown",
   "metadata": {},
   "source": [
    "### <a id='hda_auth'></a>2. Configure the HDA API Authentication"
   ]
  },
  {
   "cell_type": "markdown",
   "metadata": {},
   "source": [
    "In order to download data using the HDA API, you need to provide your WEkEO credentials. You can do this in two ways:\n",
    "\n",
    "* **Option 1**: by creating a credentials file (*recommended, to be done only once*)\n",
    "* **Option 2**: by supplying your credentials directly in the script (*not recommended, but sometimes useful*)"
   ]
  },
  {
   "cell_type": "markdown",
   "metadata": {},
   "source": [
    "#### **Option 1: creating a credentials file (only once)**"
   ]
  },
  {
   "cell_type": "markdown",
   "metadata": {},
   "source": [
    "By default, the HDA API expects the configuration to be called `.hdarc`, and to reside in your home directory.  \n",
    "The easiest way to create the credentials file is to run the following cell and enter your WEkEO username and password:  "
   ]
  },
  {
   "cell_type": "code",
   "execution_count": null,
   "metadata": {},
   "outputs": [],
   "source": [
    "from pathlib import Path\n",
    "\n",
    "# Default location expected by hda package\n",
    "hdarc = Path(Path.home() / '.hdarc')\n",
    "\n",
    "# Create it only if it does not already exists\n",
    "if not hdarc.is_file():\n",
    "    import getpass\n",
    "    USERNAME = input('Enter your username: ')\n",
    "    PASSWORD = getpass.getpass('Enter your password: ')\n",
    "\n",
    "    with open(Path.home() / '.hdarc', 'w') as f:\n",
    "        f.write(f'user:{USERNAME}\\n')\n",
    "        f.write(f'password:{PASSWORD}\\n')"
   ]
  },
  {
   "cell_type": "markdown",
   "metadata": {},
   "source": [
    "*Note: if you don't have a WEkEO account yet, you can [register for free!](https://wekeo.copernicus.eu/register)*"
   ]
  },
  {
   "cell_type": "markdown",
   "metadata": {},
   "source": [
    "Now the HDA will recognize your WEkEO credentials automatically, and you can simply call the HDA client as follows:"
   ]
  },
  {
   "cell_type": "code",
   "execution_count": 2,
   "metadata": {},
   "outputs": [],
   "source": [
    "hda_client = Client()"
   ]
  },
  {
   "cell_type": "markdown",
   "metadata": {},
   "source": [
    "#### **Option 2: providing credentials directly (every time)**"
   ]
  },
  {
   "cell_type": "markdown",
   "metadata": {},
   "source": [
    "You can provide your credentials directly as follows, replacing both username and password:"
   ]
  },
  {
   "cell_type": "code",
   "execution_count": null,
   "metadata": {},
   "outputs": [],
   "source": [
    "conf = Configuration(user=\"username\", password=\"password\")\n",
    "hda_client = Client(config=conf)"
   ]
  },
  {
   "cell_type": "markdown",
   "metadata": {},
   "source": [
    "*Note: this method is convenient in the short term, but is not really recommended as you have to put your username and password in this notebook, and run the risk of accidentally sharing them. This method also requires you to authenticate on a notebook-by-notebook basis.*"
   ]
  },
  {
   "cell_type": "markdown",
   "metadata": {},
   "source": [
    "### <a id='dataset_search'></a>3. Search for datasets on WEkEO"
   ]
  },
  {
   "cell_type": "markdown",
   "metadata": {},
   "source": [
    "Once on the WEkEO [Expert Data Viewer](https://wekeo.copernicus.eu/data?view=viewer), click on the \"+\" icon from the Layers tab to open the Catalogue and search for your dataset of interest. You can use the free-text search bar (e.g. *`sentinel-3`*) and browse through the results. You can also use the filters on the left to refine your search and look by satellite plaform, sensor, Copernicus service, area (region of interest), as well as through a variety of flags.\n",
    "\n",
    "<img src='./img/WEkEO_catalogue.png' width='80%'></img>"
   ]
  },
  {
   "cell_type": "markdown",
   "metadata": {},
   "source": [
    "You can click on **Details** for the dataset you are interested in to open the dataset's page, including a description, temporal and spatial extents, and metadata.  \n",
    "For the purpose of this notebook, we will take the dataset `OLCI Level 1B Full Resolution - Sentinel-3`:\n",
    "\n",
    "<img src='./img/Sentinel_3_datasetID.png' width='50%'></img>"
   ]
  },
  {
   "cell_type": "markdown",
   "metadata": {},
   "source": [
    "The dataset's page provides the following information:\n",
    "- **Abstract**: containing a general description of the dataset\n",
    "- **Classification**: including the datasetID \n",
    "- **Resources**: such as a link to the Product Data Format Specification guide, and JSON metadata\n",
    "- **Contacts**: where you can find further information about the data source from its provider"
   ]
  },
  {
   "cell_type": "markdown",
   "metadata": {},
   "source": [
    "Click on **Add to map** to add the dataset to the Layers and visualize data on the map.  "
   ]
  },
  {
   "cell_type": "markdown",
   "metadata": {},
   "source": [
    "### <a id='create_request'></a>4. Create the data request"
   ]
  },
  {
   "cell_type": "markdown",
   "metadata": {},
   "source": [
    "The HDA API reads the data query from a JSON-like dictionary. Depending on the selected dataset, certain parameters are mandatory.  \n",
    "To avoid mistakes, it is **highly recommended to build the query from the [Expert Data Viewer](https://wekeo.copernicus.eu/data?view=viewer)**."
   ]
  },
  {
   "cell_type": "markdown",
   "metadata": {},
   "source": [
    "From the Layers tab, you can click on the **Subset and download** button to build the data request via Graphical User Interface:\n",
    "\n",
    "<img src='./img/download_button.png' width='20%'></img>"
   ]
  },
  {
   "cell_type": "markdown",
   "metadata": {},
   "source": [
    "Once you defined the download parameters, you can `(1)` click on **Show API request(s)** and `(2)` on **Copy**:\n",
    "\n",
    "<img src='./img/api_request.png' width='60%' />\n"
   ]
  },
  {
   "cell_type": "markdown",
   "metadata": {},
   "source": [
    "Then you can paste the request in a variable as follows:"
   ]
  },
  {
   "cell_type": "code",
   "execution_count": 3,
   "metadata": {},
   "outputs": [],
   "source": [
    "query = {\n",
    "  \"dataset_id\": \"EO:EUM:DAT:SENTINEL-3:OL_1_EFR___\",\n",
    "  \"startdate\": \"2025-05-12T00:00:00.000Z\",\n",
    "  \"enddate\": \"2025-05-14T23:59:59.999Z\",\n",
    "  \"bbox\": [\n",
    "    1.3287978665692197,\n",
    "    45.538598473683436,\n",
    "    5.158722327438545,\n",
    "    47.78018177390331\n",
    "  ],\n",
    "  \"type\": \"OL_1_EFR___\",\n",
    "  \"timeliness\": \"NT\",\n",
    "  \"itemsPerPage\": 200,\n",
    "  \"startIndex\": 0\n",
    "}"
   ]
  },
  {
   "cell_type": "markdown",
   "metadata": {},
   "source": [
    "The following cell is used to perform the search based on these parameters, and the results are stored in the `matches` variable:"
   ]
  },
  {
   "cell_type": "code",
   "execution_count": null,
   "metadata": {},
   "outputs": [],
   "source": [
    "# Ask the result for the query passed in parameter\n",
    "matches = hda_client.search(query)\n",
    "\n",
    "# List the results\n",
    "print(matches)"
   ]
  },
  {
   "cell_type": "markdown",
   "metadata": {},
   "source": [
    "### <a id='download_data'></a>6. Download data"
   ]
  },
  {
   "cell_type": "markdown",
   "metadata": {},
   "source": [
    "As a final step, you simply need to download the results of the `matches` variable:"
   ]
  },
  {
   "cell_type": "code",
   "execution_count": 6,
   "metadata": {
    "scrolled": true
   },
   "outputs": [
    {
     "name": "stderr",
     "output_type": "stream",
     "text": [
      "                                                   \r"
     ]
    }
   ],
   "source": [
    "matches.download()"
   ]
  },
  {
   "cell_type": "markdown",
   "metadata": {},
   "source": [
    "*Note: you can check [our article](https://help.wekeo.eu/en/articles/6751608-how-to-use-the-hda-api-in-python#h_80a0396d92) to download specific files of the results.*"
   ]
  },
  {
   "cell_type": "markdown",
   "metadata": {},
   "source": [
    "***"
   ]
  },
  {
   "cell_type": "markdown",
   "metadata": {},
   "source": [
    "<a href=\"https://github.com/wekeo/wekeo4data\" target=\"_blank\">View on GitHub</a> | [Contact the WEkEO User Support](https://wekeo.copernicus.eu/#help-support) | [WEkEO Help Center](https://help.wekeo.eu/en/)"
   ]
  }
 ],
 "metadata": {
  "author": "Hayley Evers-King",
  "deployment": {
   "wekeo": {
    "git": {
     "link": "https://github.com/wekeo/wekeo4data/blob/main/wekeo-hda/wekeo_harmonised_data_access_api.ipynb",
     "service_contact": "support@wekeo.eu",
     "service_provider": "WEkEO"
    },
    "jupyter": {
     "link": "https://jupyterhub.prod.wekeo2.eu/hub/user-redirect/lab/tree/public/wekeo4data/wekeo-hda/wekeo_harmonised_data_access_api.ipynb",
     "service_contact": "support@wekeo.eu",
     "service_provider": "WEkEO"
    }
   }
  },
  "description": "This notebook is a step-by-step guide on how to search for and download data from WEkEO using the HDA-API.",
  "image": "./img/img_02.png",
  "kernelspec": {
   "display_name": "wekeo",
   "language": "python",
   "name": "wekeo"
  },
  "language_info": {
   "codemirror_mode": {
    "name": "ipython",
    "version": 3
   },
   "file_extension": ".py",
   "mimetype": "text/x-python",
   "name": "python",
   "nbconvert_exporter": "python",
   "pygments_lexer": "ipython3",
   "version": "3.9.16"
  },
  "tags": {
   "data_provider": "EUMETSAT",
   "satellite": "Sentinel-3",
   "sensor": "OLCI",
   "subtheme": [
    "Water quality",
    "Ocean biogeochemistry"
   ],
   "theme": [
    "Marine",
    "Atmosphere",
    "Climate",
    "Land",
    "Machine Learning"
   ],
   "variable": "Top-of-atmosphere radiance"
  },
  "title": "WEkEO Harmonized Data Access (HDA)API - How-To",
  "vscode": {
   "interpreter": {
    "hash": "ddde1938f7416c1aaefae06c5b6a53ee5a029b92bc2d1ebda08e5b58492c1c39"
   }
  }
 },
 "nbformat": 4,
 "nbformat_minor": 4
}
